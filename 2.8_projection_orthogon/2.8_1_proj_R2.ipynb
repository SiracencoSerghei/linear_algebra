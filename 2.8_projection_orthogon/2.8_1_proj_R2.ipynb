{
 "cells": [
  {
   "cell_type": "code",
   "execution_count": null,
   "metadata": {},
   "outputs": [],
   "source": [
    "import numpy as np\n",
    "import matplotlib.pyplot as plt\n",
    "import math"
   ]
  },
  {
   "cell_type": "markdown",
   "metadata": {},
   "source": [
    "---\n",
    "# Projections in R^2\n",
    "---"
   ]
  },
  {
   "cell_type": "code",
   "execution_count": null,
   "metadata": {},
   "outputs": [],
   "source": [
    "\n",
    "# point b\n",
    "b = np.array([4,1])\n",
    "\n",
    "# line a\n",
    "a = np.array([ 2, 5 ])\n",
    "\n",
    "# beta\n",
    "beta = (a.T@b) / (a.T@a)\n",
    "\n",
    "# draw!\n",
    "plt.plot(b[0],b[1],'ko',label='b')\n",
    "plt.plot([0, a[0]],[0, a[1]],'b',label='a')\n",
    "\n",
    "# now plot projection line\n",
    "plt.plot([b[0], beta*a[0]],[b[1], beta*a[1]],'r--',label=r'b-$\\beta$a')\n",
    "plt.axis('square')\n",
    "plt.grid()\n",
    "plt.legend()\n",
    "plt.axis((-6, 6, -6, 6))\n",
    "\n",
    "plt.show()\n"
   ]
  }
 ],
 "metadata": {
  "language_info": {
   "name": "python"
  }
 },
 "nbformat": 4,
 "nbformat_minor": 2
}
