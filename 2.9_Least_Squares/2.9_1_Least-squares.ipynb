{
 "cells": [
  {
   "cell_type": "code",
   "execution_count": null,
   "metadata": {},
   "outputs": [],
   "source": [
    "import numpy as np\n",
    "import matplotlib.pyplot as plt\n",
    "from sympy import *\n",
    "import scipy.io as sio\n",
    "from mpl_toolkits.mplot3d import Axes3D"
   ]
  },
  {
   "cell_type": "markdown",
   "metadata": {},
   "source": [
    "---\n",
    "# Least-squares via row-reduction\n",
    "---\n"
   ]
  },
  {
   "cell_type": "code",
   "execution_count": null,
   "metadata": {},
   "outputs": [],
   "source": [
    "m = 10\n",
    "n = 3\n",
    "\n",
    "# create data\n",
    "X = np.random.randn(m,n) # \"design matrix\"\n",
    "y = np.random.randn(m,1) # \"outcome measures (data)\"\n",
    "\n",
    "np.shape(y)"
   ]
  },
  {
   "cell_type": "code",
   "execution_count": null,
   "metadata": {},
   "outputs": [],
   "source": [
    "# try directly applying RREF\n",
    "Xy = Matrix( np.concatenate([X,y],axis=1) )\n",
    "print( Xy.rref() )"
   ]
  },
  {
   "cell_type": "code",
   "execution_count": null,
   "metadata": {},
   "outputs": [],
   "source": [
    "# now reapply to the normal equations\n",
    "XtX = X.T@X\n",
    "Xty = X.T@y\n",
    "normEQ = Matrix( np.concatenate( [XtX,Xty],axis=1 ) )\n",
    "\n",
    "Xsol = normEQ.rref()\n",
    "Xsol = Xsol[0]\n",
    "beta = Xsol[:,-1]\n",
    "\n",
    "print(np.array(Xsol)), print(' ')\n",
    "print(beta), print(' ')\n",
    "\n",
    "# compare to left-inverse\n",
    "beta2 = np.linalg.inv(XtX) @ Xty\n",
    "print(beta2), print(' ')\n",
    "\n",
    "# and with the python solver\n",
    "beta3 = np.linalg.solve(XtX,Xty)\n",
    "print(beta3)\n"
   ]
  }
 ],
 "metadata": {
  "language_info": {
   "name": "python"
  }
 },
 "nbformat": 4,
 "nbformat_minor": 2
}
