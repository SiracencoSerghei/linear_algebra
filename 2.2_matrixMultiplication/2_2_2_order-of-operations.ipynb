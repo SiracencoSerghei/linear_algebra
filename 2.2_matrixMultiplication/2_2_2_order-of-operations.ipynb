{
 "cells": [
  {
   "cell_type": "code",
   "execution_count": 1,
   "metadata": {},
   "outputs": [],
   "source": [
    "import numpy as np\n",
    "import matplotlib.pyplot as plt\n",
    "import math"
   ]
  },
  {
   "cell_type": "markdown",
   "metadata": {},
   "source": [
    "---\n",
    "# VIDEO: Order-of-operations on matrices\n",
    "---"
   ]
  },
  {
   "cell_type": "markdown",
   "metadata": {},
   "source": [
    "The @ symbol in Python is used as the matrix multiplication operator.\n",
    " can use the @ operator instead of calling a function like np.dot() or np.matmul()."
   ]
  },
  {
   "cell_type": "code",
   "execution_count": 6,
   "metadata": {},
   "outputs": [
    {
     "name": "stdout",
     "output_type": "stream",
     "text": [
      "[[ 3.45793891 -0.83803562  3.3243401 ]\n",
      " [-1.91708735  0.58029613 -2.43825969]\n",
      " [ 3.7253381  -0.79081447  4.15242358]]\n",
      " \n",
      "[[ 3.45793891 -0.83803562  3.3243401 ]\n",
      " [-1.91708735  0.58029613 -2.43825969]\n",
      " [ 3.7253381  -0.79081447  4.15242358]]\n",
      " \n",
      "[[ 3.45793891 -0.83803562  3.3243401 ]\n",
      " [-1.91708735  0.58029613 -2.43825969]\n",
      " [ 3.7253381  -0.79081447  4.15242358]]\n",
      " \n",
      "[[ 4.44089210e-16 -1.11022302e-16 -4.44089210e-16]\n",
      " [ 4.44089210e-16  0.00000000e+00 -4.44089210e-16]\n",
      " [ 4.44089210e-16  0.00000000e+00  0.00000000e+00]]\n"
     ]
    }
   ],
   "source": [
    "\n",
    "n = 3\n",
    "L = np.random.randn(n,n)\n",
    "I = np.random.randn(n,n)\n",
    "V = np.random.randn(n,n)\n",
    "E = np.random.randn(n,n)\n",
    "\n",
    "# result of \"forward\" multiplication and then transpose\n",
    "res1 = np.matrix.transpose( L @ I @ V @ E )\n",
    "print(res1), print(' ')\n",
    "\n",
    "# result of \"flipped\" multiplication of transposed matrices\n",
    "res2 = E.T @ V.T @ I.T @ L.T\n",
    "print(res2), print(' ')\n",
    "\n",
    "# test equality by subtracting (ignore possible computer rounding errors)\n",
    "print(res1-res2)\n"
   ]
  }
 ],
 "metadata": {
  "kernelspec": {
   "display_name": "Python 3",
   "language": "python",
   "name": "python3"
  },
  "language_info": {
   "codemirror_mode": {
    "name": "ipython",
    "version": 3
   },
   "file_extension": ".py",
   "mimetype": "text/x-python",
   "name": "python",
   "nbconvert_exporter": "python",
   "pygments_lexer": "ipython3",
   "version": "3.9.7"
  }
 },
 "nbformat": 4,
 "nbformat_minor": 2
}
