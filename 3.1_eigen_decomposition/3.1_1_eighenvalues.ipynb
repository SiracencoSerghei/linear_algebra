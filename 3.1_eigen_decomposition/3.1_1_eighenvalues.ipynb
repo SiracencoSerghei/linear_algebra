{
  "cells": [
    {
      "cell_type": "markdown",
      "metadata": {
        "id": "view-in-github",
        "colab_type": "text"
      },
      "source": [
        "<a href=\"https://colab.research.google.com/github/SiracencoSerghei/linear_algebra/blob/main/3.1_eigen_decomposition/3.1_1_eighenvalues.ipynb\" target=\"_parent\"><img src=\"https://colab.research.google.com/assets/colab-badge.svg\" alt=\"Open In Colab\"/></a>"
      ]
    },
    {
      "cell_type": "code",
      "execution_count": 1,
      "metadata": {
        "id": "05tfXk4pMIT8"
      },
      "outputs": [],
      "source": [
        "import numpy as np\n",
        "import matplotlib.pyplot as plt"
      ]
    },
    {
      "cell_type": "markdown",
      "metadata": {
        "id": "4SgJFLIGMIT9"
      },
      "source": [
        "---\n",
        "# Finding eigenvalues\n",
        "---"
      ]
    },
    {
      "cell_type": "code",
      "execution_count": 36,
      "metadata": {
        "id": "n-riqLLWMIT-",
        "outputId": "df134c1d-1b7f-4c2e-bf18-22467423e76b",
        "colab": {
          "base_uri": "https://localhost:8080/",
          "height": 452
        }
      },
      "outputs": [
        {
          "output_type": "stream",
          "name": "stdout",
          "text": [
            "[-1.  6.]\n"
          ]
        },
        {
          "output_type": "display_data",
          "data": {
            "text/plain": [
              "<Figure size 640x480 with 1 Axes>"
            ],
            "image/png": "[encoded data removed]"
          },
          "metadata": {}
        }
      ],
      "source": [
        "# matrix\n",
        "A = [ [1,5], [2,4] ]\n",
        "\n",
        "# extract the eigenvalues\n",
        "eigvals = np.linalg.eig(A)\n",
        "\n",
        "# note that the eigenvalues are in the first element of eigvals:\n",
        "print(eigvals[0])\n",
        "\n",
        "\n",
        "# specify two vectors\n",
        "v1 = np.array([ 1,1 ])    # is an eigenvector!\n",
        "v2 = np.random.randn(2) # unlikely to be an eigenvector\n",
        "v2 = v2/np.linalg.norm(v2)# unit length for convenience\n",
        "\n",
        "# v1 = np.array([0,1])\n",
        "# v2 = np.array([1,0])\n",
        "\n",
        "# compute Av\n",
        "Av1 = A@v1\n",
        "Av2 = A@v2\n",
        "\n",
        "\n",
        "# plot the vectors and Av\n",
        "plt.plot([0,v1[0]] ,[0,v1[1]],'r')\n",
        "plt.plot([0,Av1[0]],[0,Av1[1]],'r--')\n",
        "plt.plot([0,v2[0]] ,[0,v2[1]],'k')\n",
        "plt.plot([0,Av2[0]],[0,Av2[1]],'k--')\n",
        "\n",
        "plt.axis([-8,8,-8,8])\n",
        "plt.show()"
      ]
    },
    {
      "cell_type": "code",
      "execution_count": 37,
      "metadata": {
        "id": "npB2vZs4MIT-",
        "outputId": "526c490b-6cd1-4e71-9dfb-b76ff1455d4b",
        "colab": {
          "base_uri": "https://localhost:8080/"
        }
      },
      "outputs": [
        {
          "output_type": "stream",
          "name": "stdout",
          "text": [
            "EigResult(eigenvalues=array([-3., -1.,  3.]), eigenvectors=array([[ 3.80989987e-16,  5.77350269e-01, -5.77350269e-01],\n",
            "       [ 8.32050294e-01, -5.77350269e-01, -5.77350269e-01],\n",
            "       [ 5.54700196e-01, -5.77350269e-01,  5.77350269e-01]]))\n",
            "[-3. -1.  3.]\n"
          ]
        }
      ],
      "source": [
        "# confirm eigenvalues for a 3x3 matrix\n",
        "\n",
        "# specify matrix\n",
        "A = [ [-2,  2, -3 ],\n",
        "      [-4,  1, -6 ],\n",
        "      [-1, -2,  0 ]  ]\n",
        "\n",
        "# get eigenvalues\n",
        "evals = np.linalg.eig(A)\n",
        "print(evals)\n",
        "print(evals[0])\n"
      ]
    }
  ],
  "metadata": {
    "language_info": {
      "name": "python"
    },
    "colab": {
      "provenance": [],
      "include_colab_link": true
    },
    "kernelspec": {
      "name": "python3",
      "display_name": "Python 3"
    }
  },
  "nbformat": 4,
  "nbformat_minor": 0
}