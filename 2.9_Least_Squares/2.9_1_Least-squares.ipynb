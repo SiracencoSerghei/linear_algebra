{
  "cells": [
    {
      "cell_type": "markdown",
      "metadata": {
        "id": "view-in-github",
        "colab_type": "text"
      },
      "source": [
        "<a href=\"https://colab.research.google.com/github/SiracencoSerghei/linear_algebra/blob/main/2.9_Least_Squares/2.9_1_Least-squares.ipynb\" target=\"_parent\"><img src=\"https://colab.research.google.com/assets/colab-badge.svg\" alt=\"Open In Colab\"/></a>"
      ]
    },
    {
      "cell_type": "code",
      "execution_count": 1,
      "metadata": {
        "id": "NHZ_vvfigZ-W"
      },
      "outputs": [],
      "source": [
        "import numpy as np\n",
        "import matplotlib.pyplot as plt\n",
        "from sympy import *\n",
        "import scipy.io as sio\n",
        "from mpl_toolkits.mplot3d import Axes3D"
      ]
    },
    {
      "cell_type": "markdown",
      "metadata": {
        "id": "vyIusW_YgZ-W"
      },
      "source": [
        "---\n",
        "# Least-squares via row-reduction\n",
        "---\n"
      ]
    },
    {
      "cell_type": "code",
      "execution_count": 2,
      "metadata": {
        "id": "CghdCfLXgZ-X",
        "outputId": "11fc9abc-a93d-4fd6-f4d1-3761431d74ed",
        "colab": {
          "base_uri": "https://localhost:8080/"
        }
      },
      "outputs": [
        {
          "output_type": "execute_result",
          "data": {
            "text/plain": [
              "(10, 1)"
            ]
          },
          "metadata": {},
          "execution_count": 2
        }
      ],
      "source": [
        "m = 10\n",
        "n = 3\n",
        "\n",
        "# create data\n",
        "X = np.random.randn(m,n) # \"design matrix\"\n",
        "y = np.random.randn(m,1) # \"outcome measures (data)\"\n",
        "\n",
        "np.shape(y)"
      ]
    },
    {
      "cell_type": "code",
      "execution_count": 3,
      "metadata": {
        "id": "rbVmfTsjgZ-X",
        "outputId": "f786146b-d570-47d3-8043-4b015f29114f",
        "colab": {
          "base_uri": "https://localhost:8080/"
        }
      },
      "outputs": [
        {
          "output_type": "stream",
          "name": "stdout",
          "text": [
            "(Matrix([\n",
            "[1, 0, 0, 0],\n",
            "[0, 1, 0, 0],\n",
            "[0, 0, 1, 0],\n",
            "[0, 0, 0, 1],\n",
            "[0, 0, 0, 0],\n",
            "[0, 0, 0, 0],\n",
            "[0, 0, 0, 0],\n",
            "[0, 0, 0, 0],\n",
            "[0, 0, 0, 0],\n",
            "[0, 0, 0, 0]]), (0, 1, 2, 3))\n"
          ]
        }
      ],
      "source": [
        "# try directly applying RREF\n",
        "Xy = Matrix( np.concatenate([X,y],axis=1) )\n",
        "print( Xy.rref() )"
      ]
    },
    {
      "cell_type": "code",
      "execution_count": 4,
      "metadata": {
        "id": "mQfeS3R-gZ-X",
        "outputId": "5d98ac27-5041-426d-d968-a39ca745190d",
        "colab": {
          "base_uri": "https://localhost:8080/"
        }
      },
      "outputs": [
        {
          "output_type": "stream",
          "name": "stdout",
          "text": [
            "[[1 0 0 -0.0989478302442938]\n",
            " [0 1 0 -0.138725519802762]\n",
            " [0 0 1 0.463743765385287]]\n",
            " \n",
            "Matrix([[-0.0989478302442938], [-0.138725519802762], [0.463743765385287]])\n",
            " \n",
            "[[-0.09894783]\n",
            " [-0.13872552]\n",
            " [ 0.46374377]]\n",
            " \n",
            "[[-0.09894783]\n",
            " [-0.13872552]\n",
            " [ 0.46374377]]\n"
          ]
        }
      ],
      "source": [
        "# now reapply to the normal equations\n",
        "XtX = X.T@X\n",
        "Xty = X.T@y\n",
        "normEQ = Matrix( np.concatenate( [XtX,Xty],axis=1 ) )\n",
        "\n",
        "Xsol = normEQ.rref()\n",
        "Xsol = Xsol[0]\n",
        "beta = Xsol[:,-1]\n",
        "\n",
        "print(np.array(Xsol)), print(' ')\n",
        "print(beta), print(' ')\n",
        "\n",
        "# compare to left-inverse\n",
        "beta2 = np.linalg.inv(XtX) @ Xty\n",
        "print(beta2), print(' ')\n",
        "\n",
        "# and with the python solver\n",
        "beta3 = np.linalg.solve(XtX,Xty)\n",
        "print(beta3)\n"
      ]
    }
  ],
  "metadata": {
    "language_info": {
      "name": "python"
    },
    "colab": {
      "provenance": [],
      "include_colab_link": true
    },
    "kernelspec": {
      "name": "python3",
      "display_name": "Python 3"
    }
  },
  "nbformat": 4,
  "nbformat_minor": 0
}