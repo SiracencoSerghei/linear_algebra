{
 "cells": [
  {
   "cell_type": "code",
   "execution_count": 5,
   "metadata": {},
   "outputs": [],
   "source": [
    "import numpy as np"
   ]
  },
  {
   "cell_type": "code",
   "execution_count": null,
   "metadata": {},
   "outputs": [],
   "source": [
    "# A zoo of matrices"
   ]
  },
  {
   "cell_type": "code",
   "execution_count": 15,
   "metadata": {},
   "outputs": [
    {
     "name": "stdout",
     "output_type": "stream",
     "text": [
      "[[-0.35128287  1.57114037]\n",
      " [-0.75125105 -0.12921057]\n",
      " [-0.71172998  0.60481509]]\n",
      " \n",
      "[[ 0.59901172  0.87469648  0.33979276 -0.52366257]\n",
      " [-1.02601636 -0.21927848  2.02392343 -0.16374359]\n",
      " [ 2.12246596  0.1002855  -0.49651671  0.04796226]]\n",
      " \n",
      "[[-0.35128287  1.57114037  0.59901172  0.87469648  0.33979276 -0.52366257]\n",
      " [-0.75125105 -0.12921057 -1.02601636 -0.21927848  2.02392343 -0.16374359]\n",
      " [-0.71172998  0.60481509  2.12246596  0.1002855  -0.49651671  0.04796226]]\n",
      " \n"
     ]
    },
    {
     "data": {
      "text/plain": [
       "(None, None)"
      ]
     },
     "execution_count": 15,
     "metadata": {},
     "output_type": "execute_result"
    }
   ],
   "source": [
    "## square vs rectangular\n",
    "S = np.random.randn(5, 5)\n",
    "R = np.random.randn(5, 2) # 5 rows, 2 columns\n",
    "# print(S), print(' ')\n",
    "# print(R)\n",
    "\n",
    "## identity\n",
    "# I = np.eye(3)\n",
    "# print(I), print(' ')\n",
    "\n",
    "## zeros\n",
    "# Z = np.zeros((4,4))\n",
    "# print(Z), print(' ')\n",
    "\n",
    "## diagonal\n",
    "# D = np.diag([1, 2, 3, 5, 2])\n",
    "# print(D), print(' ')\n",
    "\n",
    "## create triangular matrix from full matricies\n",
    "# U = np.triu(S)\n",
    "# L = np.tril(S)\n",
    "# print(U), print(' ')\n",
    "# print(L), print(' ')\n",
    "\n",
    "## concatenate matricies (sizes must match!!!)\n",
    "A = np.random.randn(3, 2)\n",
    "B = np.random.randn(3, 4)\n",
    "C = np.concatenate((A, B), axis=1)\n",
    "print(A), print(' ')\n",
    "print(B), print(' ')\n",
    "print(C), print(' ')"
   ]
  }
 ],
 "metadata": {
  "kernelspec": {
   "display_name": "Python 3",
   "language": "python",
   "name": "python3"
  },
  "language_info": {
   "codemirror_mode": {
    "name": "ipython",
    "version": 3
   },
   "file_extension": ".py",
   "mimetype": "text/x-python",
   "name": "python",
   "nbconvert_exporter": "python",
   "pygments_lexer": "ipython3",
   "version": "3.9.7"
  }
 },
 "nbformat": 4,
 "nbformat_minor": 2
}
