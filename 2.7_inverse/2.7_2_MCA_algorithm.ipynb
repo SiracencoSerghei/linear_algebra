{
  "cells": [
    {
      "cell_type": "markdown",
      "metadata": {
        "id": "view-in-github",
        "colab_type": "text"
      },
      "source": [
        "<a href=\"https://colab.research.google.com/github/SiracencoSerghei/linear_algebra/blob/main/2.7_inverse/2.7_2_MCA_algorithm.ipynb\" target=\"_parent\"><img src=\"https://colab.research.google.com/assets/colab-badge.svg\" alt=\"Open In Colab\"/></a>"
      ]
    },
    {
      "cell_type": "code",
      "execution_count": 2,
      "metadata": {
        "id": "jnPiPmY49VVm"
      },
      "outputs": [],
      "source": [
        "import numpy as np\n",
        "from sympy import *\n",
        "import matplotlib.pyplot as plt"
      ]
    },
    {
      "cell_type": "markdown",
      "source": [
        "---\n",
        "# Code challenge: Implement the MCA algorithm!\n",
        "---"
      ],
      "metadata": {
        "id": "irSdope69W2v"
      }
    },
    {
      "cell_type": "code",
      "source": [
        "# MCA algorithm in code !!!\n",
        "# then compute using inv() and compare to MCA\n",
        "\n",
        "# Step 1: Define the size of the matrix and generate a random matrix A\n",
        "m = 4  # The matrix is m x m (4x4 in this case)\n",
        "A = np.random.randn(m, m)  # Generate a random 4x4 matrix with elements from a normal distribution\n",
        "print(A), print(' ')\n",
        "\n",
        "# Step 2: Initialize matrices to store the minors and the cofactor signs\n",
        "minors = np.zeros((m, m))  # Matrix to store the minors of A, initially filled with zeros\n",
        "H = np.zeros((m, m))       # Matrix to store the signs for the cofactors, also initially filled with zeros\n",
        "\n",
        "# Step 3: Compute the minors and the cofactor signs\n",
        "for i in range(m):        # Loop over each row of the matrix A\n",
        "  for j in range(m):      # Loop over each column of the matrix A\n",
        "\n",
        "    # Create boolean arrays to select rows and columns\n",
        "    rows = [True] * m     # Initialize an array to select all rows\n",
        "    rows[i] = False       # Exclude the i-th row by setting it to False\n",
        "\n",
        "    cols = [True] * m     # Initialize an array to select all columns\n",
        "    cols[j] = False       # Exclude the j-th column by setting it to False\n",
        "\n",
        "    # Compute the determinant of the submatrix obtained by removing the i-th row and j-th column\n",
        "    minors[i, j] = np.linalg.det(A[rows, :][:, cols])\n",
        "\n",
        "    # Compute the sign for the cofactor (alternating signs pattern)\n",
        "    H[i, j] = (-1)**(i + j)\n",
        "\n",
        "print(f'{minors = }')\n",
        "print(f'{H = }'), print(' ')\n",
        "# Step 4: Compute the cofactor matrix by multiplying the minors by their corresponding signs\n",
        "C = H * minors\n",
        "\n",
        "# Step 5: Compute the adjugate matrix by taking the transpose of the cofactor matrix\n",
        "Ainv = C.T / np.linalg.det(A)  # The inverse is the adjugate divided by the determinant of A\n",
        "print(A @ Ainv), print(' ')    # Print the product of A and its inverse (should be close to the identity matrix)\n",
        "\n",
        "# Step 6: Compare the result with the built-in numpy function for matrix inversion\n",
        "Ainv2 = np.linalg.inv(A)       # Compute the inverse using numpy's built-in function\n",
        "print(Ainv - Ainv2), print(' ')  # Print the difference between the MCA result and the numpy result (should be close to zero)\n"
      ],
      "metadata": {
        "id": "6v8w6kn09icK",
        "outputId": "71c71665-991b-400a-f22e-b4d5cb032c7e",
        "colab": {
          "base_uri": "https://localhost:8080/"
        }
      },
      "execution_count": 10,
      "outputs": [
        {
          "output_type": "stream",
          "name": "stdout",
          "text": [
            "[[ 0.38616297  0.11794826 -1.20230561 -1.33759176]\n",
            " [-0.01294222  1.71616001  0.71537203  1.38241836]\n",
            " [ 1.54894518 -0.47103238  1.31689363 -0.19900032]\n",
            " [-1.96678201 -0.27018357  1.50302551  1.00558609]]\n",
            " \n",
            "minors = array([[ 2.67639425,  5.94365447, -3.8538112 , -9.39788543],\n",
            "       [ 0.02839986, -4.54945624,  1.45772444,  0.90091976],\n",
            "       [-1.34504122,  0.87279355, -4.02797003, -3.15529858],\n",
            "       [-3.33290186, -1.82442618,  3.91931476,  4.3242413 ]])\n",
            "H = array([[ 1., -1.,  1., -1.],\n",
            "       [-1.,  1., -1.,  1.],\n",
            "       [ 1., -1.,  1., -1.],\n",
            "       [-1.,  1., -1.,  1.]])\n",
            " \n",
            "[[ 1.00000000e+00 -2.53183694e-17 -2.69844999e-17  1.13866281e-16]\n",
            " [-7.23679149e-16  1.00000000e+00  3.48920681e-17 -4.97229969e-17]\n",
            " [ 2.10156855e-16  6.07029633e-18  1.00000000e+00  1.51759167e-16]\n",
            " [-5.14476674e-16  1.02505296e-17  9.44493001e-17  1.00000000e+00]]\n",
            " \n",
            "[[ 5.55111512e-17  1.08420217e-17 -5.55111512e-17  1.11022302e-16]\n",
            " [-4.44089210e-16 -1.11022302e-16  0.00000000e+00 -1.11022302e-16]\n",
            " [-2.22044605e-16 -2.77555756e-17 -1.11022302e-16 -2.22044605e-16]\n",
            " [ 0.00000000e+00  6.93889390e-17  1.11022302e-16  1.11022302e-16]]\n",
            " \n"
          ]
        },
        {
          "output_type": "execute_result",
          "data": {
            "text/plain": [
              "(None, None)"
            ]
          },
          "metadata": {},
          "execution_count": 10
        }
      ]
    }
  ],
  "metadata": {
    "language_info": {
      "name": "python"
    },
    "colab": {
      "provenance": [],
      "include_colab_link": true
    },
    "kernelspec": {
      "name": "python3",
      "display_name": "Python 3"
    }
  },
  "nbformat": 4,
  "nbformat_minor": 0
}