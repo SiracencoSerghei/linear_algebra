{
 "cells": [
  {
   "cell_type": "code",
   "execution_count": null,
   "metadata": {},
   "outputs": [],
   "source": [
    "import numpy as np\n",
    "import matplotlib.pyplot as plt\n",
    "import scipy"
   ]
  },
  {
   "cell_type": "markdown",
   "metadata": {},
   "source": [
    "---\n",
    "# Spectral theory of matrices\n",
    "---"
   ]
  },
  {
   "cell_type": "code",
   "execution_count": null,
   "metadata": {},
   "outputs": [],
   "source": [
    "# matrix sizes\n",
    "m = 40\n",
    "n = 30\n",
    "\n",
    "# define a 2D Gaussian for smoothing\n",
    "k = int( (m+n)/4 )\n",
    "xx = np.linspace(-3,3,k)\n",
    "[X,Y] = np.meshgrid(xx,xx)\n",
    "g2d = np.exp(-(X**2 + Y**2) / (k/8))\n",
    "\n",
    "# matrix\n",
    "A = scipy.signal.convolve2d(np.random.randn(m,n),g2d,'same')\n",
    "\n",
    "plt.imshow(A)\n",
    "plt.show()"
   ]
  },
  {
   "cell_type": "code",
   "execution_count": null,
   "metadata": {},
   "outputs": [],
   "source": [
    "# SVD (remember that V comes out transposed)\n",
    "U,S,V = np.linalg.svd(A)\n",
    "\n",
    "\n",
    "# show the constituent matrices\n",
    "fig = plt.subplots(1,figsize=(10,6))\n",
    "\n",
    "plt.subplot(241)\n",
    "plt.imshow(A)\n",
    "plt.title('A')\n",
    "\n",
    "plt.subplot(242)\n",
    "plt.imshow(U)\n",
    "plt.title('U')\n",
    "\n",
    "plt.subplot(243)\n",
    "plt.imshow(np.diag(S))\n",
    "plt.title('$\\Sigma$')\n",
    "\n",
    "plt.subplot(244)\n",
    "plt.imshow(V)\n",
    "plt.title('V$^T$')\n",
    "\n",
    "plt.subplot(212)\n",
    "plt.plot(S,'ks-')\n",
    "plt.xlabel('Component number')\n",
    "plt.ylabel('$\\sigma$')\n",
    "plt.title('\"Scree plot\" of singular values')\n",
    "\n",
    "plt.show()"
   ]
  },
  {
   "cell_type": "code",
   "execution_count": null,
   "metadata": {},
   "outputs": [],
   "source": [
    "rank1mats = np.zeros((5,m,n))\n",
    "\n",
    "for i in range(0,5):\n",
    "    \n",
    "    # create rank1 matrix\n",
    "    rank1mats[i,:,:] = np.outer( U[:,i]*S[i],V[i,:] )\n",
    "    \n",
    "    plt.subplot2grid((2,5),(0,i))\n",
    "    plt.imshow(rank1mats[i,:,:],vmin=-5,vmax=5)\n",
    "    plt.axis('off')\n",
    "    plt.title('C.%d' %(i+1))\n",
    "    \n",
    "    plt.subplot2grid((2,5),(1,i))\n",
    "    imdat = np.sum(rank1mats[:i+1,:,:],axis=0)\n",
    "    plt.imshow(imdat,vmin=-5,vmax=5)\n",
    "    plt.axis('off')\n",
    "    plt.title('Cs 1:%d' %(i+1))\n",
    "\n",
    "plt.show()\n",
    "\n",
    "# then show the original\n",
    "plt.imshow(A,vmin=-5,vmax=5)\n",
    "plt.show()"
   ]
  }
 ],
 "metadata": {
  "language_info": {
   "name": "python"
  }
 },
 "nbformat": 4,
 "nbformat_minor": 2
}
