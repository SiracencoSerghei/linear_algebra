{
  "cells": [
    {
      "cell_type": "markdown",
      "metadata": {
        "id": "view-in-github",
        "colab_type": "text"
      },
      "source": [
        "<a href=\"https://colab.research.google.com/github/SiracencoSerghei/linear_algebra/blob/main/2.5_systems/2.5_2_RREF.ipynb\" target=\"_parent\"><img src=\"https://colab.research.google.com/assets/colab-badge.svg\" alt=\"Open In Colab\"/></a>"
      ]
    },
    {
      "cell_type": "code",
      "execution_count": 5,
      "metadata": {
        "id": "efpLQUe-47xh"
      },
      "outputs": [],
      "source": [
        "import numpy as np\n",
        "import matplotlib.pyplot as plt\n",
        "import math\n",
        "from mpl_toolkits.mplot3d import Axes3D\n",
        "from IPython import display\n",
        "import time\n",
        "import sympy"
      ]
    },
    {
      "cell_type": "markdown",
      "source": [
        "---\n",
        "# Reduced Row Echelon Form (RREF)\n",
        "---"
      ],
      "metadata": {
        "id": "pHZSCFYt5JLe"
      }
    },
    {
      "cell_type": "code",
      "source": [
        "# Create some random matrices using sympy\n",
        "# because the numpy dosn't have method rref()\n",
        "A = sympy.Matrix(np.random.randn(4, 4))\n",
        "B = sympy.Matrix(np.random.randn(4, 3))\n",
        "\n",
        "# Compute RREF\n",
        "rrefA = A.rref()\n",
        "rrefB = B.rref()\n",
        "\n",
        "print(rrefA)\n",
        "print(rrefB)\n",
        "\n",
        "# Print out the matrix and its RREF\n",
        "print(\"Original Matrix A:\\n\", np.array(A), \"\\n\")\n",
        "print(\"RREF of Matrix A:\\n\", np.array(rrefA[0]), \"\\n\")\n",
        "\n",
        "print(\"Original Matrix B:\\n\", np.array(B), \"\\n\")\n",
        "print(\"RREF of Matrix B:\\n\", np.array(rrefB[0]))"
      ],
      "metadata": {
        "id": "_KDj4jak5SNe",
        "outputId": "8a18ef5b-e27e-490d-f766-8ea04c621229",
        "colab": {
          "base_uri": "https://localhost:8080/"
        }
      },
      "execution_count": 12,
      "outputs": [
        {
          "output_type": "stream",
          "name": "stdout",
          "text": [
            "(Matrix([\n",
            "[1, 0, 0, 0],\n",
            "[0, 1, 0, 0],\n",
            "[0, 0, 1, 0],\n",
            "[0, 0, 0, 1]]), (0, 1, 2, 3))\n",
            "(Matrix([\n",
            "[1, 0, 0],\n",
            "[0, 1, 0],\n",
            "[0, 0, 1],\n",
            "[0, 0, 0]]), (0, 1, 2))\n",
            "Original Matrix A:\n",
            " [[0.169289581714553 -0.435651508241546 1.43571179510589 2.07334230235915]\n",
            " [0.165029685633130 -1.68008725943733 2.17874738485114 -2.34587293829419]\n",
            " [-1.35021639819015 0.804069793752352 -0.886702506907874\n",
            "  0.592637717099772]\n",
            " [-0.998124301070390 1.35659595731957 1.59052837505579 1.61825041170547]] \n",
            "\n",
            "RREF of Matrix A:\n",
            " [[1 0 0 0]\n",
            " [0 1 0 0]\n",
            " [0 0 1 0]\n",
            " [0 0 0 1]] \n",
            "\n",
            "Original Matrix B:\n",
            " [[0.0542312128087639 0.990079995437822 -0.186141941632260]\n",
            " [-1.02127487133186 -1.84624894347826 -0.0747330592052304]\n",
            " [0.195647026836827 -0.601688070335025 -0.0352025086349062]\n",
            " [-0.148236553489164 1.51703309242094 -0.297908081898847]] \n",
            "\n",
            "RREF of Matrix B:\n",
            " [[1 0 0]\n",
            " [0 1 0]\n",
            " [0 0 1]\n",
            " [0 0 0]]\n"
          ]
        }
      ]
    },
    {
      "cell_type": "markdown",
      "source": [
        "---\n",
        "# Code challenge: RREF of matricies with different sizes and ranks (of random matricies)\n",
        "---"
      ],
      "metadata": {
        "id": "L0g1sfxs9b6X"
      }
    },
    {
      "cell_type": "code",
      "source": [
        "# square\n",
        "# reqtangular (tall, wide)\n",
        "# linear dependencies (on columns, rows)\n",
        "\n",
        "# square\n",
        "m = 5\n",
        "n = 5\n",
        "A = np.random.randn(m,n)\n",
        "\n",
        "# Add linear dependency\n",
        "A[:,0] = A[:,1]\n",
        "\n",
        "print(np.array(sympy.Matrix(A).rref()[0]))\n",
        "print(' ')\n",
        "print(np.array(sympy.Matrix(A).rref()[1]))\n"
      ],
      "metadata": {
        "id": "nkLuCmn79pDf",
        "outputId": "7d649482-545b-4794-889f-f8f075a1f534",
        "colab": {
          "base_uri": "https://localhost:8080/"
        }
      },
      "execution_count": 19,
      "outputs": [
        {
          "output_type": "stream",
          "name": "stdout",
          "text": [
            "[[1 1.00000000000000 0 0 0]\n",
            " [0 0 1 0 0]\n",
            " [0 0 0 1 0]\n",
            " [0 0 0 0 1]\n",
            " [0 0 0 0 0]]\n",
            " \n",
            "[0 2 3 4]\n"
          ]
        }
      ]
    }
  ],
  "metadata": {
    "kernelspec": {
      "display_name": "Python 3",
      "language": "python",
      "name": "python3"
    },
    "language_info": {
      "codemirror_mode": {
        "name": "ipython",
        "version": 3
      },
      "file_extension": ".py",
      "mimetype": "text/x-python",
      "name": "python",
      "nbconvert_exporter": "python",
      "pygments_lexer": "ipython3",
      "version": "3.9.7"
    },
    "colab": {
      "provenance": [],
      "include_colab_link": true
    }
  },
  "nbformat": 4,
  "nbformat_minor": 0
}