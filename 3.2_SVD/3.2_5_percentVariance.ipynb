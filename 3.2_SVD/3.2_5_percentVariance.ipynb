{
 "cells": [
  {
   "cell_type": "code",
   "execution_count": null,
   "metadata": {},
   "outputs": [],
   "source": [
    "import numpy as np\n",
    "import matplotlib.pyplot as plt\n",
    "import scipy.signal"
   ]
  },
  {
   "cell_type": "markdown",
   "metadata": {},
   "source": [
    "---\n",
    "# Convert singular values to percent variance\n",
    "---"
   ]
  },
  {
   "cell_type": "code",
   "execution_count": null,
   "metadata": {},
   "outputs": [],
   "source": [
    "# matrix sizes\n",
    "m = 40\n",
    "n = 30\n",
    "\n",
    "# define a 2D Gaussian for smoothing\n",
    "k = int( (m+n)/4 )\n",
    "xx = np.linspace(-3,3,k)\n",
    "[X,Y] = np.meshgrid(xx,xx)\n",
    "g2d = np.exp(-(X**2 + Y**2) / (k/8))\n",
    "\n",
    "# matrix\n",
    "A = scipy.signal.convolve2d(np.random.randn(m,n),g2d,'same')"
   ]
  },
  {
   "cell_type": "code",
   "execution_count": null,
   "metadata": {},
   "outputs": [],
   "source": [
    "Ascaled = A*1\n",
    "\n",
    "# SVD\n",
    "U,s,V = np.linalg.svd(Ascaled)\n",
    "\n",
    "# convert to percent variance\n",
    "spct = 100*s/np.sum(s)\n",
    "\n",
    "# plot the singular values for comparison\n",
    "fig = plt.subplots(1,figsize=(7,5))\n",
    "\n",
    "plt.subplot(211)\n",
    "plt.plot(s,'ks-')\n",
    "plt.xlabel('Component number')\n",
    "plt.ylabel('$\\sigma$')\n",
    "plt.title('Raw singular values')\n",
    "\n",
    "plt.subplot(212)\n",
    "plt.plot(spct,'ks-')\n",
    "plt.xlabel('Component number')\n",
    "plt.ylabel('$\\sigma$ (% of total)')\n",
    "plt.title('Percent-change-normalized singular values')\n",
    "\n",
    "plt.tight_layout()\n",
    "plt.show()"
   ]
  }
 ],
 "metadata": {
  "language_info": {
   "name": "python"
  }
 },
 "nbformat": 4,
 "nbformat_minor": 2
}
