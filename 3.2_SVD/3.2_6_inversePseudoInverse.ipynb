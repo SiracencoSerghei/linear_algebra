{
  "cells": [
    {
      "cell_type": "markdown",
      "metadata": {
        "id": "view-in-github",
        "colab_type": "text"
      },
      "source": [
        "<a href=\"https://colab.research.google.com/github/SiracencoSerghei/linear_algebra/blob/main/3.2_SVD/3.2_6_inversePseudoInverse.ipynb\" target=\"_parent\"><img src=\"https://colab.research.google.com/assets/colab-badge.svg\" alt=\"Open In Colab\"/></a>"
      ]
    },
    {
      "cell_type": "code",
      "execution_count": 1,
      "metadata": {
        "id": "6ser9aP7Zgjf"
      },
      "outputs": [],
      "source": [
        "import numpy as np\n",
        "import matplotlib.pyplot as plt"
      ]
    },
    {
      "cell_type": "markdown",
      "metadata": {
        "id": "gkOl_0h4Zgjg"
      },
      "source": [
        "---\n",
        "# SVD, matrix inverse, and pseudoinverse\n",
        "---"
      ]
    },
    {
      "cell_type": "code",
      "execution_count": 5,
      "metadata": {
        "id": "qVT0VJo5Zgjg",
        "outputId": "71a387af-5228-45a1-f394-1cab9e02feec",
        "colab": {
          "base_uri": "https://localhost:8080/"
        }
      },
      "outputs": [
        {
          "output_type": "stream",
          "name": "stdout",
          "text": [
            "[8.03337644e+00 6.81808654e-01 8.88178420e-17]\n",
            " \n",
            "[1.24480660e-01 1.46668716e+00 8.88178420e-17]\n",
            " \n",
            "[[2.00000000e-01 4.00000000e-01 3.33066907e-16]\n",
            " [4.00000000e-01 8.00000000e-01 8.88178420e-16]\n",
            " [0.00000000e+00 0.00000000e+00 1.00000000e+00]]\n",
            " \n",
            "[[ 2.00000000e-01  4.00000000e-01  6.10622664e-16]\n",
            " [ 4.00000000e-01  8.00000000e-01  4.44089210e-16]\n",
            " [-5.55111512e-17 -1.11022302e-16  1.00000000e+00]]\n"
          ]
        }
      ],
      "source": [
        "# the matrix\n",
        "A = [ [1,2,3],\n",
        "      [1,2,4], # hint: change 2->0 for invertible matrix to test\n",
        "      [1,2,5]  ]\n",
        "\n",
        "# A = [ [1,2,3],\n",
        "#       [1,0,4], # hint: change 2->0 for invertible matrix to test\n",
        "#       [1,2,5]  ]\n",
        "\n",
        "# SVD\n",
        "U,S,V = np.linalg.svd(A)\n",
        "print(S), print(' ')\n",
        "\n",
        "# pseudoinvert S\n",
        "nonzeroels = S>10**-14 # find nonzero elements (>rounding errors)\n",
        "S[nonzeroels] = 1/S[nonzeroels] # invert only those elements\n",
        "print(S), print(' ')\n",
        "\n",
        "# now pseudoinvert A\n",
        "Ai = V.T@np.diag(S)@U.T\n",
        "\n",
        "# it's sortof close to I...?\n",
        "print( Ai@A ), print(' ')\n",
        "\n",
        "# compute with pinv function\n",
        "print( np.linalg.pinv(A)@A )"
      ]
    },
    {
      "cell_type": "code",
      "execution_count": 4,
      "metadata": {
        "id": "tcNPFFRgZgjg",
        "outputId": "65d05351-9ff4-4545-9f78-89e35cdcd821",
        "colab": {
          "base_uri": "https://localhost:8080/"
        }
      },
      "outputs": [
        {
          "output_type": "stream",
          "name": "stdout",
          "text": [
            "@array_function_dispatch(_pinv_dispatcher)\n",
            "def pinv(a, rcond=1e-15, hermitian=False):\n",
            "    \"\"\"\n",
            "    Compute the (Moore-Penrose) pseudo-inverse of a matrix.\n",
            "\n",
            "    Calculate the generalized inverse of a matrix using its\n",
            "    singular-value decomposition (SVD) and including all\n",
            "    *large* singular values.\n",
            "\n",
            "    .. versionchanged:: 1.14\n",
            "       Can now operate on stacks of matrices\n",
            "\n",
            "    Parameters\n",
            "    ----------\n",
            "    a : (..., M, N) array_like\n",
            "        Matrix or stack of matrices to be pseudo-inverted.\n",
            "    rcond : (...) array_like of float\n",
            "        Cutoff for small singular values.\n",
            "        Singular values less than or equal to\n",
            "        ``rcond * largest_singular_value`` are set to zero.\n",
            "        Broadcasts against the stack of matrices.\n",
            "    hermitian : bool, optional\n",
            "        If True, `a` is assumed to be Hermitian (symmetric if real-valued),\n",
            "        enabling a more efficient method for finding singular values.\n",
            "        Defaults to False.\n",
            "\n",
            "        .. versionadded:: 1.17.0\n",
            "\n",
            "    Returns\n",
            "    -------\n",
            "    B : (..., N, M) ndarray\n",
            "        The pseudo-inverse of `a`. If `a` is a `matrix` instance, then so\n",
            "        is `B`.\n",
            "\n",
            "    Raises\n",
            "    ------\n",
            "    LinAlgError\n",
            "        If the SVD computation does not converge.\n",
            "\n",
            "    See Also\n",
            "    --------\n",
            "    scipy.linalg.pinv : Similar function in SciPy.\n",
            "    scipy.linalg.pinvh : Compute the (Moore-Penrose) pseudo-inverse of a\n",
            "                         Hermitian matrix.\n",
            "\n",
            "    Notes\n",
            "    -----\n",
            "    The pseudo-inverse of a matrix A, denoted :math:`A^+`, is\n",
            "    defined as: \"the matrix that 'solves' [the least-squares problem]\n",
            "    :math:`Ax = b`,\" i.e., if :math:`\\\\bar{x}` is said solution, then\n",
            "    :math:`A^+` is that matrix such that :math:`\\\\bar{x} = A^+b`.\n",
            "\n",
            "    It can be shown that if :math:`Q_1 \\\\Sigma Q_2^T = A` is the singular\n",
            "    value decomposition of A, then\n",
            "    :math:`A^+ = Q_2 \\\\Sigma^+ Q_1^T`, where :math:`Q_{1,2}` are\n",
            "    orthogonal matrices, :math:`\\\\Sigma` is a diagonal matrix consisting\n",
            "    of A's so-called singular values, (followed, typically, by\n",
            "    zeros), and then :math:`\\\\Sigma^+` is simply the diagonal matrix\n",
            "    consisting of the reciprocals of A's singular values\n",
            "    (again, followed by zeros). [1]_\n",
            "\n",
            "    References\n",
            "    ----------\n",
            "    .. [1] G. Strang, *Linear Algebra and Its Applications*, 2nd Ed., Orlando,\n",
            "           FL, Academic Press, Inc., 1980, pp. 139-142.\n",
            "\n",
            "    Examples\n",
            "    --------\n",
            "    The following example checks that ``a * a+ * a == a`` and\n",
            "    ``a+ * a * a+ == a+``:\n",
            "\n",
            "    >>> a = np.random.randn(9, 6)\n",
            "    >>> B = np.linalg.pinv(a)\n",
            "    >>> np.allclose(a, np.dot(a, np.dot(B, a)))\n",
            "    True\n",
            "    >>> np.allclose(B, np.dot(B, np.dot(a, B)))\n",
            "    True\n",
            "\n",
            "    \"\"\"\n",
            "    a, wrap = _makearray(a)\n",
            "    rcond = asarray(rcond)\n",
            "    if _is_empty_2d(a):\n",
            "        m, n = a.shape[-2:]\n",
            "        res = empty(a.shape[:-2] + (n, m), dtype=a.dtype)\n",
            "        return wrap(res)\n",
            "    a = a.conjugate()\n",
            "    u, s, vt = svd(a, full_matrices=False, hermitian=hermitian)\n",
            "\n",
            "    # discard small singular values\n",
            "    cutoff = rcond[..., newaxis] * amax(s, axis=-1, keepdims=True)\n",
            "    large = s > cutoff\n",
            "    s = divide(1, s, where=large, out=s)\n",
            "    s[~large] = 0\n",
            "\n",
            "    res = matmul(transpose(vt), multiply(s[..., newaxis], transpose(u)))\n",
            "    return wrap(res)\n",
            "\n"
          ]
        }
      ],
      "source": [
        "import inspect\n",
        "lines = inspect.getsource(np.linalg.pinv)\n",
        "print(lines)"
      ]
    }
  ],
  "metadata": {
    "language_info": {
      "name": "python"
    },
    "colab": {
      "provenance": [],
      "include_colab_link": true
    },
    "kernelspec": {
      "name": "python3",
      "display_name": "Python 3"
    }
  },
  "nbformat": 4,
  "nbformat_minor": 0
}