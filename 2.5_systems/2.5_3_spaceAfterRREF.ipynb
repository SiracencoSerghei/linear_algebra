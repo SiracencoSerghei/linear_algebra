{
 "cells": [
  {
   "cell_type": "code",
   "execution_count": null,
   "metadata": {},
   "outputs": [],
   "source": [
    "import numpy as np\n",
    "import sympy\n",
    "import matplotlib.pyplot as plt\n",
    "from mpl_toolkits.mplot3d import Axes3D\n"
   ]
  },
  {
   "cell_type": "markdown",
   "metadata": {},
   "source": [
    "---\n",
    "# Matrix spaces after row reduction\n",
    "---"
   ]
  },
  {
   "cell_type": "code",
   "execution_count": null,
   "metadata": {},
   "outputs": [],
   "source": [
    "\n",
    "# Create the matrix M\n",
    "M = np.array([[1, 2],\n",
    "              [3, 7],\n",
    "              [9, 1]])\n",
    "\n",
    "# Compute the RREF of M\n",
    "Mr, _ = sympy.Matrix(M).rref()\n",
    "Mr = np.array(Mr).astype(np.float64)  # Convert to numpy array for easier manipulation\n",
    "\n",
    "# Create a mesh grid for plotting the planes\n",
    "s, t = np.meshgrid(np.linspace(-1, 1, 50), np.linspace(-1, 1, 50))\n",
    "\n",
    "# Define the planes spanned by M and Mr\n",
    "plane_M = M[0, 0] * s + M[0, 1] * t, M[1, 0] * s + M[1, 1] * t, M[2, 0] * s + M[2, 1] * t\n",
    "plane_Mr = Mr[0, 0] * s + Mr[0, 1] * t, Mr[1, 0] * s + Mr[1, 1] * t, Mr[2, 0] * s + Mr[2, 1] * t\n",
    "\n",
    "# Create the 3D plot\n",
    "fig = plt.figure()\n",
    "ax = fig.add_subplot(111, projection='3d')\n",
    "\n",
    "# Plot the plane corresponding to M\n",
    "ax.plot_surface(plane_M[0], plane_M[1], plane_M[2], color='green', alpha=0.5)\n",
    "\n",
    "# Plot the plane corresponding to Mr (RREF(M))\n",
    "ax.plot_surface(plane_Mr[0], plane_Mr[1], plane_Mr[2], color='magenta', alpha=0.5)\n",
    "\n",
    "# Normalize M to draw basis vectors\n",
    "M_norm = M / np.linalg.norm(M, axis=0)\n",
    "\n",
    "# Plot the basis vectors for M\n",
    "ax.quiver(0, 0, 0, M_norm[0, 0], M_norm[1, 0], M_norm[2, 0], color='black', linewidth=2)\n",
    "ax.quiver(0, 0, 0, M_norm[0, 1], M_norm[1, 1], M_norm[2, 1], color='black', linewidth=2)\n",
    "\n",
    "# Plot the basis vectors for Mr\n",
    "Mr_norm = Mr / np.linalg.norm(Mr, axis=0)\n",
    "ax.quiver(0, 0, 0, Mr_norm[0, 0], Mr_norm[1, 0], Mr_norm[2, 0], color='yellow', linewidth=2)\n",
    "ax.quiver(0, 0, 0, Mr_norm[0, 1], Mr_norm[1, 1], Mr_norm[2, 1], color='yellow', linewidth=2)\n",
    "\n",
    "# Customize the plot\n",
    "ax.set_xlabel('M1')\n",
    "ax.set_ylabel('M2')\n",
    "ax.set_zlabel('M3')\n",
    "ax.set_title('Planes spanned by M and RREF(M)')\n",
    "ax.legend(['C(M)', 'C(RREF(M))'])\n",
    "ax.grid(True)\n",
    "plt.show()\n"
   ]
  }
 ],
 "metadata": {
  "language_info": {
   "name": "python"
  }
 },
 "nbformat": 4,
 "nbformat_minor": 2
}
