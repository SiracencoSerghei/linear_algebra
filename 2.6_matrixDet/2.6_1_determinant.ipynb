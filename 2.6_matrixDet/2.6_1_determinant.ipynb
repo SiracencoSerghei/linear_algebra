{
  "cells": [
    {
      "cell_type": "markdown",
      "metadata": {
        "id": "view-in-github",
        "colab_type": "text"
      },
      "source": [
        "<a href=\"https://colab.research.google.com/github/SiracencoSerghei/linear_algebra/blob/main/2.6_matrixDet/2.6_1_determinant.ipynb\" target=\"_parent\"><img src=\"https://colab.research.google.com/assets/colab-badge.svg\" alt=\"Open In Colab\"/></a>"
      ]
    },
    {
      "cell_type": "code",
      "execution_count": 42,
      "metadata": {
        "id": "GCg8Uy4WOyYq"
      },
      "outputs": [],
      "source": [
        "import numpy as np\n",
        "import matplotlib.pyplot as plt"
      ]
    },
    {
      "cell_type": "markdown",
      "metadata": {
        "id": "DKKN7Hy9OyYq"
      },
      "source": [
        "---\n",
        "# Matrix Determinant\n",
        "---"
      ]
    },
    {
      "cell_type": "markdown",
      "source": [
        "In the real world when you are applying linear algebra to solve problems in data analysis or statistics or machine learning of course the computer implements a lot of the mechanistic details and what is much more important is that you understand the concepts and the uses and the limitations of various procedures and algorithms."
      ],
      "metadata": {
        "id": "MVJgCbvMPjub"
      }
    },
    {
      "cell_type": "code",
      "execution_count": 2,
      "metadata": {
        "id": "CV2G5xZ-OyYr",
        "outputId": "4b02779a-df2b-4521-9ee5-20bc0ae1e59f",
        "colab": {
          "base_uri": "https://localhost:8080/"
        }
      },
      "outputs": [
        {
          "output_type": "stream",
          "name": "stdout",
          "text": [
            "The columns of the matrix are linearly dependent.\n"
          ]
        }
      ],
      "source": [
        "\n",
        "# Example matrix\n",
        "A = np.array([[1, 2, 1],\n",
        "              [3, 6, 3],\n",
        "              [5, 10, 5]])\n",
        "\n",
        "# Check rank\n",
        "rank_A = np.linalg.matrix_rank(A)\n",
        "\n",
        "# Linear dependence check\n",
        "if rank_A < A.shape[1]:\n",
        "    print(\"The columns of the matrix are linearly dependent.\")\n",
        "else:\n",
        "    print(\"The columns of the matrix are linearly independent.\")"
      ]
    },
    {
      "cell_type": "markdown",
      "source": [
        "---\n",
        "# Code Challenge: Determinant of small and large singular matricies\n",
        "---"
      ],
      "metadata": {
        "id": "yj5qnRt-IG00"
      }
    },
    {
      "cell_type": "code",
      "source": [
        "# generate a 2x2 matrix of integers with linear dependencies\n",
        "# compute the rank\n",
        "A = np.array([[1, 3], [1, 3]])\n",
        "print(A), print(' ')\n",
        "rank_1 = np.linalg.det(A)\n",
        "\n",
        "# generate mxm matricies with linear dependencies,\n",
        "# compute rank again\n",
        "# small m and Large m\n",
        "\n",
        "m = 90\n",
        "A = np.random.randn(m,m)\n",
        "A[:,0] = A[:,1]\n",
        "rank_2 = np.linalg.det(A)\n",
        "\n",
        "print(rank_1), print(' ')\n",
        "print(rank_2)\n"
      ],
      "metadata": {
        "id": "sOEIYBVEIVB1",
        "outputId": "c39f88e0-c98d-4921-b137-bc3db909a811",
        "colab": {
          "base_uri": "https://localhost:8080/"
        }
      },
      "execution_count": 24,
      "outputs": [
        {
          "output_type": "stream",
          "name": "stdout",
          "text": [
            "[[1 3]\n",
            " [1 3]]\n",
            " \n",
            "0.0\n",
            " \n",
            "6.137500040129754e+50\n"
          ]
        }
      ]
    },
    {
      "cell_type": "code",
      "source": [
        "B = np.array([[4,0,1],[6,5,-1],[8,-2,8]])\n",
        "print(np.linalg.det(B))"
      ],
      "metadata": {
        "id": "ZdEcBBKuSbgH",
        "outputId": "def0b5fc-fc0e-40d5-cca8-9bfd6678a3f9",
        "colab": {
          "base_uri": "https://localhost:8080/"
        }
      },
      "execution_count": 25,
      "outputs": [
        {
          "output_type": "stream",
          "name": "stdout",
          "text": [
            "99.99999999999996\n"
          ]
        }
      ]
    },
    {
      "cell_type": "markdown",
      "source": [
        "---\n",
        "# Determinant of 3x3 rank-deficient matrix\n",
        "---"
      ],
      "metadata": {
        "id": "h7FmgMG6XbCw"
      }
    },
    {
      "cell_type": "code",
      "source": [
        "C = np.array([[4,0,1],[6,5,-1],[8,0,2]])\n",
        "print(np.linalg.det(C))"
      ],
      "metadata": {
        "id": "AHXZcRiCXkBs",
        "outputId": "7ae8f988-27a9-41a5-f835-46e59542aa7a",
        "colab": {
          "base_uri": "https://localhost:8080/"
        }
      },
      "execution_count": 26,
      "outputs": [
        {
          "output_type": "stream",
          "name": "stdout",
          "text": [
            "0.0\n"
          ]
        }
      ]
    },
    {
      "cell_type": "markdown",
      "source": [
        "---\n",
        "# Determinant of 3x3 Identity matrix\n",
        "---"
      ],
      "metadata": {
        "id": "QVdar5O-YBQl"
      }
    },
    {
      "cell_type": "code",
      "source": [
        "D = np.array([[1, 0, 0],[0, 1, 0],[0, 0, 1]])\n",
        "print(np.linalg.det(D))"
      ],
      "metadata": {
        "id": "YlZyfxoqYMYw",
        "outputId": "ee9362b9-19db-476b-9120-0078de1aeab7",
        "colab": {
          "base_uri": "https://localhost:8080/"
        }
      },
      "execution_count": 27,
      "outputs": [
        {
          "output_type": "stream",
          "name": "stdout",
          "text": [
            "1.0\n"
          ]
        }
      ]
    },
    {
      "cell_type": "markdown",
      "source": [
        "---\n",
        "# Code Challenge: large matrix with row exchange\n",
        "---"
      ],
      "metadata": {
        "id": "HoZPYOFMbElw"
      }
    },
    {
      "cell_type": "code",
      "source": [
        "# generate a 6x6 matrix\n",
        "# - compute determinant\n",
        "# - swap one row, compute det() again\n",
        "# - swap two rows, det() againe\n",
        "\n",
        "A = np.random.randn(6,6)\n",
        "print(f'Before row swap: {np.linalg.det(A)}')\n",
        "\n",
        "As = A[[1,0,2,3,4,5],:]\n",
        "print(f'After 1 row swap: {np.linalg.det(As)}')\n",
        "\n",
        "As_swaped = A[[0,2,1,4,3,5],:]\n",
        "print(f'After 2 rows swap: {np.linalg.det(As_swaped)}')\n",
        "\n",
        "As_swaped = A[[1,0,3,2,4,5],:]\n",
        "print(f'After 2 rows swap: {np.linalg.det(As_swaped)}')\n",
        "\n",
        "As_swaped = A[[1,0,2,4,5,3],:]\n",
        "print(f'After 3 rows swap: {np.linalg.det(As_swaped)}')\n"
      ],
      "metadata": {
        "id": "n-mHF_23bNJM",
        "outputId": "a877d593-6b49-4506-b9c3-eff71c22e817",
        "colab": {
          "base_uri": "https://localhost:8080/"
        }
      },
      "execution_count": 40,
      "outputs": [
        {
          "output_type": "stream",
          "name": "stdout",
          "text": [
            "Before row swap: 53.27315683242591\n",
            "After 1 row swap: -53.27315683242591\n",
            "After 2 rows swap: 53.27315683242591\n",
            "After 2 rows swap: 53.27315683242591\n",
            "After 3 rows swap: -53.27315683242591\n"
          ]
        }
      ]
    },
    {
      "cell_type": "markdown",
      "source": [
        "---\n",
        "# Code Challenge: Determinant of shifted matricies\n",
        "---"
      ],
      "metadata": {
        "id": "bHr9YY7-kOks"
      }
    },
    {
      "cell_type": "code",
      "source": [
        "# generate a 20x20 random matrix\n",
        "# impose a linear dependence\n",
        "# \"shift\" the matrix (0->.1 times the identity matrix) (lambda)\n",
        "# compute abs(determinant)\n",
        "# repeat 1000 times, take average abs det\n",
        "# plod det by lambda\n",
        "\n",
        "# Create an array of 30 evenly spaced values between 0 and 0.1\n",
        "lambdas = np.linspace(0, .1, 30)\n",
        "\n",
        "# Initialize an array to store temporary determinant values for each iteration\n",
        "tmp = np.zeros(1000)\n",
        "\n",
        "# Initialize an array to store the average determinant for each lambda value\n",
        "dets = np.zeros(len(lambdas))\n",
        "\n",
        "# Loop over each lambda value\n",
        "for deti in range(len(lambdas)):\n",
        "\n",
        "  # Run 1000 iterations for each lambda value\n",
        "  for i in range(1000):\n",
        "\n",
        "    # Generate a 20x20 random matrix with elements drawn from a standard normal distribution\n",
        "    M = np.random.randn(20, 20)\n",
        "\n",
        "    # Impose a linear dependence by setting the first column equal to the second column\n",
        "    M[:, 0] = M[:, 1]\n",
        "\n",
        "    # Compute the absolute value of the determinant of the matrix after adding\n",
        "    # a fraction (lambda) of the identity matrix to M\n",
        "    tmp[i] = abs(np.linalg.det(M + lambdas[deti] * np.eye(20)))\n",
        "\n",
        "  # Compute the average determinant over the 1000 iterations and store it\n",
        "  dets[deti] = np.mean(tmp)\n",
        "\n",
        "# Plot the average determinant against the lambda values\n",
        "plt.plot(lambdas, dets, 's-')\n",
        "plt.xlabel('Fraction of identity for shifting')\n",
        "plt.ylabel('determinant')\n",
        "plt.show()\n"
      ],
      "metadata": {
        "id": "8YuMZrJ1sSeN",
        "outputId": "fe1da5cb-f4a4-4a94-b783-685a1466223d",
        "colab": {
          "base_uri": "https://localhost:8080/",
          "height": 465
        }
      },
      "execution_count": 48,
      "outputs": [
        {
          "output_type": "display_data",
          "data": {
            "text/plain": [
              "<Figure size 640x480 with 1 Axes>"
            ],
            "image/png": "[encoded data removed]"
          },
          "metadata": {}
        }
      ]
    },
    {
      "cell_type": "code",
      "source": [
        "\n",
        "# Parameters\n",
        "n = 20           # Size of the matrix (20x20)\n",
        "num_trials = 1000  # Number of trials\n",
        "lambdas = np.linspace(0, 0.1, 50)  # Range of lambda values to test\n",
        "\n",
        "# Initialize array to store average determinants\n",
        "avg_dets = np.zeros(len(lambdas))\n",
        "\n",
        "# Loop over lambda values\n",
        "for i, lam in enumerate(lambdas):\n",
        "    dets = []\n",
        "\n",
        "    for _ in range(num_trials):\n",
        "        # Generate a random 20x20 matrix\n",
        "        A = np.random.randn(n, n)\n",
        "\n",
        "        # Impose linear dependence: make one column a linear combination of others\n",
        "        A[:, -1] = np.sum(A[:, :-1], axis=1)\n",
        "\n",
        "        # Shift the matrix by lam*Identity\n",
        "        B = A + lam * np.eye(n)\n",
        "\n",
        "        # Compute the determinant and take its absolute value\n",
        "        det = np.abs(np.linalg.det(B))\n",
        "        dets.append(det)\n",
        "\n",
        "    # Compute the average determinant for this lambda\n",
        "    avg_dets[i] = np.mean(dets)\n",
        "\n",
        "# Plot the results\n",
        "plt.plot(lambdas, avg_dets, marker='o')\n",
        "plt.xlabel('Lambda')\n",
        "plt.ylabel('Average |det(B)|')\n",
        "plt.title('Average Absolute Determinant vs Lambda')\n",
        "plt.grid(True)\n",
        "plt.show()\n"
      ],
      "metadata": {
        "id": "LM26O8DYmuzc",
        "outputId": "eaf65ed3-f2fc-4630-da77-eb8e541d25b1",
        "colab": {
          "base_uri": "https://localhost:8080/",
          "height": 472
        }
      },
      "execution_count": 43,
      "outputs": [
        {
          "output_type": "display_data",
          "data": {
            "text/plain": [
              "<Figure size 640x480 with 1 Axes>"
            ],
            "image/png": "[encoded data removed]"
          },
          "metadata": {}
        }
      ]
    },
    {
      "cell_type": "markdown",
      "source": [
        "---\n",
        "# Code Challenge: Determinant of matrix product\n",
        "---"
      ],
      "metadata": {
        "id": "Y0j_XQNKs8Op"
      }
    },
    {
      "cell_type": "code",
      "source": [
        "# illustrate that det(AB) = det(A)*det(B)\n",
        "#  1) for random 3x3 matricies\n",
        "#  2) in a loop over random matrix sizes up to 40x40\n",
        "\n",
        "A = np.random.randn(3,3)\n",
        "B = np.random.randn(3,3)\n",
        "\n",
        "AB = A@B # matrix multiplication\n",
        "\n",
        "print(np.linalg.det(A), ' ', np.linalg.det(B), ' ', np.linalg.det(A)*np.linalg.det(B), ' ', np.linalg.det(AB))\n"
      ],
      "metadata": {
        "id": "S7mBtnfatFVJ",
        "outputId": "38bd2d0f-640f-4e87-b500-295f73b72c7f",
        "colab": {
          "base_uri": "https://localhost:8080/"
        }
      },
      "execution_count": 50,
      "outputs": [
        {
          "output_type": "stream",
          "name": "stdout",
          "text": [
            "-0.6189029375634657   0.5951458820811426   -0.36833753469881914   -0.36833753469881914\n"
          ]
        }
      ]
    },
    {
      "cell_type": "code",
      "source": [
        "dets = np.zeros((40,2))\n",
        "\n",
        "for k in range(40):\n",
        "  A = np.random.randn(k,k)\n",
        "  B = np.random.randn(k,k)\n",
        "\n",
        "  AB = A@B\n",
        "\n",
        "  dets[k,0] = np.linalg.det(A)*np.linalg.det(B)\n",
        "  dets[k,1] = np.linalg.det(AB)\n",
        "\n",
        "plt.plot(dets[:,0]-dets[:,1],'s-')\n",
        "plt.ylim([-1,1])\n",
        "plt.show()\n"
      ],
      "metadata": {
        "id": "Wpojq5MfutD1",
        "outputId": "6d8c802c-de54-44df-eb6e-e023b3b1bb3b",
        "colab": {
          "base_uri": "https://localhost:8080/",
          "height": 435
        }
      },
      "execution_count": 56,
      "outputs": [
        {
          "output_type": "display_data",
          "data": {
            "text/plain": [
              "<Figure size 640x480 with 1 Axes>"
            ],
            "image/png": "[encoded data removed]"
          },
          "metadata": {}
        }
      ]
    }
  ],
  "metadata": {
    "kernelspec": {
      "display_name": "Python 3",
      "language": "python",
      "name": "python3"
    },
    "language_info": {
      "codemirror_mode": {
        "name": "ipython",
        "version": 3
      },
      "file_extension": ".py",
      "mimetype": "text/x-python",
      "name": "python",
      "nbconvert_exporter": "python",
      "pygments_lexer": "ipython3",
      "version": "3.9.7"
    },
    "colab": {
      "provenance": [],
      "include_colab_link": true
    }
  },
  "nbformat": 4,
  "nbformat_minor": 0
}