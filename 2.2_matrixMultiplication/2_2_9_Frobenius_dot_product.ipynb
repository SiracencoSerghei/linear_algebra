{
  "nbformat": 4,
  "nbformat_minor": 0,
  "metadata": {
    "colab": {
      "provenance": [],
      "authorship_tag": "ABX9TyOmmag9FbbjdvSMDM5pNbTl",
      "include_colab_link": true
    },
    "kernelspec": {
      "name": "python3",
      "display_name": "Python 3"
    },
    "language_info": {
      "name": "python"
    }
  },
  "cells": [
    {
      "cell_type": "markdown",
      "metadata": {
        "id": "view-in-github",
        "colab_type": "text"
      },
      "source": [
        "<a href=\"https://colab.research.google.com/github/SiracencoSerghei/linear_algebra/blob/main/2.2_matrixMultiplication/2_2_9_Frobenius_dot_product.ipynb\" target=\"_parent\"><img src=\"https://colab.research.google.com/assets/colab-badge.svg\" alt=\"Open In Colab\"/></a>"
      ]
    },
    {
      "cell_type": "code",
      "execution_count": 6,
      "metadata": {
        "id": "wjwYy6q1OSBm"
      },
      "outputs": [],
      "source": [
        "import numpy as np"
      ]
    },
    {
      "cell_type": "markdown",
      "source": [
        "---\n",
        "# Frobenius dot-product\n",
        "---"
      ],
      "metadata": {
        "id": "hNJ0GJzjl3_H"
      }
    },
    {
      "cell_type": "code",
      "source": [
        "# Matrix dimensions\n",
        "m = 9\n",
        "n = 4\n",
        "\n",
        "# Generate random matrices A and B of size m x n\n",
        "#  but the two matrices must be the same size\n",
        "A = np.random.randn(m,n)\n",
        "B = np.random.randn(m,n)\n",
        "\n",
        "# Compute the Frobenius dot product using vectorization\n",
        "# first vectorize, then vector-dot-product\n",
        "Av = np.reshape( A,m*n, order='F' ) # order='F' reshapes by columns instead of by rows\n",
        "Bv = np.reshape( B,m*n, order='F' )  # Flatten the matrix B by columns\n",
        "frob_dp = np.dot( Av,Bv )\n",
        "\n",
        "# Compute the Frobenius dot product using the trace method\n",
        "frob_dp2 = np.trace( A.T@B )\n",
        "\n",
        "print(f\"Frobenius dot product (vectorization): {frob_dp}\")\n",
        "print(f\"Frobenius dot product (trace method): {frob_dp2}\")\n",
        "\n",
        "# Compute the Frobenius norm of matrix A\n",
        "Anorm  = np.linalg.norm(A,'fro')\n",
        "Anorm2 = np.sqrt( np.trace( A.T@A ) )\n",
        "\n",
        "print(f\"Frobenius norm of A (using np.linalg.norm): {Anorm}\")\n",
        "print(f\"Frobenius norm of A (using trace method): {Anorm2}\")\n",
        "\n",
        "Bnorm  = np.linalg.norm(B, 'fro')\n",
        "print(f\"Frobenius norm of B: {Bnorm}\")\n",
        "if Anorm > Bnorm:\n",
        "    print(\"Matrix A has a larger Frobenius norm than matrix B.\")\n",
        "else:\n",
        "    print(\"Matrix B has a larger Frobenius norm than matrix A.\")"
      ],
      "metadata": {
        "id": "iXiB3VfTnCO8",
        "outputId": "1aadd72e-09d1-462a-9095-67d3abb3b37d",
        "colab": {
          "base_uri": "https://localhost:8080/"
        }
      },
      "execution_count": 16,
      "outputs": [
        {
          "output_type": "stream",
          "name": "stdout",
          "text": [
            "Frobenius dot product (vectorization): 8.507551982306737\n",
            "Frobenius dot product (trace method): 8.507551982306737\n",
            "Frobenius norm of A (using np.linalg.norm): 4.96772965156689\n",
            "Frobenius norm of A (using trace method): 4.96772965156689\n",
            "Frobenius norm of B: 6.194367711642553\n",
            "Matrix B has a larger Frobenius norm than matrix A.\n"
          ]
        }
      ]
    },
    {
      "cell_type": "code",
      "source": [
        "# Frobenius norm of their difference\n",
        "diff_norm = np.linalg.norm(A - B, 'fro')\n",
        "print(f\"Frobenius norm of the difference between A and B: {diff_norm}\")\n",
        "\n",
        "# Relative error\n",
        "relative_error = diff_norm / Bnorm\n",
        "print(f\"Relative error between A and B: {relative_error}\")\n",
        "\n",
        "# Normalized Frobenius dot product\n",
        "frob_dp = np.trace(A.T @ B)\n",
        "normalized_frobenius_dot_product = frob_dp / (Anorm * Bnorm)\n",
        "print(f\"Normalized Frobenius dot product: {normalized_frobenius_dot_product}\")"
      ],
      "metadata": {
        "id": "c2HwHUQprLVL",
        "outputId": "65134b8a-59c4-421a-9bd1-f0f578f8f1d5",
        "colab": {
          "base_uri": "https://localhost:8080/"
        }
      },
      "execution_count": 17,
      "outputs": [
        {
          "output_type": "stream",
          "name": "stdout",
          "text": [
            "Frobenius norm of the difference between A and B: 6.7847936795073736\n",
            "Relative error between A and B: 1.0953165836046659\n",
            "Normalized Frobenius dot product: 0.27647105882474443\n"
          ]
        }
      ]
    },
    {
      "cell_type": "code",
      "source": [
        "# # Matrix dimensions\n",
        "# m = 9\n",
        "# n = 4\n",
        "\n",
        "# # Generate random matrices A and B of size m x n\n",
        "# A = np.random.randn(m, n)\n",
        "# B = np.random.randn(m, n)\n",
        "\n",
        "# Frobenius dot product using element-wise multiplication and summing\n",
        "frob_dp3 = np.sum(A * B)\n",
        "\n",
        "print(f\"Frobenius dot product (element-wise multiplication): {frob_dp3}\")\n",
        "\n",
        "# Compare with the other methods\n",
        "frob_dp2 = np.trace(A.T @ B)  # Trace method\n",
        "Av = np.reshape(A, (m*n,), order='F')  # Flatten the matrix A by columns\n",
        "Bv = np.reshape(B, (m*n,), order='F')  # Flatten the matrix B by columns\n",
        "frob_dp = np.dot(Av, Bv)  # Vectorization method\n",
        "\n",
        "print(f\"Frobenius dot product (trace method): {frob_dp2}\")\n",
        "print(f\"Frobenius dot product (vectorization): {frob_dp}\")\n"
      ],
      "metadata": {
        "id": "iAhrNAZQrjXN",
        "outputId": "3bce1839-1642-44b7-e17d-3406652faf0e",
        "colab": {
          "base_uri": "https://localhost:8080/"
        }
      },
      "execution_count": 18,
      "outputs": [
        {
          "output_type": "stream",
          "name": "stdout",
          "text": [
            "Frobenius dot product (element-wise multiplication): 8.507551982306735\n",
            "Frobenius dot product (trace method): 8.507551982306737\n",
            "Frobenius dot product (vectorization): 8.507551982306737\n"
          ]
        }
      ]
    }
  ]
}