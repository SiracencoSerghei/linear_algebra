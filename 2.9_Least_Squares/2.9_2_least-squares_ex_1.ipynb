{
 "cells": [
  {
   "cell_type": "code",
   "execution_count": null,
   "metadata": {},
   "outputs": [],
   "source": [
    "import numpy as np\n",
    "import matplotlib.pyplot as plt\n",
    "from sympy import *\n",
    "import scipy.io as sio\n",
    "from mpl_toolkits.mplot3d import Axes3D"
   ]
  },
  {
   "cell_type": "markdown",
   "metadata": {},
   "source": [
    "---\n",
    "# Least-squares example 1\n",
    "---"
   ]
  },
  {
   "cell_type": "code",
   "execution_count": null,
   "metadata": {},
   "outputs": [],
   "source": [
    "# data\n",
    "data = np.array([[-4,0,-3,1,2,8,5,8]]).T\n",
    "N    = len(data)\n",
    "\n",
    "# design matrix\n",
    "X = np.ones([N,1])\n",
    "# fit the model\n",
    "b = np.linalg.solve(X.T@X,X.T@data)\n",
    "\n",
    "# compare against the mean\n",
    "m = np.mean(data)\n",
    "\n",
    "# print the results\n",
    "print(b,m)"
   ]
  },
  {
   "cell_type": "code",
   "execution_count": null,
   "metadata": {},
   "outputs": [],
   "source": [
    "# compute the model-predicted values\n",
    "yHat = X@b\n",
    "\n",
    "# plot data and model prediction\n",
    "plt.plot(np.arange(1,N+1),data,'bs-',label='Data')\n",
    "plt.plot(np.arange(1,N+1),yHat,'ro--',label='Model pred.')\n",
    "\n",
    "plt.legend()\n",
    "plt.show()"
   ]
  },
  {
   "cell_type": "code",
   "execution_count": null,
   "metadata": {},
   "outputs": [],
   "source": [
    "\n",
    "# new design matrix\n",
    "X = np.array([np.arange(0,N)]).T\n",
    "\n",
    "# fit the model\n",
    "b = np.linalg.solve(X.T@X,X.T@data)\n",
    "\n",
    "# compute the model-predicted values\n",
    "yHat = X@b\n",
    "\n",
    "# plot data and model prediction\n",
    "plt.plot(np.arange(1,N+1),data,'bs-',label='Data')\n",
    "plt.plot(np.arange(1,N+1),yHat,'ro--',label='Model pred.')\n",
    "\n",
    "plt.legend()\n",
    "plt.show()"
   ]
  },
  {
   "cell_type": "code",
   "execution_count": null,
   "metadata": {},
   "outputs": [],
   "source": [
    "# design matrix\n",
    "X = np.concatenate( [np.ones([N,1]),np.array([np.arange(0,N)]).T],axis=1)\n",
    "# fit the model\n",
    "b = np.linalg.solve(X.T@X,X.T@data)\n",
    "\n",
    "# compute the model-predicted values\n",
    "yHat = X@b\n",
    "\n",
    "# plot data and model prediction\n",
    "plt.plot(np.arange(1,N+1),data,'bs-',label='Data')\n",
    "plt.plot(np.arange(1,N+1),yHat,'ro--',label='Model pred.')\n",
    "\n",
    "plt.legend()\n",
    "plt.show()"
   ]
  },
  {
   "cell_type": "code",
   "execution_count": null,
   "metadata": {},
   "outputs": [],
   "source": [
    "## now with nonlinearity in the design matrix\n",
    "\n",
    "# design matrix\n",
    "X = np.concatenate( [np.ones([N,1]),np.array([np.arange(0,N)**2]).T],axis=1)\n",
    "# fit the model\n",
    "b = np.linalg.solve(X.T@X,X.T@data)\n",
    "\n",
    "# compute the model-predicted values\n",
    "yHat = X@b\n",
    "\n",
    "# plot data and model prediction\n",
    "plt.plot(np.arange(1,N+1),data,'bs-',label='Data')\n",
    "plt.plot(np.arange(1,N+1),yHat,'ro--',label='Model pred.')\n",
    "\n",
    "plt.legend()\n",
    "plt.show()"
   ]
  }
 ],
 "metadata": {
  "language_info": {
   "name": "python"
  }
 },
 "nbformat": 4,
 "nbformat_minor": 2
}
