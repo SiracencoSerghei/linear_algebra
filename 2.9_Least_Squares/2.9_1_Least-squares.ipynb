{
  "cells": [
    {
      "cell_type": "markdown",
      "metadata": {
        "id": "view-in-github",
        "colab_type": "text"
      },
      "source": [
        "<a href=\"https://colab.research.google.com/github/SiracencoSerghei/linear_algebra/blob/main/2.9_Least_Squares/2.9_1_Least-squares.ipynb\" target=\"_parent\"><img src=\"https://colab.research.google.com/assets/colab-badge.svg\" alt=\"Open In Colab\"/></a>"
      ]
    },
    {
      "cell_type": "code",
      "execution_count": 2,
      "metadata": {
        "id": "NHZ_vvfigZ-W"
      },
      "outputs": [],
      "source": [
        "import numpy as np\n",
        "import matplotlib.pyplot as plt\n",
        "from sympy import *\n",
        "import scipy.io as sio\n",
        "from mpl_toolkits.mplot3d import Axes3D"
      ]
    },
    {
      "cell_type": "markdown",
      "metadata": {
        "id": "vyIusW_YgZ-W"
      },
      "source": [
        "---\n",
        "# Least-squares via row-reduction\n",
        "---\n"
      ]
    },
    {
      "cell_type": "code",
      "execution_count": 4,
      "metadata": {
        "colab": {
          "base_uri": "https://localhost:8080/"
        },
        "id": "CghdCfLXgZ-X",
        "outputId": "09d684a7-fb5c-4c8b-a61a-e14c54049bc5"
      },
      "outputs": [
        {
          "output_type": "execute_result",
          "data": {
            "text/plain": [
              "(10, 1)"
            ]
          },
          "metadata": {},
          "execution_count": 4
        }
      ],
      "source": [
        "m = 10\n",
        "n = 3\n",
        "\n",
        "# create data\n",
        "X = np.random.randn(m,n) # \"design matrix\"\n",
        "y = np.random.randn(m,1) # \"outcome measures (data)\" if (m) = vector, if(m,1) = column-vector\n",
        "\n",
        "np.shape(y)"
      ]
    },
    {
      "cell_type": "code",
      "execution_count": 3,
      "metadata": {
        "colab": {
          "base_uri": "https://localhost:8080/"
        },
        "id": "rbVmfTsjgZ-X",
        "outputId": "f786146b-d570-47d3-8043-4b015f29114f"
      },
      "outputs": [
        {
          "output_type": "stream",
          "name": "stdout",
          "text": [
            "(Matrix([\n",
            "[1, 0, 0, 0],\n",
            "[0, 1, 0, 0],\n",
            "[0, 0, 1, 0],\n",
            "[0, 0, 0, 1],\n",
            "[0, 0, 0, 0],\n",
            "[0, 0, 0, 0],\n",
            "[0, 0, 0, 0],\n",
            "[0, 0, 0, 0],\n",
            "[0, 0, 0, 0],\n",
            "[0, 0, 0, 0]]), (0, 1, 2, 3))\n"
          ]
        }
      ],
      "source": [
        "# try directly applying RREF\n",
        "Xy = Matrix( np.concatenate([X,y],axis=1) )\n",
        "print( Xy.rref() )"
      ]
    },
    {
      "cell_type": "code",
      "execution_count": 6,
      "metadata": {
        "colab": {
          "base_uri": "https://localhost:8080/"
        },
        "id": "mQfeS3R-gZ-X",
        "outputId": "491909be-095b-4196-bf74-4dc823b62d6a"
      },
      "outputs": [
        {
          "output_type": "stream",
          "name": "stdout",
          "text": [
            "[[1 0 0 0.00879596704218501]\n",
            " [0 1 0 -0.253788293169580]\n",
            " [0 0 1 0.144693231516216]]\n",
            " \n",
            "Matrix([[0.00879596704218501], [-0.253788293169580], [0.144693231516216]])\n",
            " \n",
            "[[ 0.00879597]\n",
            " [-0.25378829]\n",
            " [ 0.14469323]]\n",
            " \n",
            "[[ 0.00879597]\n",
            " [-0.25378829]\n",
            " [ 0.14469323]]\n"
          ]
        }
      ],
      "source": [
        "# now reapply to the normal equations\n",
        "XtX = X.T@X\n",
        "Xty = X.T@y\n",
        "normEQ = Matrix( np.concatenate( [XtX,Xty],axis=1 ) )\n",
        "# axis=1 means concatenate along the columns (horizontally).\n",
        "\n",
        "Xsol = normEQ.rref()\n",
        "Xsol = Xsol[0]\n",
        "beta = Xsol[:,-1]\n",
        "\n",
        "print(np.array(Xsol)), print(' ')\n",
        "print(beta), print(' ')\n",
        "\n",
        "# compare to left-inverse\n",
        "beta2 = np.linalg.inv(XtX) @ Xty\n",
        "print(beta2), print(' ')\n",
        "\n",
        "# and with the python solver\n",
        "beta3 = np.linalg.solve(XtX,Xty)\n",
        "print(beta3)\n",
        "\n",
        "# for practical purposes and better performance,\n",
        "#     using np.linalg.solve is generally the preferred method."
      ]
    }
  ],
  "metadata": {
    "language_info": {
      "name": "python"
    },
    "colab": {
      "provenance": [],
      "include_colab_link": true
    },
    "kernelspec": {
      "name": "python3",
      "display_name": "Python 3"
    }
  },
  "nbformat": 4,
  "nbformat_minor": 0
}