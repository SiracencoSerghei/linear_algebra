{
  "cells": [
    {
      "cell_type": "markdown",
      "metadata": {
        "id": "view-in-github",
        "colab_type": "text"
      },
      "source": [
        "<a href=\"https://colab.research.google.com/github/SiracencoSerghei/linear_algebra/blob/main/2.9_Least_Squares/2.9_4_least-squares_via_QR_decompos.ipynb\" target=\"_parent\"><img src=\"https://colab.research.google.com/assets/colab-badge.svg\" alt=\"Open In Colab\"/></a>"
      ]
    },
    {
      "cell_type": "code",
      "execution_count": 1,
      "metadata": {
        "id": "j3_vEGpgh_bj"
      },
      "outputs": [],
      "source": [
        "import numpy as np\n",
        "import matplotlib.pyplot as plt\n",
        "from sympy import *\n",
        "import scipy.io as sio\n",
        "from mpl_toolkits.mplot3d import Axes3D\n",
        "import io\n",
        "import requests"
      ]
    },
    {
      "cell_type": "markdown",
      "metadata": {
        "id": "1iPx8cO3h_bj"
      },
      "source": [
        "---\n",
        "# Code Challenge: Least-squares via QR decomposition\n",
        "---"
      ]
    },
    {
      "cell_type": "code",
      "execution_count": 4,
      "metadata": {
        "id": "nagRUyPdh_bk",
        "outputId": "43715496-2e7c-48f8-9f98-ff0d4a2ca704",
        "colab": {
          "base_uri": "https://localhost:8080/"
        }
      },
      "outputs": [
        {
          "output_type": "stream",
          "name": "stdout",
          "text": [
            "[[ 0.10885807]\n",
            " [-0.1625521 ]\n",
            " [-0.57671686]]\n",
            " \n",
            "[[ 0.10885807]\n",
            " [-0.1625521 ]\n",
            " [-0.57671686]]\n",
            " \n",
            "[[ 0.10885807]\n",
            " [-0.1625521 ]\n",
            " [-0.57671686]]\n",
            " \n"
          ]
        },
        {
          "output_type": "execute_result",
          "data": {
            "text/plain": [
              "(None, None)"
            ]
          },
          "metadata": {},
          "execution_count": 4
        }
      ],
      "source": [
        "# generate random data\n",
        "m = 10\n",
        "n = 3\n",
        "\n",
        "X = np.random.randn(m,n)\n",
        "y = np.random.randn(m,1)\n",
        "\n",
        "# QR decomposition\n",
        "Q,R = np.linalg.qr(X)\n",
        "beta1 = np.linalg.solve(R.T@R, (Q@R).T@y)\n",
        "\n",
        "# compare against standart left inverse method\n",
        "beta2 = np.linalg.solve(X.T@X,X.T@y)\n",
        "beta3 = np.linalg.lstsq(X,y,rcond=None)[0] # basically just a wrapper for solve function\n",
        "\n",
        "print(beta1), print(' ')\n",
        "print(beta2), print(' ')\n",
        "print(beta3), print(' ')\n"
      ]
    }
  ],
  "metadata": {
    "language_info": {
      "name": "python"
    },
    "colab": {
      "provenance": [],
      "include_colab_link": true
    },
    "kernelspec": {
      "name": "python3",
      "display_name": "Python 3"
    }
  },
  "nbformat": 4,
  "nbformat_minor": 0
}