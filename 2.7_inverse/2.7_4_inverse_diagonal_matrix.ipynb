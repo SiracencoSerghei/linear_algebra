{
  "cells": [
    {
      "cell_type": "markdown",
      "metadata": {
        "id": "view-in-github",
        "colab_type": "text"
      },
      "source": [
        "<a href=\"https://colab.research.google.com/github/SiracencoSerghei/linear_algebra/blob/main/2.7_inverse/2.7_4_inverse_diagonal_matrix.ipynb\" target=\"_parent\"><img src=\"https://colab.research.google.com/assets/colab-badge.svg\" alt=\"Open In Colab\"/></a>"
      ]
    },
    {
      "cell_type": "code",
      "execution_count": 1,
      "metadata": {
        "id": "-5MgfJHp4dpw"
      },
      "outputs": [],
      "source": [
        "import numpy as np\n",
        "from sympy import *\n",
        "import matplotlib.pyplot as plt"
      ]
    },
    {
      "cell_type": "markdown",
      "metadata": {
        "id": "8iXSQ6m64dpx"
      },
      "source": [
        "---\n",
        "# Code Challenge: inverse of a diagonal matrix\n",
        "---"
      ]
    },
    {
      "cell_type": "code",
      "execution_count": 4,
      "metadata": {
        "id": "TcMUhLcl4dpy",
        "outputId": "2da7f157-5b96-4fc0-f4bf-8d899eb804e7",
        "colab": {
          "base_uri": "https://localhost:8080/"
        }
      },
      "outputs": [
        {
          "output_type": "stream",
          "name": "stdout",
          "text": [
            "[[2 0]\n",
            " [0 3]]\n",
            " \n",
            "[[0.5        0.        ]\n",
            " [0.         0.33333333]]\n",
            "[[1 0 0 0 0]\n",
            " [0 2 0 0 0]\n",
            " [0 0 3 0 0]\n",
            " [0 0 0 4 0]\n",
            " [0 0 0 0 5]]\n",
            " \n",
            "[[1.         0.         0.         0.         0.        ]\n",
            " [0.         0.5        0.         0.         0.        ]\n",
            " [0.         0.         0.33333333 0.         0.        ]\n",
            " [0.         0.         0.         0.25       0.        ]\n",
            " [0.         0.         0.         0.         0.2       ]]\n"
          ]
        }
      ],
      "source": [
        "# diagonal matricies and their inverses\n",
        "\n",
        "# create diagonal matricies. start with 2x2\n",
        "# compute their inverses\n",
        "\n",
        "A = np.array([[2,0],[0,3]])\n",
        "B = np.diag(np.arange(1,6))\n",
        "\n",
        "print(A), print(' ')\n",
        "print(np.linalg.inv(A))\n",
        "\n",
        "print(B), print(' ')\n",
        "print(np.linalg.inv(B))\n"
      ]
    }
  ],
  "metadata": {
    "language_info": {
      "name": "python"
    },
    "colab": {
      "provenance": [],
      "include_colab_link": true
    },
    "kernelspec": {
      "name": "python3",
      "display_name": "Python 3"
    }
  },
  "nbformat": 4,
  "nbformat_minor": 0
}