{
 "cells": [
  {
   "cell_type": "code",
   "execution_count": 2,
   "metadata": {},
   "outputs": [],
   "source": [
    "import numpy as np\n",
    "import matplotlib.pyplot as plt\n",
    "import math"
   ]
  },
  {
   "cell_type": "markdown",
   "metadata": {},
   "source": [
    "---\n",
    "# standart matrix multiplication\n",
    "---"
   ]
  },
  {
   "cell_type": "code",
   "execution_count": 11,
   "metadata": {},
   "outputs": [
    {
     "name": "stdout",
     "output_type": "stream",
     "text": [
      "[[ 0.71355431  1.74407763  1.17287162 -0.55660515  0.11438732 -1.21793063]\n",
      " [ 3.85320599 -2.40925934  1.04022506  1.57975753  0.74441652  0.47696393]\n",
      " [ 1.150514   -0.87607512  0.75498386  1.3840475  -0.11847501 -0.63874468]\n",
      " [ 1.34379235 -1.80596225  1.02464091  2.7362076  -0.45818104 -1.11749285]]\n",
      "[[-0.15709716 -1.83072215 -0.31345593  3.80346016  1.06146306  2.58642975]\n",
      " [-0.75535585 -0.07147601 -0.5783461   2.0558215   0.12082978 -0.61067438]\n",
      " [-0.24031096  0.05252361 -0.27572646 -0.4988078   0.68770478  2.13282125]]\n",
      "[[ 2.80779353 -0.21437298  1.24756127]\n",
      " [-0.21437298  2.23149148  2.41601078]\n",
      " [ 1.24756127  2.41601078  6.78923791]]\n",
      "[[ 2.51295302 -0.65445447  1.07637125  0.65439788  0.48388132 -0.21472865]\n",
      " [-0.65445447  1.31702543 -0.58031887 -1.9608293   0.40286935  0.75434971]\n",
      " [ 1.07637125 -0.58031887  1.06441532  1.61749643 -0.28044247 -1.16694563]\n",
      " [ 0.65439788 -1.9608293   1.61749643  4.40404409 -1.2780326  -2.62328376]\n",
      " [ 0.48388132  0.40286935 -0.28044247 -1.2780326   0.56961858  0.87462221]\n",
      " [-0.21472865  0.75434971 -1.16694563 -2.62328376  0.87462221  1.96046649]]\n",
      "[[ 0.45167025 -0.650961   -1.57591166]\n",
      " [ 1.07897108  1.61328027  2.02264822]\n",
      " [ 0.87254241 -0.45326698 -3.66540283]\n",
      " [-1.02662621 -0.11806483 -0.99941316]]\n"
     ]
    }
   ],
   "source": [
    "# rules for standart matrix multiplication\n",
    "\n",
    "m = 4\n",
    "n = 3\n",
    "k = 6\n",
    "\n",
    "# make some matrices\n",
    "A = np.random.randn(m,n)\n",
    "B = np.random.randn(n,k)\n",
    "C = np.random.randn(m,k)\n",
    "\n",
    "# test which miltiplication are valid.\n",
    "# Think of your answer first, then test.\n",
    "print(np.matmul(A,B))\n",
    "# np.matmul(A,A)\n",
    "print(np.matmul(A.T,C))\n",
    "print(np.matmul(B,B.T))\n",
    "print(np.matmul(np.matrix.transpose(B),B))\n",
    "# np.matmul(B,C)\n",
    "# np.matmul(C,B)\n",
    "# np.matmul(C.T,B)\n",
    "print(np.matmul(C,B.T))\n"
   ]
  },
  {
   "cell_type": "code",
   "execution_count": 21,
   "metadata": {},
   "outputs": [
    {
     "name": "stdout",
     "output_type": "stream",
     "text": [
      "[[ 0.44757713 -0.10789144]\n",
      " [-0.78383771 -1.44573266]\n",
      " [-0.71634616 -0.03521881]]\n",
      " \n",
      "[[ 1.62503424 -0.8935697   1.95846783]\n",
      " [ 0.2929852   0.67070742 -0.1274118 ]]\n",
      " \n",
      "[[ 0.69571756 -0.47230495  0.89031205]\n",
      " [-1.69734139 -0.26925    -1.35091753]\n",
      " [-1.17440562  0.61648371 -1.39845361]]\n",
      " \n",
      "[[ 0.69571756 -0.47230495  0.89031205]\n",
      " [-1.69734139 -0.26925    -1.35091753]\n",
      " [-1.17440562  0.61648371 -1.39845361]]\n",
      " \n",
      "[[ 0.69571756 -0.47230495  0.89031205]\n",
      " [-1.69734139 -0.26925    -1.35091753]\n",
      " [-1.17440562  0.61648371 -1.39845361]]\n",
      " \n",
      "[[ 0.69571756 -0.47230495  0.89031205]\n",
      " [-1.69734139 -0.26925    -1.35091753]\n",
      " [-1.17440562  0.61648371 -1.39845361]]\n",
      " \n",
      "[[0.00000000e+00 5.55111512e-17 0.00000000e+00]\n",
      " [2.22044605e-16 0.00000000e+00 0.00000000e+00]\n",
      " [0.00000000e+00 0.00000000e+00 0.00000000e+00]]\n"
     ]
    }
   ],
   "source": [
    "# generate two matrices\n",
    "\n",
    "m = 3\n",
    "n = 2\n",
    "\n",
    "A = np.random.randn(m,n)\n",
    "B = np.random.randn(n,m)\n",
    "\n",
    "print(A), print(' ')\n",
    "print(B), print(' ')\n",
    "# build the product matrix \n",
    "C1 = np.zeros((m,m))\n",
    "C1_1 = C1\n",
    "for i in range(n):\n",
    "    C1_1 += np.outer(A[:,i],B[i,:])\n",
    "\n",
    "C1_2 = C1\n",
    "for i in range(m):\n",
    "    for j in range(m):\n",
    "        C1_2[i, j] = sum(A[i, k] * B[k, j] for k in range(n))\n",
    "\n",
    "print(C1_1), print(' ')\n",
    "print(C1_2), print(' ')\n",
    "\n",
    "# implement matrix multiplication\n",
    "C2 = A@B\n",
    "print(C2), print(' ')\n",
    "# C2 = np.dot(A, B)\n",
    "# print(C2), print(' ')\n",
    "C2 = np.matmul(A, B)\n",
    "print(C2), print(' ')\n",
    "\n",
    "# compare the results\n",
    "result = C1 - C2\n",
    "print(result)\n"
   ]
  }
 ],
 "metadata": {
  "kernelspec": {
   "display_name": "Python 3",
   "language": "python",
   "name": "python3"
  },
  "language_info": {
   "codemirror_mode": {
    "name": "ipython",
    "version": 3
   },
   "file_extension": ".py",
   "mimetype": "text/x-python",
   "name": "python",
   "nbconvert_exporter": "python",
   "pygments_lexer": "ipython3",
   "version": "3.9.7"
  }
 },
 "nbformat": 4,
 "nbformat_minor": 2
}
