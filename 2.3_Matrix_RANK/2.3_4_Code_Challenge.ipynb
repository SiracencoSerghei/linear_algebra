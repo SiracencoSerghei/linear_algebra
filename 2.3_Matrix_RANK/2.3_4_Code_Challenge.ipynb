{
 "cells": [
  {
   "cell_type": "code",
   "execution_count": 1,
   "metadata": {},
   "outputs": [],
   "source": [
    "import numpy as np\n"
   ]
  },
  {
   "cell_type": "markdown",
   "metadata": {},
   "source": [
    "---\n",
    "# 1\n",
    "---"
   ]
  },
  {
   "cell_type": "code",
   "execution_count": 9,
   "metadata": {},
   "outputs": [
    {
     "name": "stdout",
     "output_type": "stream",
     "text": [
      "Vector v:\n",
      "[[1]\n",
      " [2]\n",
      " [3]\n",
      " [4]]\n",
      " \n",
      "Matrix S:\n",
      "[[4 0]\n",
      " [3 4]\n",
      " [6 0]\n",
      " [2 1]]\n",
      " \n",
      "Matrix T:\n",
      "[[1 0]\n",
      " [2 0]\n",
      " [2 1]\n",
      " [2 2]]\n",
      " \n",
      "Augmented Matrix Sv (S with v):\n",
      "[[4 0 1]\n",
      " [3 4 2]\n",
      " [6 0 3]\n",
      " [2 1 4]]\n",
      " \n",
      "Augmented Matrix Tv (T with v):\n",
      "[[1 0 1]\n",
      " [2 0 2]\n",
      " [2 1 3]\n",
      " [2 2 4]]\n",
      " \n",
      "Rank of Sv: 3\n",
      "Rank of Tv: 2\n"
     ]
    }
   ],
   "source": [
    "\n",
    "# Step 1: Create a column vector v\n",
    "v = np.array([[1, 2, 3, 4]]).T\n",
    "# v is a column vector with elements [1, 2, 3, 4]\n",
    "\n",
    "print(\"Vector v:\")\n",
    "print(v)\n",
    "print(' ')\n",
    "\n",
    "# Step 2: Create the matrix S by stacking two row vectors and transposing the result\n",
    "S = np.vstack(([4, 3, 6, 2], [0, 4, 0, 1])).T\n",
    "# S is a 4x2 matrix with column vectors [4, 0], [3, 4], [6, 0], and [2, 1]\n",
    "\n",
    "# Step 2: Create the matrix T by stacking two row vectors and transposing the result\n",
    "T = np.vstack(([1, 2, 2, 2], [0, 0, 1, 2])).T\n",
    "# T is a 4x2 matrix with column vectors [1, 0], [2, 0], [2, 1], and [2, 2]\n",
    "\n",
    "print(\"Matrix S:\")\n",
    "print(S)\n",
    "print(' ')\n",
    "\n",
    "print(\"Matrix T:\")\n",
    "print(T)\n",
    "print(' ')\n",
    "\n",
    "# Step 3: Augment matrix S with the vector v by adding v as an additional column\n",
    "Sv = np.concatenate((S, v), axis=1)\n",
    "# Sv is a 4x3 matrix, where v is added as the third column to S\n",
    "\n",
    "# Step 3: Augment matrix T with the vector v by adding v as an additional column\n",
    "Tv = np.concatenate((T, v), axis=1)\n",
    "# Tv is a 4x3 matrix, where v is added as the third column to T\n",
    "\n",
    "print(\"Augmented Matrix Sv (S with v):\")\n",
    "print(Sv)\n",
    "print(' ')\n",
    "\n",
    "print(\"Augmented Matrix Tv (T with v):\")\n",
    "print(Tv)\n",
    "print(' ')\n",
    "\n",
    "# Step 4: Calculate the rank of the augmented matrix Sv\n",
    "rank_Sv = np.linalg.matrix_rank(Sv)\n",
    "print(\"Rank of Sv:\", rank_Sv)\n",
    "# If rank_Sv is equal to the rank of S (which is 2), v is in the span of S\n",
    "# If rank_Sv is greater than 2, v is not in the span of S\n",
    "\n",
    "# Step 4: Calculate the rank of the augmented matrix Tv\n",
    "rank_Tv = np.linalg.matrix_rank(Tv)\n",
    "print(\"Rank of Tv:\", rank_Tv)\n",
    "# If rank_Tv is equal to the rank of T (which is 2), v is in the span of T\n",
    "# If rank_Tv is greater than 2, v is not in the span of T"
   ]
  }
 ],
 "metadata": {
  "kernelspec": {
   "display_name": "Python 3",
   "language": "python",
   "name": "python3"
  },
  "language_info": {
   "codemirror_mode": {
    "name": "ipython",
    "version": 3
   },
   "file_extension": ".py",
   "mimetype": "text/x-python",
   "name": "python",
   "nbconvert_exporter": "python",
   "pygments_lexer": "ipython3",
   "version": "3.9.7"
  }
 },
 "nbformat": 4,
 "nbformat_minor": 2
}
