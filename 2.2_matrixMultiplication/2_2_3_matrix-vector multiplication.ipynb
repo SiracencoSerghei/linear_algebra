{
 "cells": [
  {
   "cell_type": "code",
   "execution_count": 1,
   "metadata": {},
   "outputs": [],
   "source": [
    "import numpy as np"
   ]
  },
  {
   "cell_type": "markdown",
   "metadata": {},
   "source": [
    "---\n",
    "# Matrix-vector multiplication\n",
    "---"
   ]
  },
  {
   "cell_type": "code",
   "execution_count": 10,
   "metadata": {},
   "outputs": [
    {
     "name": "stdout",
     "output_type": "stream",
     "text": [
      "[[-1]\n",
      " [ 0]\n",
      " [ 1]\n",
      " [ 2]]\n",
      " \n",
      "with symmetric matrix\n",
      "[[ 0.]\n",
      " [ 0.]\n",
      " [ 1.]\n",
      " [-3.]]\n",
      " \n",
      "[[ 0.]\n",
      " [ 0.]\n",
      " [ 1.]\n",
      " [-3.]]\n",
      " \n",
      "[[ 0.  0.  1. -3.]]\n",
      " \n",
      "[[ 0.  0.  1. -3.]]\n",
      " \n",
      "with nonsymmetric matrix\n",
      "[[ 17]\n",
      " [ -8]\n",
      " [-15]\n",
      " [  4]]\n",
      " \n",
      "[[ 28]\n",
      " [-21]\n",
      " [ 18]\n",
      " [ -7]]\n",
      " \n",
      "[[ 17  -8 -15   4]]\n",
      " \n",
      "[[ 28 -21  18  -7]]\n",
      " \n"
     ]
    },
    {
     "data": {
      "text/plain": [
       "(None, None)"
      ]
     },
     "execution_count": 10,
     "metadata": {},
     "output_type": "execute_result"
    }
   ],
   "source": [
    "\n",
    "# number of elements\n",
    "m = 4\n",
    "\n",
    "# create matrices\n",
    "N = np.random.randint(-10,11,(m,m))\n",
    "S = np.round( N.T*N / m**2 ) # scaled symmetric\n",
    "\n",
    "# and a column vector\n",
    "w = np.array([[-1, 0, 1, 2]]).T\n",
    "print(w), print(' ')\n",
    "\n",
    "# with symmetric matrix\n",
    "print('with symmetric matrix')\n",
    "print( S@w ), print(' ')     # 1\n",
    "print( S.T@w ), print(' ')   # 2\n",
    "# print( w@S ), print(' ')     # 3 \n",
    "# signature (n?,k),(k,m?)->(n?,m?) (size 4 is different from 1)\n",
    "print( w.T@S.T ), print(' ') # 4\n",
    "print( w.T@S ), print(' ')   # 5\n",
    "\n",
    "# with nonsymmetric matrix\n",
    "print('with nonsymmetric matrix')\n",
    "print( N@w ), print(' ')     # 1\n",
    "print( N.T@w ), print(' ')   # 2\n",
    "# print( w@N ), print(' ')     # 3\n",
    "# signature (n?,k),(k,m?)->(n?,m?) (size 4 is different from 1)\n",
    "print( w.T@N.T ), print(' ') # 4\n",
    "print( w.T@N ), print(' ')   # 5"
   ]
  }
 ],
 "metadata": {
  "kernelspec": {
   "display_name": "Python 3",
   "language": "python",
   "name": "python3"
  },
  "language_info": {
   "codemirror_mode": {
    "name": "ipython",
    "version": 3
   },
   "file_extension": ".py",
   "mimetype": "text/x-python",
   "name": "python",
   "nbconvert_exporter": "python",
   "pygments_lexer": "ipython3",
   "version": "3.9.7"
  }
 },
 "nbformat": 4,
 "nbformat_minor": 2
}
