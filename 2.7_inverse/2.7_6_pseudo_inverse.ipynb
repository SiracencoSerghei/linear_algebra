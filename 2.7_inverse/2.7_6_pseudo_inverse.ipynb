{
  "cells": [
    {
      "cell_type": "markdown",
      "metadata": {
        "id": "view-in-github",
        "colab_type": "text"
      },
      "source": [
        "<a href=\"https://colab.research.google.com/github/SiracencoSerghei/linear_algebra/blob/main/2.7_inverse/2.7_6_pseudo_inverse.ipynb\" target=\"_parent\"><img src=\"https://colab.research.google.com/assets/colab-badge.svg\" alt=\"Open In Colab\"/></a>"
      ]
    },
    {
      "cell_type": "code",
      "execution_count": 1,
      "metadata": {
        "id": "3Na8SMQJHRCA"
      },
      "outputs": [],
      "source": [
        "import numpy as np\n",
        "from sympy import *\n",
        "import matplotlib.pyplot as plt"
      ]
    },
    {
      "cell_type": "markdown",
      "metadata": {
        "id": "JPXcIhfcHRCB"
      },
      "source": [
        "---\n",
        "# The pseudoinverse\n",
        "---"
      ]
    },
    {
      "cell_type": "code",
      "source": [
        "# m>n for left inverse,\n",
        "# m<n for right inverse\n",
        "m = 6\n",
        "n = 3\n",
        "\n",
        "# create matrices\n",
        "A = np.random.randn(m,n)\n",
        "AtA = A.T@A\n",
        "AAt = A@A.T\n",
        "\n",
        "# # inspect ranks\n",
        "# print('Shape of A^TA:', np.shape(AtA) )\n",
        "# print('Rank of A^TA:', np.linalg.matrix_rank(AtA) )\n",
        "# print('Shape of AA^T:', np.shape(AAt) )\n",
        "# print('Rank of AA^T:', np.linalg.matrix_rank(AAt) )\n",
        "\n",
        "# left inverse\n",
        "Aleft = np.linalg.inv(AtA)@A.T\n",
        "\n",
        "# right inverse\n",
        "Aright = A.T@np.linalg.inv(AAt)\n",
        "\n",
        "# now test!\n",
        "I_left  = Aleft  @ A\n",
        "I_right = A @ Aright\n",
        "\n",
        "# print(I_left), print(' ')\n",
        "# print(I_right), print(' ')\n",
        "\n",
        "\n",
        "# and then test using the inverse function\n",
        "AtA_inv = np.linalg.inv(AtA)\n",
        "I_AtA   = AtA_inv @ AtA\n",
        "\n",
        "AAt_inv = np.linalg.inv(AAt)\n",
        "I_AAt   = AAt_inv @ AAt\n",
        "\n",
        "# print(I_AtA), print(' ')\n",
        "# print(I_AAt)"
      ],
      "metadata": {
        "id": "HViqKiMEJNDR"
      },
      "execution_count": 11,
      "outputs": []
    },
    {
      "cell_type": "code",
      "source": [
        "## show images\n",
        "plt.subplot(331)\n",
        "plt.imshow(A), plt.axis('off')\n",
        "plt.title('A')\n",
        "\n",
        "plt.subplot(332)\n",
        "plt.imshow(AtA), plt.axis('off')\n",
        "plt.title('A$^T$A')\n",
        "\n",
        "plt.subplot(333)\n",
        "plt.imshow(AAt), plt.axis('off')\n",
        "plt.title('AA$^T$')\n",
        "\n",
        "plt.subplot(335)\n",
        "plt.imshow(Aleft), plt.axis('off')\n",
        "plt.title('$(A^TA)^{-1}A^T$')\n",
        "\n",
        "plt.subplot(336)\n",
        "plt.imshow(Aright), plt.axis('off')\n",
        "plt.title('$A^T(AA^T)^{-1}$')\n",
        "\n",
        "plt.subplot(338)\n",
        "plt.imshow(I_left), plt.axis('off')\n",
        "plt.title('[ $(A^TA)^{-1}A^T ]$  A')\n",
        "\n",
        "plt.subplot(339)\n",
        "plt.imshow(I_right), plt.axis('off')\n",
        "plt.title('A  [ $A^T(AA^T)^{-1}$ ]')\n",
        "\n",
        "plt.show()"
      ],
      "metadata": {
        "id": "IAjmeUX9JjYy",
        "outputId": "41261e81-5068-450d-a42a-239a835f23a0",
        "colab": {
          "base_uri": "https://localhost:8080/",
          "height": 431
        }
      },
      "execution_count": 12,
      "outputs": [
        {
          "output_type": "display_data",
          "data": {
            "text/plain": [
              "<Figure size 640x480 with 7 Axes>"
            ],
            "image/png": "[encoded data removed]"
          },
          "metadata": {}
        }
      ]
    },
    {
      "cell_type": "code",
      "execution_count": 13,
      "metadata": {
        "id": "z1qSe0liHRCB",
        "outputId": "8ca58c3d-be95-4613-ddae-fd9210349df1",
        "colab": {
          "base_uri": "https://localhost:8080/",
          "height": 351
        }
      },
      "outputs": [
        {
          "output_type": "display_data",
          "data": {
            "text/plain": [
              "<Figure size 640x480 with 3 Axes>"
            ],
            "image/png": "[encoded data removed]"
          },
          "metadata": {}
        }
      ],
      "source": [
        "# pseudoinverse of rectangular matrix A\n",
        "\n",
        "pseudoInvA = np.linalg.pinv(A)\n",
        "\n",
        "plt.subplot(131)\n",
        "plt.imshow(A), plt.axis('off')\n",
        "plt.title('A')\n",
        "\n",
        "plt.subplot(132)\n",
        "plt.imshow(pseudoInvA), plt.axis('off')\n",
        "plt.title('Pseudoinverse of A')\n",
        "\n",
        "plt.subplot(133)\n",
        "plt.imshow(pseudoInvA@A), plt.axis('off')\n",
        "plt.title('A$^*$A')\n",
        "\n",
        "plt.show()"
      ]
    },
    {
      "cell_type": "code",
      "execution_count": 14,
      "metadata": {
        "id": "hqManJp2HRCC",
        "outputId": "e9949511-e5a0-4b13-8e5c-13983736d47c",
        "colab": {
          "base_uri": "https://localhost:8080/"
        }
      },
      "outputs": [
        {
          "output_type": "stream",
          "name": "stdout",
          "text": [
            "rank = 49\n"
          ]
        }
      ],
      "source": [
        "# create random matrix\n",
        "n = 50\n",
        "A = np.random.randn(n,n)\n",
        "\n",
        "# make rank deficient by repeating a column\n",
        "A[:,n-1] = A[:,n-2]\n",
        "\n",
        "# rank of A!\n",
        "print('rank =',np.linalg.matrix_rank(A))"
      ]
    },
    {
      "cell_type": "code",
      "execution_count": 15,
      "metadata": {
        "id": "5BDYomVrHRCC",
        "outputId": "87f5d128-3885-4e8d-d1c1-e83720322627",
        "colab": {
          "base_uri": "https://localhost:8080/",
          "height": 431
        }
      },
      "outputs": [
        {
          "output_type": "display_data",
          "data": {
            "text/plain": [
              "<Figure size 640x480 with 4 Axes>"
            ],
            "image/png": "[encoded data removed]"
          },
          "metadata": {}
        }
      ],
      "source": [
        "# compute the pseudoinverse\n",
        "Ai = np.linalg.pinv(A)\n",
        "\n",
        "\n",
        "# and show the matrices\n",
        "plt.subplot(221)\n",
        "plt.imshow(A), plt.axis('off')\n",
        "plt.title('A')\n",
        "\n",
        "plt.subplot(222)\n",
        "plt.imshow(Ai), plt.axis('off')\n",
        "plt.title('A$^*$')\n",
        "\n",
        "plt.subplot(223)\n",
        "plt.imshow(Ai@A), plt.axis('off')\n",
        "plt.title('A$^*$A')\n",
        "\n",
        "plt.subplot(224)\n",
        "plt.imshow(A@Ai), plt.axis('off')\n",
        "plt.title('AA$^*$')\n",
        "\n",
        "plt.show()\n"
      ]
    },
    {
      "cell_type": "markdown",
      "source": [
        "---\n",
        "# Code Challenge: Pseudoinverse of invertible matricies\n",
        "---"
      ],
      "metadata": {
        "id": "qp5PJQ3aLIRz"
      }
    },
    {
      "cell_type": "code",
      "source": [
        "# pseudoinverse the same as the \"real\" inverse for an invertible matrix?\n",
        "\n",
        "m = 5\n",
        "A = np.random.randn(m,m)\n",
        "\n",
        "AinvF = np.linalg.inv(A)\n",
        "AinvP = np.linalg.pinv(A)\n",
        "\n",
        "print(AinvF), print(' ')\n",
        "print(np.round(AinvF,3)), print(' ')\n",
        "print(np.round(AinvP,3)), print(' ')\n",
        "\n",
        "print(np.round(AinvP-AinvF,5))\n",
        "\n"
      ],
      "metadata": {
        "id": "wS0NmDTzLaRI",
        "outputId": "15f6b407-be02-47a9-e0fc-8fabdfff8f28",
        "colab": {
          "base_uri": "https://localhost:8080/"
        }
      },
      "execution_count": 16,
      "outputs": [
        {
          "output_type": "stream",
          "name": "stdout",
          "text": [
            "[[ 0.06245216  0.53692485 -0.76609397 -0.23147607  0.65195217]\n",
            " [ 0.11456183  0.02886263 -0.25108704  0.61378097  0.54893983]\n",
            " [-0.69915624  0.2400496  -0.82521697  0.37834765  0.96873771]\n",
            " [-0.40861717  0.26193334 -0.9250607   0.92585346  0.27433916]\n",
            " [-0.17491367 -0.01546847  0.43194048  0.82094111 -0.55629743]]\n",
            " \n",
            "[[ 0.062  0.537 -0.766 -0.231  0.652]\n",
            " [ 0.115  0.029 -0.251  0.614  0.549]\n",
            " [-0.699  0.24  -0.825  0.378  0.969]\n",
            " [-0.409  0.262 -0.925  0.926  0.274]\n",
            " [-0.175 -0.015  0.432  0.821 -0.556]]\n",
            " \n",
            "[[ 0.062  0.537 -0.766 -0.231  0.652]\n",
            " [ 0.115  0.029 -0.251  0.614  0.549]\n",
            " [-0.699  0.24  -0.825  0.378  0.969]\n",
            " [-0.409  0.262 -0.925  0.926  0.274]\n",
            " [-0.175 -0.015  0.432  0.821 -0.556]]\n",
            " \n",
            "[[-0.  0.  0.  0. -0.]\n",
            " [-0.  0. -0.  0.  0.]\n",
            " [ 0. -0.  0.  0. -0.]\n",
            " [-0. -0.  0.  0. -0.]\n",
            " [ 0.  0. -0. -0.  0.]]\n"
          ]
        }
      ]
    }
  ],
  "metadata": {
    "language_info": {
      "name": "python"
    },
    "colab": {
      "provenance": [],
      "include_colab_link": true
    },
    "kernelspec": {
      "name": "python3",
      "display_name": "Python 3"
    }
  },
  "nbformat": 4,
  "nbformat_minor": 0
}