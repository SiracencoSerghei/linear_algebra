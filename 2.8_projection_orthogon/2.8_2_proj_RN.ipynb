{
 "cells": [
  {
   "cell_type": "code",
   "execution_count": null,
   "metadata": {},
   "outputs": [],
   "source": [
    "import numpy as np\n",
    "from sympy import *\n",
    "import matplotlib.pyplot as plt\n",
    "import math"
   ]
  },
  {
   "cell_type": "markdown",
   "metadata": {},
   "source": [
    "---\n",
    "# Projections in R^N\n",
    "---"
   ]
  },
  {
   "cell_type": "code",
   "execution_count": null,
   "metadata": {},
   "outputs": [],
   "source": [
    "## the goal here is to solve Ax=b for x\n",
    "\n",
    "# sizes\n",
    "m = 16\n",
    "n = 10\n",
    "\n",
    "# vector b\n",
    "b = np.random.randn(m,1)\n",
    "\n",
    "# matrix A\n",
    "A = np.random.randn(m,n)\n",
    "\n",
    "# solution using explicit inverse\n",
    "x1 = np.linalg.inv(A.T@A) @ (A.T@b)\n",
    "\n",
    "# python solution (better method)\n",
    "x2 = np.linalg.solve(A.T@A,A.T@b)\n",
    "\n",
    "# show that the results are the same\n",
    "print(np.round(x1.T,3))\n",
    "print(np.round(x2.T,3))\n"
   ]
  },
  {
   "cell_type": "code",
   "execution_count": null,
   "metadata": {},
   "outputs": [],
   "source": [
    "## geometric perspective in R^3\n",
    "\n",
    "# matrix sizes\n",
    "m = 3\n",
    "n = 2\n",
    "\n",
    "# vector b\n",
    "b = np.random.randn(m,1)\n",
    "\n",
    "# matrix A\n",
    "A = np.random.randn(m,n)\n",
    "\n",
    "\n",
    "# solution\n",
    "x = np.linalg.solve(A.T@A,A.T@b)\n",
    "Ax = A@x\n",
    "\n",
    "print(b.T)\n",
    "print(Ax.T)\n"
   ]
  },
  {
   "cell_type": "code",
   "execution_count": null,
   "metadata": {},
   "outputs": [],
   "source": [
    "## plot\n",
    "fig = plt.figure(figsize=plt.figaspect(1))\n",
    "ax = fig.add_subplot(projection='3d')\n",
    "\n",
    "b = np.squeeze(b)\n",
    "Ax = np.squeeze(Ax)\n",
    "\n",
    "# plot the vectors\n",
    "ax.plot([0, b[0]],[0, b[1]],[0, b[2]],'r')\n",
    "ax.plot([0, Ax[0]],[0, Ax[1]],[0, Ax[2]],'b')\n",
    "\n",
    "# plot the projection line\n",
    "ax.plot( [Ax[0], b[0]],\n",
    "         [Ax[1], b[1]],\n",
    "         [Ax[2], b[2]], 'g')\n",
    "\n",
    "# now draw plane\n",
    "xx, yy = np.meshgrid(np.linspace(-2,2), np.linspace(-2,2))\n",
    "cp = np.cross(A[:,0],A[:,1])\n",
    "z1 = (-cp[0]*xx - cp[1]*yy)*1./cp[2]\n",
    "ax.plot_surface(xx,yy,z1,alpha=.4)\n",
    "\n",
    "plt.show()\n"
   ]
  }
 ],
 "metadata": {
  "language_info": {
   "name": "python"
  }
 },
 "nbformat": 4,
 "nbformat_minor": 2
}
