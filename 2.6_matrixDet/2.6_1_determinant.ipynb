{
 "cells": [
  {
   "cell_type": "code",
   "execution_count": 1,
   "metadata": {},
   "outputs": [],
   "source": [
    "import numpy as np"
   ]
  },
  {
   "cell_type": "markdown",
   "metadata": {},
   "source": [
    "---\n",
    "# Matrix Determinant\n",
    "---"
   ]
  },
  {
   "cell_type": "code",
   "execution_count": 3,
   "metadata": {},
   "outputs": [
    {
     "name": "stdout",
     "output_type": "stream",
     "text": [
      "The columns of the matrix are linearly dependent.\n"
     ]
    }
   ],
   "source": [
    "\n",
    "# Example matrix\n",
    "A = np.array([[1, 2, 1],\n",
    "              [3, 6, 3],\n",
    "              [5, 10, 5]])\n",
    "\n",
    "# Check rank\n",
    "rank_A = np.linalg.matrix_rank(A)\n",
    "\n",
    "# Linear dependence check\n",
    "if rank_A < A.shape[1]:\n",
    "    print(\"The columns of the matrix are linearly dependent.\")\n",
    "else:\n",
    "    print(\"The columns of the matrix are linearly independent.\")"
   ]
  }
 ],
 "metadata": {
  "kernelspec": {
   "display_name": "Python 3",
   "language": "python",
   "name": "python3"
  },
  "language_info": {
   "codemirror_mode": {
    "name": "ipython",
    "version": 3
   },
   "file_extension": ".py",
   "mimetype": "text/x-python",
   "name": "python",
   "nbconvert_exporter": "python",
   "pygments_lexer": "ipython3",
   "version": "3.9.7"
  }
 },
 "nbformat": 4,
 "nbformat_minor": 2
}
