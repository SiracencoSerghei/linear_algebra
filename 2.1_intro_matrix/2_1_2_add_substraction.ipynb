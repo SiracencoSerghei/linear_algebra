{
 "cells": [
  {
   "cell_type": "code",
   "execution_count": 1,
   "metadata": {},
   "outputs": [],
   "source": [
    "import numpy as np\n",
    "import matplotlib.pyplot as plt\n",
    "from mpl_toolkits.mplot3d import Axes3D"
   ]
  },
  {
   "cell_type": "code",
   "execution_count": 7,
   "metadata": {},
   "outputs": [
    {
     "name": "stdout",
     "output_type": "stream",
     "text": [
      "[[-3.03227206  0.75462626 -1.54842713 -0.1329239   1.14915098]\n",
      " [-1.50019415  0.79727018 -1.19514418 -1.96629284 -1.28300449]\n",
      " [ 0.83797252 -0.48985235  0.42898395 -1.77333565 -0.0296987 ]\n",
      " [ 1.06694995  0.45378031  1.01791103  0.97363825  1.02824268]\n",
      " [ 1.15945075  0.28429742  1.06785545  1.04798155 -0.92716093]]\n",
      " \n",
      "[[-2.73227206  0.75462626 -1.54842713 -0.1329239   1.14915098]\n",
      " [-1.50019415  1.09727018 -1.19514418 -1.96629284 -1.28300449]\n",
      " [ 0.83797252 -0.48985235  0.72898395 -1.77333565 -0.0296987 ]\n",
      " [ 1.06694995  0.45378031  1.01791103  1.27363825  1.02824268]\n",
      " [ 1.15945075  0.28429742  1.06785545  1.04798155 -0.62716093]]\n"
     ]
    },
    {
     "data": {
      "text/plain": [
       "(None, None, None)"
      ]
     },
     "execution_count": 7,
     "metadata": {},
     "output_type": "execute_result"
    }
   ],
   "source": [
    "A = np.random.randn(5,4)\n",
    "B = np.random.randn(5,3)\n",
    "C = np.random.randn(5,4)\n",
    "\n",
    "## try to add them\n",
    "# # AB = A + B # error\n",
    "# AC = A + C\n",
    "# # print(AB), print(' ')\n",
    "# print(AC), print(' ')\n",
    "\n",
    "## \"shifting\" a matrix\n",
    "l = .3 # lambda\n",
    "N = 5 # size of square matrix\n",
    "D = np.random.randn(N,N) # can only shift a square matrix\n",
    "\n",
    "Ds = D + l*np.eye(N)\n",
    "\n",
    "print(D), print(' '), print(Ds)\n",
    "\n"
   ]
  }
 ],
 "metadata": {
  "kernelspec": {
   "display_name": "Python 3",
   "language": "python",
   "name": "python3"
  },
  "language_info": {
   "codemirror_mode": {
    "name": "ipython",
    "version": 3
   },
   "file_extension": ".py",
   "mimetype": "text/x-python",
   "name": "python",
   "nbconvert_exporter": "python",
   "pygments_lexer": "ipython3",
   "version": "3.9.7"
  }
 },
 "nbformat": 4,
 "nbformat_minor": 2
}
