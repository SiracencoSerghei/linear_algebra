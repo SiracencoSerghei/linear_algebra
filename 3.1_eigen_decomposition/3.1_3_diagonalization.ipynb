{
  "cells": [
    {
      "cell_type": "markdown",
      "metadata": {
        "id": "view-in-github",
        "colab_type": "text"
      },
      "source": [
        "<a href=\"https://colab.research.google.com/github/SiracencoSerghei/linear_algebra/blob/main/3.1_eigen_decomposition/3.1_3_diagonalization.ipynb\" target=\"_parent\"><img src=\"https://colab.research.google.com/assets/colab-badge.svg\" alt=\"Open In Colab\"/></a>"
      ]
    },
    {
      "cell_type": "code",
      "execution_count": null,
      "metadata": {
        "id": "EwX6cLHe2qwo"
      },
      "outputs": [],
      "source": [
        "import numpy as np\n",
        "import matplotlib.pyplot as plt"
      ]
    },
    {
      "cell_type": "markdown",
      "metadata": {
        "id": "5i7TLGnA2qwo"
      },
      "source": [
        "---\n",
        "# Diagonalization\n",
        "---"
      ]
    },
    {
      "cell_type": "code",
      "execution_count": null,
      "metadata": {
        "id": "EWSgC8P32qwp",
        "outputId": "7a408d78-71ee-4400-afb9-f2931260d352",
        "colab": {
          "base_uri": "https://localhost:8080/",
          "height": 303
        }
      },
      "outputs": [
        {
          "output_type": "display_data",
          "data": {
            "text/plain": [
              "<Figure size 640x480 with 2 Axes>"
            ],
            "image/png": "[encoded data removed]"
          },
          "metadata": {}
        },
        {
          "output_type": "stream",
          "name": "stdout",
          "text": [
            "Reconstruction RMS: 8.876453526801943e-14\n"
          ]
        }
      ],
      "source": [
        "## eigendecomposition of A\n",
        "\n",
        "# make a symmetric matrix\n",
        "A = np.round(10*np.random.randn(4,4))\n",
        "A = A.T@A\n",
        "\n",
        "# eigendecomposition\n",
        "evals,evecs = np.linalg.eig(A)\n",
        "\n",
        "# test reconstruction\n",
        "Ap = evecs @ np.diag(evals) @ np.linalg.inv(evecs)\n",
        "\n",
        "\n",
        "# plot\n",
        "plt.subplot(121)\n",
        "plt.imshow(A)\n",
        "plt.axis('off')\n",
        "plt.title('A')\n",
        "\n",
        "plt.subplot(122)\n",
        "plt.imshow(Ap)\n",
        "plt.axis('off')\n",
        "plt.title('$V\\Lambda V^{-1}$')\n",
        "\n",
        "plt.show()\n",
        "\n",
        "# subtract the two (should be zero with rounding errors)\n",
        "recondiff = A-Ap\n",
        "\n",
        "# reconstruction error (note the numerical inaccuracies)\n",
        "rmsA = np.sqrt( np.mean(np.square( np.reshape(recondiff,(1,-1)) )) )\n",
        "\n",
        "print('Reconstruction RMS:', rmsA)"
      ]
    },
    {
      "cell_type": "code",
      "execution_count": null,
      "metadata": {
        "id": "jvj7KMny2qwp",
        "outputId": "dfc54010-b944-422b-a1b8-bc3032a6cc29",
        "colab": {
          "base_uri": "https://localhost:8080/",
          "height": 169
        }
      },
      "outputs": [
        {
          "output_type": "display_data",
          "data": {
            "text/plain": [
              "<Figure size 640x480 with 4 Axes>"
            ],
            "image/png": "[encoded data removed]"
          },
          "metadata": {}
        }
      ],
      "source": [
        "## diagonalization in images\n",
        "\n",
        "# A matrix\n",
        "A = np.random.randn(10,10)\n",
        "A = A.T@A\n",
        "\n",
        "# eigendecomposition\n",
        "D,V = np.linalg.eig(A)\n",
        "\n",
        "# show the results\n",
        "plt.subplot(141)\n",
        "plt.imshow(A)\n",
        "plt.title('A')\n",
        "plt.axis('off')\n",
        "\n",
        "plt.subplot(142)\n",
        "plt.imshow(V)\n",
        "plt.title('V')\n",
        "plt.axis('off')\n",
        "\n",
        "plt.subplot(143)\n",
        "plt.imshow(np.diag(D))\n",
        "plt.title('$\\Lambda$')\n",
        "plt.axis('off')\n",
        "\n",
        "plt.subplot(144)\n",
        "plt.imshow(np.linalg.inv(V))\n",
        "plt.title('$V^{-1}$')\n",
        "plt.axis('off')\n",
        "\n",
        "plt.show()"
      ]
    }
  ],
  "metadata": {
    "language_info": {
      "name": "python"
    },
    "colab": {
      "provenance": [],
      "include_colab_link": true
    },
    "kernelspec": {
      "name": "python3",
      "display_name": "Python 3"
    }
  },
  "nbformat": 4,
  "nbformat_minor": 0
}