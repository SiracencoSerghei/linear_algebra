{
 "cells": [
  {
   "cell_type": "code",
   "execution_count": null,
   "metadata": {},
   "outputs": [],
   "source": [
    "import numpy as np\n",
    "import matplotlib.pyplot as plt"
   ]
  },
  {
   "cell_type": "markdown",
   "metadata": {},
   "source": [
    "---\n",
    "# SVD, matrix inverse, and pseudoinverse\n",
    "---"
   ]
  },
  {
   "cell_type": "code",
   "execution_count": null,
   "metadata": {},
   "outputs": [],
   "source": [
    "# the matrix\n",
    "A = [ [1,2,3],\n",
    "      [1,2,4], # hint: change 2->0 for invertible matrix to test\n",
    "      [1,2,5]  ]\n",
    "  \n",
    "# SVD\n",
    "U,S,V = np.linalg.svd(A)\n",
    "\n",
    "# pseudoinvert S\n",
    "nonzeroels = S>10**-14 # find nonzero elements (>rounding errors)\n",
    "S[nonzeroels] = 1/S[nonzeroels] # invert only those elements\n",
    "\n",
    "# now pseudoinvert A\n",
    "Ai = V.T@np.diag(S)@U.T\n",
    "\n",
    "# it's sortof close to I...?\n",
    "print( Ai@A ), print(' ')\n",
    "\n",
    "# compute with pinv function\n",
    "print( np.linalg.pinv(A)@A )"
   ]
  },
  {
   "cell_type": "code",
   "execution_count": null,
   "metadata": {},
   "outputs": [],
   "source": [
    "import inspect\n",
    "lines = inspect.getsource(np.linalg.pinv)\n",
    "print(lines)"
   ]
  }
 ],
 "metadata": {
  "language_info": {
   "name": "python"
  }
 },
 "nbformat": 4,
 "nbformat_minor": 2
}
