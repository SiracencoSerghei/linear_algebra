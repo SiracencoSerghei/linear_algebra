{
 "cells": [
  {
   "cell_type": "code",
   "execution_count": 1,
   "metadata": {},
   "outputs": [],
   "source": [
    "import numpy as np\n",
    "import matplotlib.pyplot as plt\n",
    "import math"
   ]
  },
  {
   "cell_type": "markdown",
   "metadata": {},
   "source": [
    "---\n",
    "# Computing rank: theory and practice\n",
    "---"
   ]
  },
  {
   "cell_type": "code",
   "execution_count": 6,
   "metadata": {},
   "outputs": [
    {
     "name": "stdout",
     "output_type": "stream",
     "text": [
      "rank = 4\n",
      "[[ 0.10812734  0.15803734  0.69251414  0.3527542   1.04713556  0.38813995]\n",
      " [-0.0809294  -2.80006606  1.00232942 -1.46923597  0.95802992  1.39886138]\n",
      " [-0.93267014 -1.66483455 -0.61829851  0.55451961 -0.33844931  0.6459017 ]\n",
      " [ 0.78311619  0.08391396 -1.11133932 -0.38865726  0.95777427  0.12316616]]\n",
      " \n",
      "[ 1.04713556  0.95802992 -0.33844931  0.95777427]\n",
      "[[ 0.10812734  0.15803734  0.69251414  0.3527542   1.04713556  1.04713556]\n",
      " [-0.0809294  -2.80006606  1.00232942 -1.46923597  0.95802992  0.95802992]\n",
      " [-0.93267014 -1.66483455 -0.61829851  0.55451961 -0.33844931 -0.33844931]\n",
      " [ 0.78311619  0.08391396 -1.11133932 -0.38865726  0.95777427  0.95777427]]\n",
      "rank = 4\n"
     ]
    }
   ],
   "source": [
    "# make a matrix\n",
    "m = 4\n",
    "n = 6\n",
    "\n",
    "# create a random matrix\n",
    "A = np.random.randn(m,n)\n",
    "\n",
    "# what is the largest possible rank?\n",
    "ra = np.linalg.matrix_rank(A)\n",
    "print('rank = ' + str(ra))\n",
    "\n",
    "# set last column to be repeat of penultimate column\n",
    "B = A\n",
    "print(B), print(' ')\n",
    "B[:,-1] = B[:,-2]\n",
    "print(B[:,-1])\n",
    "print(B)\n",
    "\n",
    "rb = np.linalg.matrix_rank(B)\n",
    "print('rank = ' + str(rb))"
   ]
  },
  {
   "cell_type": "code",
   "execution_count": 7,
   "metadata": {},
   "outputs": [
    {
     "name": "stdout",
     "output_type": "stream",
     "text": [
      "rank (w/o noise) = 3\n",
      "rank (with noise) = 4\n"
     ]
    }
   ],
   "source": [
    "## adding noise to a rank-deficient matrix\n",
    "\n",
    "# square for convenience\n",
    "A = np.round( 10*np.random.randn(m,m) )\n",
    "\n",
    "# reduce the rank\n",
    "A[:,-1] = A[:,-2]\n",
    "\n",
    "# noise level\n",
    "noiseamp = .001\n",
    "\n",
    "# add the noise\n",
    "B = A + noiseamp*np.random.randn(m,m)\n",
    "\n",
    "print('rank (w/o noise) = ' + str(np.linalg.matrix_rank(A)))\n",
    "print('rank (with noise) = ' + str(np.linalg.matrix_rank(B)))\n"
   ]
  }
 ],
 "metadata": {
  "kernelspec": {
   "display_name": "Python 3",
   "language": "python",
   "name": "python3"
  },
  "language_info": {
   "codemirror_mode": {
    "name": "ipython",
    "version": 3
   },
   "file_extension": ".py",
   "mimetype": "text/x-python",
   "name": "python",
   "nbconvert_exporter": "python",
   "pygments_lexer": "ipython3",
   "version": "3.9.7"
  }
 },
 "nbformat": 4,
 "nbformat_minor": 2
}
