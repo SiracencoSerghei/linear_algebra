{
  "nbformat": 4,
  "nbformat_minor": 0,
  "metadata": {
    "colab": {
      "provenance": [],
      "authorship_tag": "ABX9TyMIZijGw888RHY9DvnKsQBr",
      "include_colab_link": true
    },
    "kernelspec": {
      "name": "python3",
      "display_name": "Python 3"
    },
    "language_info": {
      "name": "python"
    }
  },
  "cells": [
    {
      "cell_type": "markdown",
      "metadata": {
        "id": "view-in-github",
        "colab_type": "text"
      },
      "source": [
        "<a href=\"https://colab.research.google.com/github/SiracencoSerghei/linear_algebra/blob/main/2.2_matrixMultiplication/2_2_10_matrix_NORM.ipynb\" target=\"_parent\"><img src=\"https://colab.research.google.com/assets/colab-badge.svg\" alt=\"Open In Colab\"/></a>"
      ]
    },
    {
      "cell_type": "code",
      "execution_count": 1,
      "metadata": {
        "id": "R2_lmGqRuBqh"
      },
      "outputs": [],
      "source": [
        "import numpy as np"
      ]
    },
    {
      "cell_type": "markdown",
      "source": [
        "---\n",
        "# Matrix Norms\n",
        "---"
      ],
      "metadata": {
        "id": "KkzV_U2Nur7L"
      }
    },
    {
      "cell_type": "code",
      "source": [
        "# Create a matrix\n",
        "A = np.array([ [1,2,3], [4,5,6], [7,7,9] ])\n",
        "\n",
        "# optional orthogonal matrix to show that 2-norm is 1\n",
        "Q,R = np.linalg.qr(np.random.randn(5,5))\n",
        "# A = Q\n",
        "\n",
        "# Frobenius norm\n",
        "normFrob = np.linalg.norm(A,'fro')\n",
        "\n",
        "# induced 2-norm\n",
        "normInd2 = np.linalg.norm(A,2)\n",
        "# note: computed as below\n",
        "lamb = np.sqrt( np.max(np.linalg.eig(A.T@A)[0]) )\n",
        "\n",
        "# schatten p-norm\n",
        "p = 2\n",
        "s = np.linalg.svd(A)[1] # get singular values\n",
        "normSchat = np.sum(s**p)**(1/p)\n",
        "\n",
        "\n",
        "# % show all norms for comparison\n",
        "print(normFrob,normSchat,normInd2)\n"
      ],
      "metadata": {
        "id": "AnMx9NUQuxex",
        "outputId": "a071656e-b818-470a-f5d2-75ea3bf8a33c",
        "colab": {
          "base_uri": "https://localhost:8080/"
        }
      },
      "execution_count": 2,
      "outputs": [
        {
          "output_type": "stream",
          "name": "stdout",
          "text": [
            "16.431676725154983 16.431676725154986 16.392007827749776\n"
          ]
        }
      ]
    }
  ]
}