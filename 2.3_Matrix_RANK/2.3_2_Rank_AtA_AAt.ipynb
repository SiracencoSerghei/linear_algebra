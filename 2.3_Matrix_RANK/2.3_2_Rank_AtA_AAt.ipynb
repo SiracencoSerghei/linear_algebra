{
 "cells": [
  {
   "cell_type": "code",
   "execution_count": 1,
   "metadata": {},
   "outputs": [],
   "source": [
    "import numpy as np\n",
    "import matplotlib.pyplot as plt\n",
    "import math"
   ]
  },
  {
   "cell_type": "markdown",
   "metadata": {},
   "source": [
    "---\n",
    "# Rank of A^TA and AA^T\n",
    "---"
   ]
  },
  {
   "cell_type": "code",
   "execution_count": null,
   "metadata": {},
   "outputs": [],
   "source": [
    "# matrix sizes\n",
    "m = 14\n",
    "n =  3\n",
    "\n",
    "# create matrices\n",
    "A = np.round( 10*np.random.randn(m,n) )\n",
    "\n",
    "AtA = A.T@A\n",
    "AAt = A@A.T\n",
    "\n",
    "# get matrix sizes\n",
    "sizeAtA = AtA.shape\n",
    "sizeAAt = AAt.shape\n",
    "\n",
    "# print info!\n",
    "print('AtA: %dx%d, rank=%d' %(sizeAtA[0],sizeAtA[1],np.linalg.matrix_rank(AtA)))\n",
    "print('AAt: %dx%d, rank=%d' %(sizeAAt[0],sizeAAt[1],np.linalg.matrix_rank(AAt)))\n"
   ]
  }
 ],
 "metadata": {
  "kernelspec": {
   "display_name": "Python 3",
   "language": "python",
   "name": "python3"
  },
  "language_info": {
   "codemirror_mode": {
    "name": "ipython",
    "version": 3
   },
   "file_extension": ".py",
   "mimetype": "text/x-python",
   "name": "python",
   "nbconvert_exporter": "python",
   "pygments_lexer": "ipython3",
   "version": "3.9.7"
  }
 },
 "nbformat": 4,
 "nbformat_minor": 2
}
