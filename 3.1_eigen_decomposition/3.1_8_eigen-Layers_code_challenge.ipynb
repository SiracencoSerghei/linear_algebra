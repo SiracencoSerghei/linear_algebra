{
  "cells": [
    {
      "cell_type": "markdown",
      "metadata": {
        "id": "view-in-github",
        "colab_type": "text"
      },
      "source": [
        "<a href=\"https://colab.research.google.com/github/SiracencoSerghei/linear_algebra/blob/main/3.1_eigen_decomposition/3.1_8_eigen-Layers_code_challenge.ipynb\" target=\"_parent\"><img src=\"https://colab.research.google.com/assets/colab-badge.svg\" alt=\"Open In Colab\"/></a>"
      ]
    },
    {
      "cell_type": "code",
      "execution_count": 1,
      "metadata": {
        "id": "EKyXdoj1Qoeb"
      },
      "outputs": [],
      "source": [
        "import numpy as np\n",
        "import matplotlib.pyplot as plt\n",
        "from sympy import *\n",
        "from mpl_toolkits.mplot3d import Axes3D"
      ]
    },
    {
      "cell_type": "markdown",
      "metadata": {
        "id": "2TbmDIvEQoeb"
      },
      "source": [
        "---\n",
        "# Code Challenge: reconstruct a matrix from eigenLayers\n",
        "---"
      ]
    },
    {
      "cell_type": "code",
      "source": [
        "# create an mxm symmetric matrix (5x5), take eigenDecompos.\n",
        "m = 5\n",
        "A = np.random.randn(m,m)\n",
        "A = np.round(10*A.T@A)\n",
        "\n",
        "D,V = np.linalg.eig(A)\n",
        "\n",
        "# convert to column vector\n",
        "v = V[:,2]\n",
        "print(v)\n",
        "print(v.T)\n",
        "print(np.reshape(v,(m,1)))\n",
        "print(np.reshape(v,(m,1)).T)\n"
      ],
      "metadata": {
        "id": "hi5OMajoQsTn",
        "outputId": "92b287a1-1538-4ad0-b887-39bf9b1d03f2",
        "colab": {
          "base_uri": "https://localhost:8080/"
        }
      },
      "execution_count": 11,
      "outputs": [
        {
          "output_type": "stream",
          "name": "stdout",
          "text": [
            "[ 0.45896223  0.24145472 -0.2467695   0.17676273 -0.79932036]\n",
            "[ 0.45896223  0.24145472 -0.2467695   0.17676273 -0.79932036]\n",
            "[[ 0.45896223]\n",
            " [ 0.24145472]\n",
            " [-0.2467695 ]\n",
            " [ 0.17676273]\n",
            " [-0.79932036]]\n",
            "[[ 0.45896223  0.24145472 -0.2467695   0.17676273 -0.79932036]]\n"
          ]
        }
      ]
    },
    {
      "cell_type": "code",
      "source": [
        "# show that the norm of the outer product of v_i = 1\n",
        "op = np.outer(v,v)\n",
        "print(op), print(' ')\n",
        "\n",
        "v = np.reshape(V[:,2],(m,1))\n",
        "print(v), print(' ')\n",
        "print(v*v.T), print(' ') # with orientation can use *\n",
        "print(v@v.T), print(' ')\n",
        "\n",
        "print( np.linalg.norm(op) )\n"
      ],
      "metadata": {
        "id": "y3M0oq64TZCf",
        "outputId": "b6c99984-ba83-4ed5-9951-f6a20cbbfd7e",
        "colab": {
          "base_uri": "https://localhost:8080/"
        }
      },
      "execution_count": 13,
      "outputs": [
        {
          "output_type": "stream",
          "name": "stdout",
          "text": [
            "[[ 0.21064633  0.1108186  -0.11325788  0.08112742 -0.36685786]\n",
            " [ 0.1108186   0.05830038 -0.05958366  0.0426802  -0.19299967]\n",
            " [-0.11325788 -0.05958366  0.06089519 -0.04361965  0.19724789]\n",
            " [ 0.08112742  0.0426802  -0.04361965  0.03124506 -0.14129005]\n",
            " [-0.36685786 -0.19299967  0.19724789 -0.14129005  0.63891303]]\n",
            " \n",
            "[[ 0.45896223]\n",
            " [ 0.24145472]\n",
            " [-0.2467695 ]\n",
            " [ 0.17676273]\n",
            " [-0.79932036]]\n",
            " \n",
            "[[ 0.21064633  0.1108186  -0.11325788  0.08112742 -0.36685786]\n",
            " [ 0.1108186   0.05830038 -0.05958366  0.0426802  -0.19299967]\n",
            " [-0.11325788 -0.05958366  0.06089519 -0.04361965  0.19724789]\n",
            " [ 0.08112742  0.0426802  -0.04361965  0.03124506 -0.14129005]\n",
            " [-0.36685786 -0.19299967  0.19724789 -0.14129005  0.63891303]]\n",
            " \n",
            "[[ 0.21064633  0.1108186  -0.11325788  0.08112742 -0.36685786]\n",
            " [ 0.1108186   0.05830038 -0.05958366  0.0426802  -0.19299967]\n",
            " [-0.11325788 -0.05958366  0.06089519 -0.04361965  0.19724789]\n",
            " [ 0.08112742  0.0426802  -0.04361965  0.03124506 -0.14129005]\n",
            " [-0.36685786 -0.19299967  0.19724789 -0.14129005  0.63891303]]\n",
            " \n",
            "1.0\n"
          ]
        }
      ]
    },
    {
      "cell_type": "code",
      "source": [
        "# create one Layer of A as lvv', compute its norm\n",
        "print(v*D[2]*v.T)\n",
        "print( np.linalg.norm(v*D[2]*v.T) )\n",
        "print(D[2])"
      ],
      "metadata": {
        "id": "CtYAp66dWtZO",
        "outputId": "58658a42-384f-43c6-d655-e577e5be5633",
        "colab": {
          "base_uri": "https://localhost:8080/"
        }
      },
      "execution_count": 15,
      "outputs": [
        {
          "output_type": "stream",
          "name": "stdout",
          "text": [
            "[[  8.42178914   4.43060582  -4.52813018   3.24353151 -14.66723628]\n",
            " [  4.43060582   2.33089046  -2.38219689   1.7063844   -7.7162633 ]\n",
            " [ -4.52813018  -2.38219689   2.43463266  -1.74394451   7.88610996]\n",
            " [  3.24353151   1.7063844   -1.74394451   1.24919972  -5.64887606]\n",
            " [-14.66723628  -7.7162633    7.88610996  -5.64887606  25.54419454]]\n",
            "39.98070652166003\n",
            "39.98070652166003\n"
          ]
        }
      ]
    },
    {
      "cell_type": "code",
      "source": [
        "# reconstruct A by summer over outer products\n",
        "Arecon = np.zeros((m,m))\n",
        "\n",
        "for i in range(m):\n",
        "  v = np.reshape(V[:,i],(m,1))\n",
        "  Arecon += v*D[i]*v.T\n",
        "  print(np.linalg.matrix_rank(Arecon))\n",
        "\n",
        "print(' ')\n",
        "print(A), print(' ')\n",
        "print(Arecon), print(' ')\n",
        "print(np.round((A-Arecon),3)), print(' ')\n"
      ],
      "metadata": {
        "id": "nuNfVCy7XdWT",
        "outputId": "49c2a969-a1f4-4e6c-ab19-61643c237517",
        "colab": {
          "base_uri": "https://localhost:8080/"
        }
      },
      "execution_count": 19,
      "outputs": [
        {
          "output_type": "stream",
          "name": "stdout",
          "text": [
            "1\n",
            "2\n",
            "3\n",
            "4\n",
            "5\n",
            " \n",
            "[[ 44.  25.  32. -18.  -4.]\n",
            " [ 25.  26.  16. -28.  -1.]\n",
            " [ 32.  16.  49. -20.  16.]\n",
            " [-18. -28. -20.  88.  -2.]\n",
            " [ -4.  -1.  16.  -2.  32.]]\n",
            " \n",
            "[[ 44.  25.  32. -18.  -4.]\n",
            " [ 25.  26.  16. -28.  -1.]\n",
            " [ 32.  16.  49. -20.  16.]\n",
            " [-18. -28. -20.  88.  -2.]\n",
            " [ -4.  -1.  16.  -2.  32.]]\n",
            " \n",
            "[[ 0.  0. -0.  0. -0.]\n",
            " [ 0.  0.  0. -0.  0.]\n",
            " [-0.  0.  0.  0.  0.]\n",
            " [ 0. -0.  0.  0. -0.]\n",
            " [-0.  0.  0. -0. -0.]]\n",
            " \n"
          ]
        },
        {
          "output_type": "execute_result",
          "data": {
            "text/plain": [
              "(None, None)"
            ]
          },
          "metadata": {},
          "execution_count": 19
        }
      ]
    },
    {
      "cell_type": "markdown",
      "source": [
        "---\n",
        "# Code Challenge: trace and determinant, eigenValues sum and product\n",
        "---"
      ],
      "metadata": {
        "id": "jSBH5DiwZt1T"
      }
    },
    {
      "cell_type": "code",
      "source": [
        "#  trace(A) = sum(evals)\n",
        "# det(A) = prod(evals)\n",
        "\n",
        "A = np.random.randn(7,7)\n",
        "tr = np.matrix.trace(A)\n",
        "dt = np.linalg.det(A)\n",
        "l = np.linalg.eig(A)[0]\n",
        "\n",
        "print(tr,sum(l))\n",
        "print(dt,np.prod(l))"
      ],
      "metadata": {
        "id": "b5buseJpcddP",
        "outputId": "8287cf1f-bc5e-4d01-d7b7-2325d43ecfc5",
        "colab": {
          "base_uri": "https://localhost:8080/"
        }
      },
      "execution_count": 21,
      "outputs": [
        {
          "output_type": "stream",
          "name": "stdout",
          "text": [
            "-0.4015943816442239 (-0.401594381644212+0j)\n",
            "-45.1512299057327 (-45.15122990573243+0j)\n"
          ]
        }
      ]
    },
    {
      "cell_type": "code",
      "source": [
        "A = np.random.randn(7,5) @ np.random.randn(5,7)\n",
        "tr = np.matrix.trace(A)\n",
        "dt = np.linalg.det(A)\n",
        "l = np.linalg.eig(A)[0]\n",
        "\n",
        "print(tr,sum(l))\n",
        "print(dt,np.prod(l))"
      ],
      "metadata": {
        "id": "YAEiul52gkPQ",
        "outputId": "c33c4463-38b7-4b36-f9e3-a2db0bd54b4c",
        "colab": {
          "base_uri": "https://localhost:8080/"
        }
      },
      "execution_count": 23,
      "outputs": [
        {
          "output_type": "stream",
          "name": "stdout",
          "text": [
            "3.644124504953827 (3.644124504953827+0j)\n",
            "7.949362508530584e-29 (-1.772215584818576e-27+0j)\n"
          ]
        }
      ]
    }
  ],
  "metadata": {
    "language_info": {
      "name": "python"
    },
    "colab": {
      "provenance": [],
      "include_colab_link": true
    },
    "kernelspec": {
      "name": "python3",
      "display_name": "Python 3"
    }
  },
  "nbformat": 4,
  "nbformat_minor": 0
}