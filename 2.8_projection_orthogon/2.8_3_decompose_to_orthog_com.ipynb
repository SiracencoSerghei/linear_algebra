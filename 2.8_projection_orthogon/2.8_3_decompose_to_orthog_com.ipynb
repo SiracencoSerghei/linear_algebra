{
  "cells": [
    {
      "cell_type": "markdown",
      "metadata": {
        "id": "view-in-github",
        "colab_type": "text"
      },
      "source": [
        "<a href=\"https://colab.research.google.com/github/SiracencoSerghei/linear_algebra/blob/main/2.8_projection_orthogon/2.8_3_decompose_to_orthog_com.ipynb\" target=\"_parent\"><img src=\"https://colab.research.google.com/assets/colab-badge.svg\" alt=\"Open In Colab\"/></a>"
      ]
    },
    {
      "cell_type": "code",
      "execution_count": 1,
      "metadata": {
        "id": "iL7yv-bNgfVZ"
      },
      "outputs": [],
      "source": [
        "\n",
        "import numpy as np\n",
        "from sympy import *\n",
        "import matplotlib.pyplot as plt\n",
        "import math"
      ]
    },
    {
      "cell_type": "markdown",
      "source": [
        "---\n",
        "# Code challenge: decompose vector to orthogonal components\n",
        "---"
      ],
      "metadata": {
        "id": "Jv4BPAISgk_y"
      }
    },
    {
      "cell_type": "code",
      "source": [
        "# vector w, to be decomposed\n",
        "w = np.array([2,3])\n",
        "\n",
        "# vector v, \"the reference\"\n",
        "v = np.array([4,0])\n",
        "\n",
        "# compute w-parallel-to-v\n",
        "beta = np.dot(v,w) / (np.dot(v,v))\n",
        "w_par_v = beta*v\n",
        "\n",
        "# compute w-orthogonal-to-v\n",
        "w_perp_v = w - w_par_v\n",
        "\n",
        "# confirm result algebraically (sum to w, orthogonal components)\n",
        "print( (w_par_v + w_perp_v) - w )\n",
        "print( np.dot(w_par_v, w_perp_v) )\n"
      ],
      "metadata": {
        "colab": {
          "base_uri": "https://localhost:8080/"
        },
        "id": "N07NjXZ3g0Gb",
        "outputId": "f8878197-45f8-46b3-d723-705c069a8d5e"
      },
      "execution_count": 2,
      "outputs": [
        {
          "output_type": "stream",
          "name": "stdout",
          "text": [
            "[0. 0.]\n",
            "0.0\n"
          ]
        }
      ]
    },
    {
      "cell_type": "code",
      "source": [
        "# plot all 4!\n",
        "plt.plot([0,w[0]],[0,w[1]],'r',linewidth=3)\n",
        "plt.plot([0,v[0]],[0,v[1]],'b',linewidth=2)\n",
        "plt.plot([0,w[0]],[0,w[1]],'r',linewidth=3)\n",
        "plt.plot([0,w_par_v[0]],[0,w_par_v[1]],'r--',linewidth=3)\n",
        "plt.plot([0,w_perp_v[0]],[0,w_perp_v[1]],'r:',linewidth=3)\n",
        "\n",
        "plt.legend(['w','v','w$_{||v}$','w$_{\\perp v}$'])\n",
        "plt.axis('square')\n",
        "plt.grid()\n",
        "plt.axis([-5,5,-5,5])\n",
        "\n",
        "plt.show()\n"
      ],
      "metadata": {
        "colab": {
          "base_uri": "https://localhost:8080/",
          "height": 430
        },
        "id": "lu2kbQI0itkQ",
        "outputId": "d249cb7b-1803-4dd8-8ab0-1521c3ce0449"
      },
      "execution_count": 5,
      "outputs": [
        {
          "output_type": "display_data",
          "data": {
            "text/plain": [
              "<Figure size 640x480 with 1 Axes>"
            ],
            "image/png": "[encoded data removed]"
          },
          "metadata": {}
        }
      ]
    }
  ],
  "metadata": {
    "language_info": {
      "name": "python"
    },
    "colab": {
      "provenance": [],
      "include_colab_link": true
    },
    "kernelspec": {
      "name": "python3",
      "display_name": "Python 3"
    }
  },
  "nbformat": 4,
  "nbformat_minor": 0
}