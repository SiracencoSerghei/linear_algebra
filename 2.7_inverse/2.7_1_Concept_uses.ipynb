{
  "cells": [
    {
      "cell_type": "markdown",
      "metadata": {
        "id": "view-in-github",
        "colab_type": "text"
      },
      "source": [
        "<a href=\"https://colab.research.google.com/github/SiracencoSerghei/linear_algebra/blob/main/2.7_inverse/2.7_1_Concept_uses.ipynb\" target=\"_parent\"><img src=\"https://colab.research.google.com/assets/colab-badge.svg\" alt=\"Open In Colab\"/></a>"
      ]
    },
    {
      "cell_type": "code",
      "execution_count": 2,
      "metadata": {
        "id": "48NcSVpB8kc6"
      },
      "outputs": [],
      "source": [
        "import numpy as np\n",
        "from sympy import *\n",
        "import matplotlib.pyplot as plt"
      ]
    },
    {
      "cell_type": "markdown",
      "metadata": {
        "id": "i6RIHW2V8kc6"
      },
      "source": [
        "---\n",
        "# Concept and uses of the inverse\n",
        "---"
      ]
    },
    {
      "cell_type": "code",
      "execution_count": 4,
      "metadata": {
        "id": "LfhafJha8kc7",
        "outputId": "50f1fcc6-04bf-45ad-bef7-e8df516b1b5a",
        "colab": {
          "base_uri": "https://localhost:8080/"
        }
      },
      "outputs": [
        {
          "output_type": "stream",
          "name": "stdout",
          "text": [
            "[[ 9  2  7]\n",
            " [ 5 10  7]\n",
            " [ 4  9  3]]\n",
            " \n",
            "[[ 0.13983051 -0.24152542  0.23728814]\n",
            " [-0.05508475  0.00423729  0.11864407]\n",
            " [-0.02118644  0.30932203 -0.33898305]]\n",
            " \n",
            "[[ 1.00000000e+00  2.22044605e-16  1.11022302e-16]\n",
            " [-3.12250226e-17  1.00000000e+00 -3.33066907e-16]\n",
            " [-1.73472348e-17  0.00000000e+00  1.00000000e+00]]\n"
          ]
        }
      ],
      "source": [
        "# size of square matrix\n",
        "m = 3\n",
        "\n",
        "# generate random matrix\n",
        "A = np.random.randint(1, 11, size=(m,m))\n",
        "print(A), print(' ')\n",
        "\n",
        "# compute its inverse\n",
        "Ainv = np.linalg.inv(A)\n",
        "print(Ainv), print(' ')\n",
        "\n",
        "# and check the multiplication\n",
        "idm = A@Ainv\n",
        "\n",
        "# print the matrix. Note the computer rounding errors on the off-diagonals\n",
        "print(idm)"
      ]
    },
    {
      "cell_type": "code",
      "execution_count": 6,
      "metadata": {
        "id": "dqKSUoSI8kc7",
        "outputId": "f6ff0c88-0599-40aa-81e0-2d41baf9a52d",
        "colab": {
          "base_uri": "https://localhost:8080/",
          "height": 231
        }
      },
      "outputs": [
        {
          "output_type": "display_data",
          "data": {
            "text/plain": [
              "<Figure size 640x480 with 3 Axes>"
            ],
            "image/png": "[encoded data removed]"
          },
          "metadata": {}
        }
      ],
      "source": [
        "# show in an image\n",
        "plt.subplot(131)\n",
        "plt.imshow(A)\n",
        "plt.title('Matrix A')\n",
        "\n",
        "plt.subplot(132)\n",
        "plt.imshow(Ainv)\n",
        "plt.title('Matrix $A^{-1}$')\n",
        "\n",
        "plt.subplot(133)\n",
        "plt.imshow(idm)\n",
        "plt.title('AA$^{-1}$')\n",
        "\n",
        "plt.show()\n"
      ]
    }
  ],
  "metadata": {
    "language_info": {
      "name": "python"
    },
    "colab": {
      "provenance": [],
      "include_colab_link": true
    },
    "kernelspec": {
      "name": "python3",
      "display_name": "Python 3"
    }
  },
  "nbformat": 4,
  "nbformat_minor": 0
}