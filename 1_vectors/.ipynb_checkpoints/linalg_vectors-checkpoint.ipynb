{
 "cells": [
  {
   "cell_type": "code",
   "execution_count": null,
   "metadata": {},
   "outputs": [],
   "source": [
    "import numpy as np\n",
    "import matplotlib.pyplot as plt\n",
    "from mpl_toolkits.mplot3d import Axes3D"
   ]
  },
  {
   "cell_type": "markdown",
   "metadata": {},
   "source": [
    "## Algebraic and geometric interpretations"
   ]
  },
  {
   "cell_type": "code",
   "execution_count": null,
   "metadata": {},
   "outputs": [],
   "source": [
    "# 2 dimentional vector\n",
    "v2 = [3, -2]\n",
    "\n",
    "# 3 dimentional vector\n",
    "\n",
    "v3 = [4, -3, 2]\n",
    "\n",
    "#row to column (or vice-versa):\n",
    "v3t = np.transpose(v3)\n",
    "\n",
    "print(v2)\n",
    "print(v3)\n",
    "print(v3t)"
   ]
  }
 ],
 "metadata": {
  "language_info": {
   "name": "python"
  }
 },
 "nbformat": 4,
 "nbformat_minor": 2
}
