{
  "cells": [
    {
      "cell_type": "markdown",
      "metadata": {
        "id": "view-in-github",
        "colab_type": "text"
      },
      "source": [
        "<a href=\"https://colab.research.google.com/github/SiracencoSerghei/linear_algebra/blob/main/3.2_SVD/3.2_1_The_SVD.ipynb\" target=\"_parent\"><img src=\"https://colab.research.google.com/assets/colab-badge.svg\" alt=\"Open In Colab\"/></a>"
      ]
    },
    {
      "cell_type": "code",
      "execution_count": 1,
      "metadata": {
        "id": "PbNhkc7EVVO7"
      },
      "outputs": [],
      "source": [
        "import numpy as np\n",
        "import matplotlib.pyplot as plt"
      ]
    },
    {
      "cell_type": "markdown",
      "metadata": {
        "id": "ERPMQlgHVVO8"
      },
      "source": [
        "---\n",
        "# Singular value decomposition\n",
        "---"
      ]
    },
    {
      "cell_type": "code",
      "execution_count": 4,
      "metadata": {
        "id": "-KF0E5U4VVO8",
        "outputId": "715b4f42-f712-48e7-f0bd-340bf8a1c539",
        "colab": {
          "base_uri": "https://localhost:8080/"
        }
      },
      "outputs": [
        {
          "output_type": "stream",
          "name": "stdout",
          "text": [
            "[[-0.52138438 -0.85332193]\n",
            " [-0.85332193  0.52138438]]\n",
            " \n",
            "[9.89086518 3.18916698]\n",
            " \n",
            "[[-0.84833111 -0.08627374 -0.52238986]\n",
            " [ 0.50518185  0.16348607 -0.84738634]\n",
            " [-0.15851066  0.98276607  0.09510639]]\n"
          ]
        }
      ],
      "source": [
        "# the matrix\n",
        "A = [ [3,0,5], [8,1,3] ]\n",
        "\n",
        "# Note differences from MATLAB: S is vector, V is V'\n",
        "U,S,V = np.linalg.svd(A)\n",
        "\n",
        "print(U), print(' ')\n",
        "print(S), print(' ')\n",
        "print(V)"
      ]
    },
    {
      "cell_type": "code",
      "execution_count": 5,
      "metadata": {
        "id": "asU-PuqoVVO9",
        "outputId": "0032a988-aabf-48ce-e92a-a86a1f936383",
        "colab": {
          "base_uri": "https://localhost:8080/",
          "height": 169
        }
      },
      "outputs": [
        {
          "output_type": "display_data",
          "data": {
            "text/plain": [
              "<Figure size 640x480 with 4 Axes>"
            ],
            "image/png": "[encoded data removed]"
          },
          "metadata": {}
        }
      ],
      "source": [
        "plt.subplot(141)\n",
        "plt.imshow(A)\n",
        "plt.title('A')\n",
        "plt.axis('off')\n",
        "\n",
        "plt.subplot(142)\n",
        "plt.imshow(U)\n",
        "plt.title('U')\n",
        "plt.axis('off')\n",
        "\n",
        "plt.subplot(143)\n",
        "plt.imshow(np.diag(S))\n",
        "plt.title('$\\Sigma$')\n",
        "plt.axis('off')\n",
        "\n",
        "plt.subplot(144)\n",
        "plt.imshow(V)\n",
        "plt.title('$V^T$')\n",
        "plt.axis('off')\n",
        "\n",
        "plt.show()\n"
      ]
    }
  ],
  "metadata": {
    "language_info": {
      "name": "python"
    },
    "colab": {
      "provenance": [],
      "include_colab_link": true
    },
    "kernelspec": {
      "name": "python3",
      "display_name": "Python 3"
    }
  },
  "nbformat": 4,
  "nbformat_minor": 0
}