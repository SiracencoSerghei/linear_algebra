{
 "cells": [
  {
   "cell_type": "code",
   "execution_count": 3,
   "metadata": {},
   "outputs": [],
   "source": [
    "\n",
    "import numpy as np"
   ]
  },
  {
   "cell_type": "markdown",
   "metadata": {},
   "source": [
    "---\n",
    "# Code challenge: symmetry of combined symmetric matrices\n",
    "---"
   ]
  },
  {
   "cell_type": "code",
   "execution_count": 4,
   "metadata": {},
   "outputs": [
    {
     "name": "stdout",
     "output_type": "stream",
     "text": [
      "[[0. 0. 0.]\n",
      " [0. 0. 0.]\n",
      " [0. 0. 0.]]\n",
      " \n",
      "[[  0.          40.1327036   20.15503298]\n",
      " [-40.1327036    0.         -30.81798016]\n",
      " [-20.15503298  30.81798016   0.        ]]\n",
      " \n",
      "[[0. 0. 0.]\n",
      " [0. 0. 0.]\n",
      " [0. 0. 0.]]\n"
     ]
    }
   ],
   "source": [
    "# create two symmetric matrices\n",
    "m = 3\n",
    "A = np.random.randn(m,m)\n",
    "AtA = A.T@A\n",
    "\n",
    "B = np.random.randn(m,m)\n",
    "BtB = B.T@B\n",
    "\n",
    "# compute sum, multiplication and Hadamard multiplication\n",
    "Cs = AtA + BtB # sum\n",
    "Cm = AtA @ BtB # multiplication\n",
    "Ch = AtA * BtB # Hadamard\n",
    "\n",
    "# determine whether result is symmetric\n",
    "print( Cs - Cs.T ), print(' ')\n",
    "print( Cm - Cm.T ), print(' ')\n",
    "print( Ch - Ch.T )\n",
    "\n",
    "# Symmetry is confirmed when the difference between \n",
    "# a matrix and its transpose results in a zero matrix.\n"
   ]
  },
  {
   "cell_type": "markdown",
   "metadata": {},
   "source": [
    "---\n",
    "# VIDEO: Multiplication of two symmetric matrices\n",
    "---"
   ]
  },
  {
   "cell_type": "code",
   "execution_count": null,
   "metadata": {},
   "outputs": [],
   "source": [
    "# using the sympy library\n",
    "from sympy import *\n",
    "\n",
    "a,b,c,d,e,f,g,h,k,l,m,n,o,p,q,r,s,t,u = symbols('a b c d e f g h k l m n o p q r s t u', real=True)\n",
    "\n",
    "# symmetric and constant-diagonal matrices\n",
    "A = Matrix([ [a,b,c,d],\n",
    "             [b,a,e,f],\n",
    "             [c,e,a,h],\n",
    "             [d,f,h,a]   ])\n",
    "\n",
    "B = Matrix([ [l,m,n,o],\n",
    "             [m,l,q,r],\n",
    "             [n,q,l,t],\n",
    "             [o,r,t,l]   ])\n",
    "\n",
    "\n",
    "# confirmation that A and B are symmetric\n",
    "print( A - A.transpose() )\n",
    "print( B - B.transpose() )\n",
    "\n",
    "# ... and constant diagonal\n",
    "for i in range(0,np.size(A,0)):\n",
    "    print( A[i,i] )\n",
    "for i in range(0,np.size(B,0)):\n",
    "    print( B[i,i] )\n"
   ]
  },
  {
   "cell_type": "code",
   "execution_count": null,
   "metadata": {},
   "outputs": [],
   "source": [
    "# nice printing in sympy\n",
    "init_printing()\n",
    "\n",
    "# but AB neq (AB)'\n",
    "A@B - (A@B).T\n",
    "\n",
    "# maybe for a submatrix?\n",
    "n = 3\n",
    "A1 = A[ 0:n,0:n ]\n",
    "B1 = B[ 0:n,0:n ]\n",
    "\n",
    "# A1@B1 - (A1@B1).T\n"
   ]
  }
 ],
 "metadata": {
  "kernelspec": {
   "display_name": "Python 3 (ipykernel)",
   "language": "python",
   "name": "python3"
  },
  "language_info": {
   "codemirror_mode": {
    "name": "ipython",
    "version": 3
   },
   "file_extension": ".py",
   "mimetype": "text/x-python",
   "name": "python",
   "nbconvert_exporter": "python",
   "pygments_lexer": "ipython3",
   "version": "3.9.7"
  }
 },
 "nbformat": 4,
 "nbformat_minor": 4
}
