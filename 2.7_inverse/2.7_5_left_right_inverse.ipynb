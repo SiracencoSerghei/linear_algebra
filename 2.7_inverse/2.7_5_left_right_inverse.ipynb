{
  "cells": [
    {
      "cell_type": "markdown",
      "metadata": {
        "id": "view-in-github",
        "colab_type": "text"
      },
      "source": [
        "<a href=\"https://colab.research.google.com/github/SiracencoSerghei/linear_algebra/blob/main/2.7_inverse/2.7_5_left_right_inverse.ipynb\" target=\"_parent\"><img src=\"https://colab.research.google.com/assets/colab-badge.svg\" alt=\"Open In Colab\"/></a>"
      ]
    },
    {
      "cell_type": "code",
      "execution_count": 10,
      "metadata": {
        "id": "R_4EqGfd7jJZ"
      },
      "outputs": [],
      "source": [
        "import numpy as np\n",
        "from sympy import *\n",
        "import matplotlib.pyplot as plt"
      ]
    },
    {
      "cell_type": "markdown",
      "metadata": {
        "id": "zOyvA3pV7jJb"
      },
      "source": [
        "---\n",
        "# Left inverse and right inverse\n",
        "---"
      ]
    },
    {
      "cell_type": "code",
      "execution_count": 13,
      "metadata": {
        "id": "kHn4TACm7jJc",
        "outputId": "41e6779a-b473-47ff-91b8-eee30a507122",
        "colab": {
          "base_uri": "https://localhost:8080/"
        }
      },
      "outputs": [
        {
          "output_type": "stream",
          "name": "stdout",
          "text": [
            "Shape of A^TA: (3, 3)\n",
            "Rank of A^TA: 3\n",
            "Shape of AA^T: (6, 6)\n",
            "Rank of AA^T: 3\n",
            "[[ 1.00000000e+00  1.64148245e-16  1.21096882e-17]\n",
            " [ 1.59572217e-16  1.00000000e+00  8.71843055e-17]\n",
            " [-3.14493660e-16  1.53941642e-16  1.00000000e+00]]\n",
            " \n",
            "[[ 0.98665867  0.26540029 -0.28821229 -0.53350388  0.15608698  0.33350245]\n",
            " [-0.33322703  0.76891427 -0.75274985  0.84723975 -0.56518015  0.56995604]\n",
            " [-0.67072915 -0.30111222 -0.42645758 -1.59157955 -0.61320578 -0.94087612]\n",
            " [ 0.76503204  0.66439678 -1.11477407 -1.15375961 -0.49401512  0.25889083]\n",
            " [ 0.17894946  0.15704298  0.39861743  1.38900559  0.39945968  0.61265097]\n",
            " [-1.1928326  -1.26753943  1.1309023  -0.47896852  0.25545721 -1.28491733]]\n",
            " \n",
            "[[ 1.00000000e+00  3.45333217e-16  2.49514209e-17]\n",
            " [ 1.37984344e-17  1.00000000e+00  2.04704925e-17]\n",
            " [-2.41722175e-16  6.04748876e-17  1.00000000e+00]]\n",
            " \n",
            "[[-0.90827004  1.74241537  0.30962508 -1.74189144  0.49924318  2.32123313]\n",
            " [-2.76635901  2.76125287  1.55286552 -3.08629589  0.01550786  3.23731711]\n",
            " [ 0.09703215  1.22280984 -1.73113231 -1.80420668  1.46013341 -1.27014674]\n",
            " [ 0.06177244  1.09829086  2.03360277  0.72165102 -1.06861488 -0.0623189 ]\n",
            " [ 0.26620377  0.4848694  -0.31163124 -0.68492136  0.80558621 -0.26303153]\n",
            " [-0.33279172  0.44659732  1.4058317  -0.484287   -0.47810138  2.75000427]]\n"
          ]
        }
      ],
      "source": [
        "# m>n for left inverse,\n",
        "# m<n for right inverse\n",
        "m = 6\n",
        "n = 3\n",
        "\n",
        "# create matrices\n",
        "A = np.random.randn(m,n)\n",
        "AtA = A.T@A\n",
        "AAt = A@A.T\n",
        "\n",
        "# inspect ranks\n",
        "print('Shape of A^TA:', np.shape(AtA) )\n",
        "print('Rank of A^TA:', np.linalg.matrix_rank(AtA) )\n",
        "print('Shape of AA^T:', np.shape(AAt) )\n",
        "print('Rank of AA^T:', np.linalg.matrix_rank(AAt) )\n",
        "\n",
        "# left inverse\n",
        "Aleft = np.linalg.inv(AtA)@A.T\n",
        "\n",
        "# right inverse\n",
        "Aright = A.T@np.linalg.inv(AAt)\n",
        "\n",
        "# now test!\n",
        "I_left  = Aleft  @ A\n",
        "I_right = A @ Aright\n",
        "\n",
        "print(I_left), print(' ')\n",
        "print(I_right), print(' ')\n",
        "\n",
        "\n",
        "# and then test using the inverse function\n",
        "C = AtA\n",
        "AtA_inv = np.linalg.inv(AtA)\n",
        "I_AtA   = AtA_inv @ C\n",
        "\n",
        "AAt_inv = np.linalg.inv(AAt)\n",
        "I_AAt   = AAt_inv @ AAt\n",
        "\n",
        "print(I_AtA), print(' ')\n",
        "print(I_AAt)\n"
      ]
    },
    {
      "cell_type": "code",
      "execution_count": 14,
      "metadata": {
        "id": "yKJ7dhly7jJc",
        "outputId": "85dc79b3-0d5e-463f-dc65-d923f21376e4",
        "colab": {
          "base_uri": "https://localhost:8080/",
          "height": 431
        }
      },
      "outputs": [
        {
          "output_type": "display_data",
          "data": {
            "text/plain": [
              "<Figure size 640x480 with 7 Axes>"
            ],
            "image/png": "[encoded data removed]"
          },
          "metadata": {}
        }
      ],
      "source": [
        "## show images\n",
        "plt.subplot(331)\n",
        "plt.imshow(A), plt.axis('off')\n",
        "plt.title('A')\n",
        "\n",
        "plt.subplot(332)\n",
        "plt.imshow(AtA), plt.axis('off')\n",
        "plt.title('A$^T$A')\n",
        "\n",
        "plt.subplot(333)\n",
        "plt.imshow(AAt), plt.axis('off')\n",
        "plt.title('AA$^T$')\n",
        "\n",
        "plt.subplot(335)\n",
        "plt.imshow(Aleft), plt.axis('off')\n",
        "plt.title('$(A^TA)^{-1}A^T$')\n",
        "\n",
        "plt.subplot(336)\n",
        "plt.imshow(Aright), plt.axis('off')\n",
        "plt.title('$A^T(AA^T)^{-1}$')\n",
        "\n",
        "plt.subplot(338)\n",
        "plt.imshow(I_left), plt.axis('off')\n",
        "plt.title('[ $(A^TA)^{-1}A^T ]$  A')\n",
        "\n",
        "plt.subplot(339)\n",
        "plt.imshow(I_right), plt.axis('off')\n",
        "plt.title('A  [ $A^T(AA^T)^{-1}$ ]')\n",
        "\n",
        "plt.show()\n"
      ]
    }
  ],
  "metadata": {
    "language_info": {
      "name": "python"
    },
    "colab": {
      "provenance": [],
      "include_colab_link": true
    },
    "kernelspec": {
      "name": "python3",
      "display_name": "Python 3"
    }
  },
  "nbformat": 4,
  "nbformat_minor": 0
}