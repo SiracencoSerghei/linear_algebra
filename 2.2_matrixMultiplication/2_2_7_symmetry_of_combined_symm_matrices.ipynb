{
  "cells": [
    {
      "cell_type": "markdown",
      "metadata": {
        "id": "view-in-github",
        "colab_type": "text"
      },
      "source": [
        "<a href=\"https://colab.research.google.com/github/SiracencoSerghei/linear_algebra/blob/main/2.2_matrixMultiplication/2_2_7_symmetry_of_combined_symm_matrices.ipynb\" target=\"_parent\"><img src=\"https://colab.research.google.com/assets/colab-badge.svg\" alt=\"Open In Colab\"/></a>"
      ]
    },
    {
      "cell_type": "code",
      "execution_count": 2,
      "metadata": {
        "id": "Pf6usoF8O8W6"
      },
      "outputs": [],
      "source": [
        "\n",
        "import numpy as np"
      ]
    },
    {
      "cell_type": "markdown",
      "metadata": {
        "id": "JpiNWzbZO8W7"
      },
      "source": [
        "---\n",
        "# Code challenge: symmetry of combined symmetric matrices\n",
        "---"
      ]
    },
    {
      "cell_type": "code",
      "execution_count": null,
      "metadata": {
        "id": "nIZLTEhpO8W7",
        "outputId": "fcff3e05-c611-4efd-9f7a-5df7ebe687ff",
        "colab": {
          "base_uri": "https://localhost:8080/"
        }
      },
      "outputs": [
        {
          "output_type": "stream",
          "name": "stdout",
          "text": [
            "[[0. 0. 0.]\n",
            " [0. 0. 0.]\n",
            " [0. 0. 0.]]\n",
            " \n",
            "[[ 0.         -2.50459886 -2.0884398 ]\n",
            " [ 2.50459886  0.          0.73503592]\n",
            " [ 2.0884398  -0.73503592  0.        ]]\n",
            " \n",
            "[[0. 0. 0.]\n",
            " [0. 0. 0.]\n",
            " [0. 0. 0.]]\n"
          ]
        }
      ],
      "source": [
        "# create two symmetric matrices\n",
        "m = 3\n",
        "A = np.random.randn(m,m)\n",
        "AtA = A.T@A\n",
        "\n",
        "B = np.random.randn(m,m)\n",
        "BtB = B.T@B\n",
        "\n",
        "# compute sum, multiplication and Hadamard multiplication\n",
        "Cs = AtA + BtB # sum\n",
        "Cm = AtA @ BtB # multiplication\n",
        "Ch = AtA * BtB # Hadamard\n",
        "\n",
        "# determine whether result is symmetric\n",
        "print( Cs - Cs.T ), print(' ')\n",
        "print( Cm - Cm.T ), print(' ')\n",
        "print( Ch - Ch.T )\n",
        "\n",
        "# Symmetry is confirmed when the difference between\n",
        "# a matrix and its transpose results in a zero matrix.\n"
      ]
    },
    {
      "cell_type": "markdown",
      "metadata": {
        "id": "ciRxIFijO8W8"
      },
      "source": [
        "---\n",
        "# VIDEO: Multiplication of two symmetric matrices\n",
        "---"
      ]
    },
    {
      "cell_type": "code",
      "execution_count": null,
      "metadata": {
        "id": "BIfe5m09O8W8",
        "outputId": "1d50ad7f-14bf-4e5a-c2a5-2ceb4c9b9f6f",
        "colab": {
          "base_uri": "https://localhost:8080/"
        }
      },
      "outputs": [
        {
          "output_type": "stream",
          "name": "stdout",
          "text": [
            "Matrix([[0, 0, 0, 0], [0, 0, 0, 0], [0, 0, 0, 0], [0, 0, 0, 0]])\n",
            "Matrix([[0, 0, 0, 0], [0, 0, 0, 0], [0, 0, 0, 0], [0, 0, 0, 0]])\n",
            "a\n",
            "a\n",
            "a\n",
            "a\n",
            "l\n",
            "l\n",
            "l\n",
            "l\n"
          ]
        }
      ],
      "source": [
        "# using the sympy library\n",
        "from sympy import *\n",
        "\n",
        "a,b,c,d,e,f,g,h,k,l,m,n,o,p,q,r,s,t,u = symbols('a b c d e f g h k l m n o p q r s t u', real=True)\n",
        "\n",
        "# symmetric and constant-diagonal matrices\n",
        "A = Matrix([ [a,b,c,d],\n",
        "             [b,a,e,f],\n",
        "             [c,e,a,h],\n",
        "             [d,f,h,a]   ])\n",
        "\n",
        "B = Matrix([ [l,m,n,o],\n",
        "             [m,l,q,r],\n",
        "             [n,q,l,t],\n",
        "             [o,r,t,l]   ])\n",
        "\n",
        "\n",
        "# confirmation that A and B are symmetric\n",
        "print( A - A.transpose() )\n",
        "print( B - B.transpose() )\n",
        "\n",
        "# ... and constant diagonal\n",
        "for i in range(0,np.size(A,0)):\n",
        "    print( A[i,i] )\n",
        "for i in range(0,np.size(B,0)):\n",
        "    print( B[i,i] )\n"
      ]
    },
    {
      "cell_type": "code",
      "execution_count": null,
      "metadata": {
        "id": "-9rFMnGXO8W8",
        "outputId": "bc852f7f-c7dc-4219-c763-1ddf883e9a1a",
        "colab": {
          "base_uri": "https://localhost:8080/",
          "height": 78
        }
      },
      "outputs": [
        {
          "output_type": "execute_result",
          "data": {
            "text/plain": [
              "⎡    0       c⋅q - e⋅n   b⋅q - e⋅m⎤\n",
              "⎢                                 ⎥\n",
              "⎢-c⋅q + e⋅n      0       b⋅n - c⋅m⎥\n",
              "⎢                                 ⎥\n",
              "⎣-b⋅q + e⋅m  -b⋅n + c⋅m      0    ⎦"
            ],
            "text/latex": "$\\displaystyle \\left[\\begin{matrix}0 & c q - e n & b q - e m\\\\- c q + e n & 0 & b n - c m\\\\- b q + e m & - b n + c m & 0\\end{matrix}\\right]$"
          },
          "metadata": {},
          "execution_count": 6
        }
      ],
      "source": [
        "# nice printing in sympy\n",
        "init_printing()\n",
        "\n",
        "# but AB neq (AB)'\n",
        "A@B - (A@B).T\n",
        "\n",
        "# maybe for a submatrix?\n",
        "n = 3\n",
        "A1 = A[ 0:n,0:n ]\n",
        "B1 = B[ 0:n,0:n ]\n",
        "\n",
        "A1@B1 - (A1@B1).T\n"
      ]
    },
    {
      "cell_type": "markdown",
      "source": [],
      "metadata": {
        "id": "3g0Cg-uv14bV"
      }
    },
    {
      "cell_type": "markdown",
      "source": [
        "---\n",
        "# Code challenge: Standart and Hadamard multiplication for diagonal matricies\n",
        "---"
      ],
      "metadata": {
        "id": "6WyFEpaOnKkd"
      }
    },
    {
      "cell_type": "code",
      "source": [
        "# create two square matricies: \"full\" and diagonal\n",
        "A = np.random.randn(4,4)\n",
        "D = np.diag(np.random.randn(4))\n",
        "\n",
        "# multiply each matrix by itself: Standard and Hadamard\n",
        "print( A@A ), print(' ')\n",
        "print( A*A ), print(' ')\n",
        "\n",
        "print( D@D ), print(' ')\n",
        "print( D*D ), print(' ')\n"
      ],
      "metadata": {
        "id": "kR4daEFnna2B",
        "outputId": "5ef1b878-e797-49b6-e80c-920b23b8262f",
        "colab": {
          "base_uri": "https://localhost:8080/"
        }
      },
      "execution_count": 3,
      "outputs": [
        {
          "output_type": "stream",
          "name": "stdout",
          "text": [
            "[[ 0.51906288 -2.52607708 -0.07609177 -3.17005461]\n",
            " [-0.65498579  1.1861511  -0.30567311 -2.77260865]\n",
            " [ 1.76289449 -3.19127747 -2.13564835  0.07558093]\n",
            " [-1.22817391 -1.74978847  0.30610125  2.70053692]]\n",
            " \n",
            "[[2.03996060e+00 3.01263774e+00 1.29460569e+00 4.88217741e-04]\n",
            " [9.02236147e-02 2.15496787e-02 3.54160010e-01 2.81799897e+00]\n",
            " [3.25513272e+00 7.54075600e-02 2.16475909e-01 5.08291499e-02]\n",
            " [2.29180937e-01 2.30912745e-01 3.63206099e-01 2.01916491e+00]]\n",
            " \n",
            "[[0.15307722 0.         0.         0.        ]\n",
            " [0.         0.6001987  0.         0.        ]\n",
            " [0.         0.         0.23847665 0.        ]\n",
            " [0.         0.         0.         0.7516784 ]]\n",
            " \n",
            "[[0.15307722 0.         0.         0.        ]\n",
            " [0.         0.6001987  0.         0.        ]\n",
            " [0.         0.         0.23847665 0.        ]\n",
            " [0.         0.         0.         0.7516784 ]]\n",
            " \n"
          ]
        },
        {
          "output_type": "execute_result",
          "data": {
            "text/plain": [
              "(None, None)"
            ]
          },
          "metadata": {},
          "execution_count": 3
        }
      ]
    }
  ],
  "metadata": {
    "kernelspec": {
      "display_name": "Python 3 (ipykernel)",
      "language": "python",
      "name": "python3"
    },
    "language_info": {
      "codemirror_mode": {
        "name": "ipython",
        "version": 3
      },
      "file_extension": ".py",
      "mimetype": "text/x-python",
      "name": "python",
      "nbconvert_exporter": "python",
      "pygments_lexer": "ipython3",
      "version": "3.12.3"
    },
    "colab": {
      "provenance": [],
      "include_colab_link": true
    }
  },
  "nbformat": 4,
  "nbformat_minor": 0
}