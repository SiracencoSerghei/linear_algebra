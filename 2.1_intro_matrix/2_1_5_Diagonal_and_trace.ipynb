{
 "cells": [
  {
   "cell_type": "markdown",
   "metadata": {},
   "source": [
    "---\n",
    "# Diagonal and trace\n",
    "---"
   ]
  },
  {
   "cell_type": "code",
   "execution_count": 1,
   "metadata": {},
   "outputs": [],
   "source": [
    "import numpy as np"
   ]
  },
  {
   "cell_type": "code",
   "execution_count": 6,
   "metadata": {},
   "outputs": [
    {
     "name": "stdout",
     "output_type": "stream",
     "text": [
      "[[ 1. -3. -2. -4.]\n",
      " [ 8. -1. -7. -4.]\n",
      " [-6. -8. -1. -1.]\n",
      " [ 4. -7. -9.  5.]]\n",
      " \n",
      "[ 1. -1. -1.  5.]\n",
      " \n",
      "[ 1. -1. -1.  5.]\n",
      " \n",
      "[[ 1.  0.  0.  0.]\n",
      " [ 0. -1.  0.  0.]\n",
      " [ 0.  0. -1.  0.]\n",
      " [ 0.  0.  0.  5.]]\n",
      " \n",
      "4.0 4.0\n"
     ]
    }
   ],
   "source": [
    "\n",
    "M = np.round( 5*np.random.randn(4,4) )\n",
    "print(M), print(' ')\n",
    "# extract the diagonals\n",
    "d = np.diag(M)\n",
    "print(d), print(' ')\n",
    "\n",
    "# notice the two ways of using the diag function\n",
    "\n",
    "d = np.diag(M) # input is matrix, output is vector\n",
    "D = np.diag(d) # input is vector, output is matrix\n",
    "    # This function takes the 1D array d \n",
    "    # and creates a diagonal matrix where the elements \n",
    "    # of d are placed on the main diagonal, \n",
    "    # and all other elements (off-diagonal elements) \n",
    "    # are set to zero.\n",
    "\n",
    "  \n",
    "print(d), print(' ')\n",
    "print(D), print(' ')\n",
    "# trace as sum of diagonal elements\n",
    "tr = np.trace(M)\n",
    "tr2 = sum( np.diag(M) )\n",
    "print(tr,tr2)"
   ]
  },
  {
   "cell_type": "code",
   "execution_count": 35,
   "metadata": {},
   "outputs": [
    {
     "name": "stdout",
     "output_type": "stream",
     "text": [
      "tr(A+B) = -1.2591224949\n",
      "tr(A) + tr(B) = -1.2591224949\n",
      "tr(A+B) == tr(A) + tr(B) => True\n",
      " \n",
      " tr(l*A) = -1.4233909815369796\n",
      "l * tr(A) = -1.4233909815369798\n"
     ]
    }
   ],
   "source": [
    "# whether the trace is linear\n",
    "\n",
    "# tr(A) + tr(B) == tr(A+B) ???\n",
    "# tr(l*A) == l * tr(A)  ???\n",
    "\n",
    "m = 4\n",
    "n = 4\n",
    "\n",
    "A = np.random.randn(m,n)\n",
    "B = np.random.randn(m,n)\n",
    "\n",
    "l = np.random.rand()\n",
    "\n",
    "precision = 10\n",
    "trace_sum = round(np.trace(A+B), precision)\n",
    "individual_sum = round(np.trace(A) + np.trace(B), precision)\n",
    "\n",
    "print(f'tr(A+B) = {trace_sum}')\n",
    "print(f'tr(A) + tr(B) = {individual_sum}')\n",
    "\n",
    "print(f'tr(A+B) == tr(A) + tr(B) => {trace_sum == individual_sum}')\n",
    "print(' ')\n",
    "\n",
    "print(f' tr(l*A) = {np.trace(l*A)}')\n",
    "print(f'l * tr(A) = {l * np.trace(A)}')"
   ]
  }
 ],
 "metadata": {
  "kernelspec": {
   "display_name": "Python 3",
   "language": "python",
   "name": "python3"
  },
  "language_info": {
   "codemirror_mode": {
    "name": "ipython",
    "version": 3
   },
   "file_extension": ".py",
   "mimetype": "text/x-python",
   "name": "python",
   "nbconvert_exporter": "python",
   "pygments_lexer": "ipython3",
   "version": "3.9.7"
  }
 },
 "nbformat": 4,
 "nbformat_minor": 2
}
