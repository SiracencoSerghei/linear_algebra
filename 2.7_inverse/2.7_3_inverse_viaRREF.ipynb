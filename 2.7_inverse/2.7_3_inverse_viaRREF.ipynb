{
  "cells": [
    {
      "cell_type": "markdown",
      "metadata": {
        "id": "view-in-github",
        "colab_type": "text"
      },
      "source": [
        "<a href=\"https://colab.research.google.com/github/SiracencoSerghei/linear_algebra/blob/main/2.7_inverse/2.7_3_inverse_viaRREF.ipynb\" target=\"_parent\"><img src=\"https://colab.research.google.com/assets/colab-badge.svg\" alt=\"Open In Colab\"/></a>"
      ]
    },
    {
      "cell_type": "code",
      "execution_count": 1,
      "metadata": {
        "id": "eMMyWS2zQ0YZ"
      },
      "outputs": [],
      "source": [
        "import numpy as np\n",
        "from sympy import *\n",
        "import matplotlib.pyplot as plt"
      ]
    },
    {
      "cell_type": "markdown",
      "metadata": {
        "id": "A4_leoZhQ0Ya"
      },
      "source": [
        "---\n",
        "# Computing the inverse via row reduction\n",
        "---"
      ]
    },
    {
      "cell_type": "code",
      "execution_count": 11,
      "metadata": {
        "id": "PlhTI_cAQ0Ya",
        "outputId": "324a201f-7f8f-47c8-e5d9-15c93bfc2ecc",
        "colab": {
          "base_uri": "https://localhost:8080/"
        }
      },
      "outputs": [
        {
          "output_type": "stream",
          "name": "stdout",
          "text": [
            "Size of Aaug: (4, 8)\n"
          ]
        }
      ],
      "source": [
        "\n",
        "# matrix size\n",
        "m = 4\n",
        "\n",
        "# random integers matrix\n",
        "A = Matrix( np.round(10*np.random.randn(m,m)),dtype='float' )\n",
        "\n",
        "# augment A and identity\n",
        "Aaug = Matrix( np.concatenate((A,np.eye(m,m)),axis=1) )\n",
        "print('Size of Aaug:',Aaug.shape)\n",
        "\n",
        "# rref\n",
        "Asol = Aaug.rref()\n",
        "Asol = Asol[0]\n",
        "Ainvrref = Asol[:,m:m*2]\n",
        "Ainv = A.inv()\n",
        "\n",
        "# print(np.array(Asol))\n",
        "# print(Ainvrref), print(' ')\n",
        "# print(Ainv)"
      ]
    },
    {
      "cell_type": "code",
      "execution_count": 12,
      "metadata": {
        "id": "X8vATwKIQ0Ya",
        "outputId": "2306f30e-e3b8-4046-cba4-2a8044a9539e",
        "colab": {
          "base_uri": "https://localhost:8080/",
          "height": 428
        }
      },
      "outputs": [
        {
          "output_type": "display_data",
          "data": {
            "text/plain": [
              "<Figure size 640x480 with 2 Axes>"
            ],
            "image/png": "[encoded data removed]"
          },
          "metadata": {}
        }
      ],
      "source": [
        "# show the augemented matrices\n",
        "plt.subplot(211)\n",
        "plt.imshow(matrix2numpy(Aaug,dtype='float'),vmin=-5,vmax=5)\n",
        "plt.title('A|I'), plt.axis('off')\n",
        "\n",
        "plt.subplot(212)\n",
        "plt.imshow(matrix2numpy(Asol,dtype='float'))\n",
        "plt.title('I|A$^{-1}$'), plt.axis('off')\n",
        "\n",
        "plt.show()"
      ]
    },
    {
      "cell_type": "code",
      "execution_count": 13,
      "metadata": {
        "id": "F9NcL7T0Q0Ya",
        "outputId": "a99de11f-cd5f-4619-916f-806543260625",
        "colab": {
          "base_uri": "https://localhost:8080/",
          "height": 209
        }
      },
      "outputs": [
        {
          "output_type": "display_data",
          "data": {
            "text/plain": [
              "<Figure size 640x480 with 3 Axes>"
            ],
            "image/png": "[encoded data removed]"
          },
          "metadata": {}
        }
      ],
      "source": [
        "# show the square matrices\n",
        "plt.subplot(131)\n",
        "plt.imshow(matrix2numpy(A,dtype='float'))\n",
        "plt.title('Matrix A'), plt.axis('off')\n",
        "\n",
        "plt.subplot(132)\n",
        "plt.imshow(matrix2numpy(Ainvrref,dtype='float'))\n",
        "plt.title('A$^{-1}$ from rref'), plt.axis('off')\n",
        "\n",
        "plt.subplot(133)\n",
        "plt.imshow(matrix2numpy(Ainv,dtype='float'))\n",
        "plt.title('A$^{-1}$ from inv()'), plt.axis('off')\n",
        "\n",
        "plt.show()"
      ]
    }
  ],
  "metadata": {
    "language_info": {
      "name": "python"
    },
    "colab": {
      "provenance": [],
      "include_colab_link": true
    },
    "kernelspec": {
      "name": "python3",
      "display_name": "Python 3"
    }
  },
  "nbformat": 4,
  "nbformat_minor": 0
}