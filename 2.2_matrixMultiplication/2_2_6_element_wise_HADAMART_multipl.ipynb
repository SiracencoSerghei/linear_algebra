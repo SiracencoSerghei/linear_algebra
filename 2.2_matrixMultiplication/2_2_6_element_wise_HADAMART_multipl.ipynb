{
 "cells": [
  {
   "cell_type": "code",
   "execution_count": 1,
   "metadata": {},
   "outputs": [],
   "source": [
    "import numpy as np\n",
    "import matplotlib.pyplot as plt\n",
    "import math"
   ]
  },
  {
   "cell_type": "markdown",
   "metadata": {},
   "source": [
    "---\n",
    "# Element-wise (Hadamard) multiplication\n",
    "---"
   ]
  },
  {
   "cell_type": "code",
   "execution_count": 2,
   "metadata": {},
   "outputs": [
    {
     "name": "stdout",
     "output_type": "stream",
     "text": [
      "[[-0.44714554 -1.38528319]\n",
      " [-0.22876156  1.829303  ]\n",
      " [ 0.26803189  0.51179173]\n",
      " [ 0.01962091 -0.74819179]\n",
      " [-0.16812217 -0.02076405]\n",
      " [-0.73052752 -0.08713701]\n",
      " [-1.30459365  0.60543887]\n",
      " [-0.39235646 -0.28997717]\n",
      " [-0.70800808 -0.33281745]\n",
      " [ 0.02812896  0.11157486]\n",
      " [-0.19050087  0.12473615]\n",
      " [ 0.15101756  0.16551165]\n",
      " [ 1.32607576 -0.63211084]]\n",
      " \n",
      "[[-0.44714554 -1.38528319]\n",
      " [-0.22876156  1.829303  ]\n",
      " [ 0.26803189  0.51179173]\n",
      " [ 0.01962091 -0.74819179]\n",
      " [-0.16812217 -0.02076405]\n",
      " [-0.73052752 -0.08713701]\n",
      " [-1.30459365  0.60543887]\n",
      " [-0.39235646 -0.28997717]\n",
      " [-0.70800808 -0.33281745]\n",
      " [ 0.02812896  0.11157486]\n",
      " [-0.19050087  0.12473615]\n",
      " [ 0.15101756  0.16551165]\n",
      " [ 1.32607576 -0.63211084]]\n",
      " \n",
      "[[0. 0.]\n",
      " [0. 0.]\n",
      " [0. 0.]\n",
      " [0. 0.]\n",
      " [0. 0.]\n",
      " [0. 0.]\n",
      " [0. 0.]\n",
      " [0. 0.]\n",
      " [0. 0.]\n",
      " [0. 0.]\n",
      " [0. 0.]\n",
      " [0. 0.]\n",
      " [0. 0.]]\n"
     ]
    }
   ],
   "source": [
    "# any matrix sizes\n",
    "m = 13\n",
    "n =  2\n",
    "\n",
    "# ...but the two matrices must be the same size\n",
    "A = np.random.randn(m,n)\n",
    "B = np.random.randn(m,n)\n",
    "\n",
    "# note the different syntax compared to @ for matrix multiplication\n",
    "C1 = np.multiply( A,B )\n",
    "C2 = A*B\n",
    "\n",
    "print(C1), print(' ')\n",
    "print(C2), print(' ')\n",
    "\n",
    "print(C1-C2)"
   ]
  }
 ],
 "metadata": {
  "kernelspec": {
   "display_name": "Python 3",
   "language": "python",
   "name": "python3"
  },
  "language_info": {
   "codemirror_mode": {
    "name": "ipython",
    "version": 3
   },
   "file_extension": ".py",
   "mimetype": "text/x-python",
   "name": "python",
   "nbconvert_exporter": "python",
   "pygments_lexer": "ipython3",
   "version": "3.9.7"
  }
 },
 "nbformat": 4,
 "nbformat_minor": 2
}
