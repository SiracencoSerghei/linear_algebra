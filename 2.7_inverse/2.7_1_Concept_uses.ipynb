{
 "cells": [
  {
   "cell_type": "code",
   "execution_count": null,
   "metadata": {},
   "outputs": [],
   "source": [
    "import numpy as np\n",
    "from sympy import *\n",
    "import matplotlib.pyplot as plt"
   ]
  },
  {
   "cell_type": "markdown",
   "metadata": {},
   "source": [
    "---\n",
    "# Concept and uses of the inverse\n",
    "---"
   ]
  },
  {
   "cell_type": "code",
   "execution_count": null,
   "metadata": {},
   "outputs": [],
   "source": [
    "# size of square matrix\n",
    "m = 3\n",
    "\n",
    "# generate random matrix\n",
    "A = np.random.randn(m,m)\n",
    "\n",
    "# compute its inverse\n",
    "Ainv = np.linalg.inv(A)\n",
    "\n",
    "# and check the multiplication\n",
    "idm = A@Ainv\n",
    "\n",
    "# print the matrix. Note the computer rounding errors on the off-diagonals\n",
    "print(idm)"
   ]
  },
  {
   "cell_type": "code",
   "execution_count": null,
   "metadata": {},
   "outputs": [],
   "source": [
    "# show in an image\n",
    "plt.subplot(131)\n",
    "plt.imshow(A)\n",
    "plt.title('Matrix A')\n",
    "\n",
    "plt.subplot(132)\n",
    "plt.imshow(Ainv)\n",
    "plt.title('Matrix $A^{-1}$')\n",
    "\n",
    "plt.subplot(133)\n",
    "plt.imshow(idm)\n",
    "plt.title('AA$^{-1}$')\n",
    "\n",
    "plt.show()\n"
   ]
  }
 ],
 "metadata": {
  "language_info": {
   "name": "python"
  }
 },
 "nbformat": 4,
 "nbformat_minor": 2
}
