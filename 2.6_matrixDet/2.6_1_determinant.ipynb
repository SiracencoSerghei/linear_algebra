{
  "cells": [
    {
      "cell_type": "markdown",
      "metadata": {
        "id": "view-in-github",
        "colab_type": "text"
      },
      "source": [
        "<a href=\"https://colab.research.google.com/github/SiracencoSerghei/linear_algebra/blob/main/2.6_matrixDet/2.6_1_determinant.ipynb\" target=\"_parent\"><img src=\"https://colab.research.google.com/assets/colab-badge.svg\" alt=\"Open In Colab\"/></a>"
      ]
    },
    {
      "cell_type": "code",
      "execution_count": 1,
      "metadata": {
        "id": "GCg8Uy4WOyYq"
      },
      "outputs": [],
      "source": [
        "import numpy as np"
      ]
    },
    {
      "cell_type": "markdown",
      "metadata": {
        "id": "DKKN7Hy9OyYq"
      },
      "source": [
        "---\n",
        "# Matrix Determinant\n",
        "---"
      ]
    },
    {
      "cell_type": "markdown",
      "source": [
        "In the real world when you are applying linear algebra to solve problems in data analysis or statistics or machine learning of course the computer implements a lot of the mechanistic details and what is much more important is that you understand the concepts and the uses and the limitations of various procedures and algorithms."
      ],
      "metadata": {
        "id": "MVJgCbvMPjub"
      }
    },
    {
      "cell_type": "code",
      "execution_count": 3,
      "metadata": {
        "id": "CV2G5xZ-OyYr",
        "outputId": "65622df9-e431-4bcd-959f-b1d2ecdbadd7",
        "colab": {
          "base_uri": "https://localhost:8080/"
        }
      },
      "outputs": [
        {
          "output_type": "stream",
          "name": "stdout",
          "text": [
            "The columns of the matrix are linearly dependent.\n"
          ]
        }
      ],
      "source": [
        "\n",
        "# Example matrix\n",
        "A = np.array([[1, 2, 1],\n",
        "              [3, 6, 3],\n",
        "              [5, 10, 5]])\n",
        "\n",
        "# Check rank\n",
        "rank_A = np.linalg.matrix_rank(A)\n",
        "\n",
        "# Linear dependence check\n",
        "if rank_A < A.shape[1]:\n",
        "    print(\"The columns of the matrix are linearly dependent.\")\n",
        "else:\n",
        "    print(\"The columns of the matrix are linearly independent.\")"
      ]
    }
  ],
  "metadata": {
    "kernelspec": {
      "display_name": "Python 3",
      "language": "python",
      "name": "python3"
    },
    "language_info": {
      "codemirror_mode": {
        "name": "ipython",
        "version": 3
      },
      "file_extension": ".py",
      "mimetype": "text/x-python",
      "name": "python",
      "nbconvert_exporter": "python",
      "pygments_lexer": "ipython3",
      "version": "3.9.7"
    },
    "colab": {
      "provenance": [],
      "include_colab_link": true
    }
  },
  "nbformat": 4,
  "nbformat_minor": 0
}