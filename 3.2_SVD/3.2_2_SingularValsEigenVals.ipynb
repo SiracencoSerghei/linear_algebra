{
  "cells": [
    {
      "cell_type": "markdown",
      "metadata": {
        "id": "view-in-github",
        "colab_type": "text"
      },
      "source": [
        "<a href=\"https://colab.research.google.com/github/SiracencoSerghei/linear_algebra/blob/main/3.2_SVD/3.2_2_SingularValsEigenVals.ipynb\" target=\"_parent\"><img src=\"https://colab.research.google.com/assets/colab-badge.svg\" alt=\"Open In Colab\"/></a>"
      ]
    },
    {
      "cell_type": "code",
      "execution_count": 1,
      "metadata": {
        "id": "JotXERmANICN"
      },
      "outputs": [],
      "source": [
        "import numpy as np\n",
        "import matplotlib.pyplot as plt"
      ]
    },
    {
      "cell_type": "markdown",
      "metadata": {
        "id": "rVNEaI0tNICN"
      },
      "source": [
        "---\n",
        "# Relation between singular values and eigenvalues\n",
        "---"
      ]
    },
    {
      "cell_type": "code",
      "execution_count": 2,
      "metadata": {
        "id": "vBmj7jpjNICO",
        "outputId": "e9be5e0e-a4ed-4a50-a4b4-72409f839336",
        "colab": {
          "base_uri": "https://localhost:8080/"
        }
      },
      "outputs": [
        {
          "output_type": "stream",
          "name": "stdout",
          "text": [
            "[ 0.          0.34314575 11.65685425]\n",
            "[ 0.34314575 11.65685425]\n"
          ]
        }
      ],
      "source": [
        "# case 1: eig(A'A) vs. svd(A)\n",
        "\n",
        "A = np.array([ [3,1,0], [1,1,0] ])\n",
        "\n",
        "print( np.sort(np.linalg.eig(A.T@A)[0]) )\n",
        "print( np.sort(np.linalg.svd(A)[1])**2 )"
      ]
    },
    {
      "cell_type": "code",
      "execution_count": 3,
      "metadata": {
        "id": "QREDtnBXNICO",
        "outputId": "5c587c04-06cd-47f0-ab56-c59cb1a94062",
        "colab": {
          "base_uri": "https://localhost:8080/"
        }
      },
      "outputs": [
        {
          "output_type": "stream",
          "name": "stdout",
          "text": [
            "[ 0.          0.34314575 11.65685425]\n",
            "[ 0.          0.34314575 11.65685425]\n"
          ]
        }
      ],
      "source": [
        "# case 2: eig(A'A) vs. svd(A'A)\n",
        "\n",
        "print(np.sort(np.linalg.eig(A.T@A)[0]))\n",
        "print(np.sort(np.linalg.svd(A.T@A)[1]))"
      ]
    },
    {
      "cell_type": "code",
      "execution_count": 4,
      "metadata": {
        "id": "NELdmWNdNICO",
        "outputId": "0d15fcb9-dbba-41c0-b544-22da2d5091f0",
        "colab": {
          "base_uri": "https://localhost:8080/"
        }
      },
      "outputs": [
        {
          "output_type": "stream",
          "name": "stdout",
          "text": [
            "[0.58578644 1.         3.41421356]\n",
            "[0.49384652 1.10038368 3.68039011]\n"
          ]
        }
      ],
      "source": [
        "# case 3a: eig(A) vs. svd(A), real-valued eigs\n",
        "\n",
        "# need a square matrix for eig\n",
        "A = [ [3,1,0], [1,1,0], [1,1,1]]\n",
        "\n",
        "print(np.sort(np.linalg.eig(A)[0]))\n",
        "print(np.sort(np.linalg.svd(A)[1]))"
      ]
    },
    {
      "cell_type": "code",
      "execution_count": 6,
      "metadata": {
        "id": "PEmhXRQ5NICO",
        "outputId": "f41cd1da-de4a-4ec3-baed-4f0f1e65c593",
        "colab": {
          "base_uri": "https://localhost:8080/"
        }
      },
      "outputs": [
        {
          "output_type": "stream",
          "name": "stdout",
          "text": [
            "[-0.58834196-0.34724282j -0.58834196+0.34724282j  0.26578413+0.j        ]\n",
            "[0.07210863 0.67513951 2.54805189]\n"
          ]
        }
      ],
      "source": [
        "# case 3b: eig(A) vs. svd(A), complex eigs\n",
        "\n",
        "# random matrices are likely to give complex eigenvalues\n",
        "A = np.random.randn(3,3)\n",
        "\n",
        "print(np.sort(np.linalg.eig(A)[0]))\n",
        "print(np.sort(np.linalg.svd(A)[1]))"
      ]
    },
    {
      "cell_type": "markdown",
      "source": [
        "---\n",
        "# Code Challenge: U from EigenDecomposition of A^TA\n",
        "---"
      ],
      "metadata": {
        "id": "PL1UA7MLP_Yf"
      }
    },
    {
      "cell_type": "code",
      "source": [
        "# create a matrix (3x6)\n",
        "m = 3\n",
        "n = 6\n",
        "A = np.random.randn(m,n)\n",
        "\n",
        "# full SVD (variables Us,Ss,Vs)\n",
        "Us, Ss, Vs = np.linalg.svd(A)\n",
        "\n",
        "# eig of A'A\n",
        "L,V = np.linalg.eig(A.T@A)\n",
        "# sort eigsolutions (outputs)\n",
        "sidx = np.argsort(L)[::-1]\n",
        "L = L[sidx]\n",
        "V = V[:,sidx]"
      ],
      "metadata": {
        "id": "3rmZnnOvQN7I"
      },
      "execution_count": 7,
      "outputs": []
    },
    {
      "cell_type": "code",
      "source": [
        "# confirm that V==Vs\n",
        "print( np.round(Vs.T - V,2)), print(' ')\n",
        "print( np.round(Vs.T + V,2))"
      ],
      "metadata": {
        "id": "fT7VxzJiS2tY",
        "outputId": "ca5693bd-9f3e-4b8a-c905-6ab613bc8136",
        "colab": {
          "base_uri": "https://localhost:8080/"
        }
      },
      "execution_count": 11,
      "outputs": [
        {
          "output_type": "stream",
          "name": "stdout",
          "text": [
            "[[-0.57 -0.13  1.81  0.12 -0.23  0.27]\n",
            " [ 1.22 -0.99  0.53 -0.72  0.48 -0.25]\n",
            " [-0.34  0.67  0.49 -0.34  0.52 -0.47]\n",
            " [-0.21 -1.4  -0.12  0.66 -0.3   0.1 ]\n",
            " [ 1.32  0.67  0.41  0.99 -0.35 -0.23]\n",
            " [ 0.53  0.34 -0.02 -0.62 -0.28  1.18]]\n",
            " \n",
            "[[-0.   -0.   -0.    0.16 -0.3  -0.33]\n",
            " [ 0.    0.    0.   -0.36 -0.32  0.42]\n",
            " [-0.   -0.    0.   -0.08  1.07  1.18]\n",
            " [ 0.   -0.   -0.    0.48  1.04  0.24]\n",
            " [ 0.    0.    0.    0.04  0.77 -0.41]\n",
            " [ 0.    0.    0.    1.07 -0.39  0.54]]\n"
          ]
        }
      ]
    },
    {
      "cell_type": "code",
      "source": [
        "# chech the relationship between Ss and L\n",
        "print(L), print(' ')\n",
        "print(Ss**2)"
      ],
      "metadata": {
        "id": "wbmrMur4TOHV",
        "outputId": "db4f278e-1085-46a4-ea64-5347a662c824",
        "colab": {
          "base_uri": "https://localhost:8080/"
        }
      },
      "execution_count": 9,
      "outputs": [
        {
          "output_type": "stream",
          "name": "stdout",
          "text": [
            "[ 4.60288472e+00  3.41620113e+00  1.70356386e+00  1.96848269e-16\n",
            " -6.17698515e-17 -4.44089210e-16]\n",
            " \n",
            "[4.60288472 3.41620113 1.70356386]\n"
          ]
        }
      ]
    },
    {
      "cell_type": "code",
      "source": [
        "# Create U using only A, V, L\n",
        "U = np.zeros((m,m))\n",
        "for i in range(m):\n",
        "  U[:,i] = A@V[:,i].T/np.sqrt(L[i])\n",
        "\n",
        "# confirm that U==Us\n",
        "print(np.round( U-Us,2 ))\n"
      ],
      "metadata": {
        "id": "5Z0f5ZglTrJF",
        "outputId": "84ff154f-6a17-46fd-b5c5-0e259cf05065",
        "colab": {
          "base_uri": "https://localhost:8080/"
        }
      },
      "execution_count": 13,
      "outputs": [
        {
          "output_type": "stream",
          "name": "stdout",
          "text": [
            "[[ 1.04 -0.29  1.68]\n",
            " [ 0.19  1.98  0.23]\n",
            " [ 1.7  -0.04 -1.06]]\n"
          ]
        }
      ]
    }
  ],
  "metadata": {
    "language_info": {
      "name": "python"
    },
    "colab": {
      "provenance": [],
      "include_colab_link": true
    },
    "kernelspec": {
      "name": "python3",
      "display_name": "Python 3"
    }
  },
  "nbformat": 4,
  "nbformat_minor": 0
}