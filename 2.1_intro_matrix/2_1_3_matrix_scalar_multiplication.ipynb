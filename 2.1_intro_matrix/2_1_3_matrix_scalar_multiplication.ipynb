{
 "cells": [
  {
   "cell_type": "code",
   "execution_count": 1,
   "metadata": {},
   "outputs": [],
   "source": [
    "import numpy as np"
   ]
  },
  {
   "cell_type": "markdown",
   "metadata": {},
   "source": [
    "---\n",
    "# matrix-scalar multiplication\n",
    "---"
   ]
  },
  {
   "cell_type": "code",
   "execution_count": 3,
   "metadata": {},
   "outputs": [
    {
     "name": "stdout",
     "output_type": "stream",
     "text": [
      "[[ 2  4]\n",
      " [ 4 10]]\n",
      "[[ 2  4]\n",
      " [ 4 10]]\n"
     ]
    }
   ],
   "source": [
    "# define matrix and scalar\n",
    "M = np.array([ [1, 2], [2, 5] ])\n",
    "s = 2\n",
    "\n",
    "# pre- and post-multiplication is the same:\n",
    "print( M*s )\n",
    "print( s*M )\n"
   ]
  },
  {
   "cell_type": "code",
   "execution_count": 7,
   "metadata": {},
   "outputs": [
    {
     "name": "stdout",
     "output_type": "stream",
     "text": [
      "[[-0.11040784 -0.32114107 -0.1593138  -0.22252587  0.12846379]\n",
      " [-0.14340649  0.06791943  0.49862472  0.16334734 -0.03553503]\n",
      " [ 0.05067113  0.02880223  0.08076858 -0.07514954  0.10456388]\n",
      " [-0.08428637 -0.12605724 -0.17254988 -0.1291866   0.07337697]\n",
      " [ 0.25737756  0.16964824  0.20430015 -0.04906575 -0.04884535]\n",
      " [-0.06258909  0.3614903  -0.02131677 -0.14749324  0.09847738]\n",
      " [ 0.18890325 -0.0692917  -0.25647079  0.06002271  0.1702287 ]]\n",
      " \n",
      "[[-0.11040784 -0.32114107 -0.1593138  -0.22252587  0.12846379]\n",
      " [-0.14340649  0.06791943  0.49862472  0.16334734 -0.03553503]\n",
      " [ 0.05067113  0.02880223  0.08076858 -0.07514954  0.10456388]\n",
      " [-0.08428637 -0.12605724 -0.17254988 -0.1291866   0.07337697]\n",
      " [ 0.25737756  0.16964824  0.20430015 -0.04906575 -0.04884535]\n",
      " [-0.06258909  0.3614903  -0.02131677 -0.14749324  0.09847738]\n",
      " [ 0.18890325 -0.0692917  -0.25647079  0.06002271  0.1702287 ]]\n",
      " \n",
      "[[ 0.00000000e+00  5.55111512e-17  2.77555756e-17  0.00000000e+00\n",
      "   0.00000000e+00]\n",
      " [ 0.00000000e+00  0.00000000e+00 -5.55111512e-17 -2.77555756e-17\n",
      "  -6.93889390e-18]\n",
      " [ 1.38777878e-17 -3.46944695e-18  0.00000000e+00 -1.38777878e-17\n",
      "  -2.77555756e-17]\n",
      " [ 0.00000000e+00  0.00000000e+00  0.00000000e+00  5.55111512e-17\n",
      "   1.38777878e-17]\n",
      " [ 0.00000000e+00  0.00000000e+00  0.00000000e+00  0.00000000e+00\n",
      "   0.00000000e+00]\n",
      " [-1.38777878e-17  0.00000000e+00  0.00000000e+00  0.00000000e+00\n",
      "   0.00000000e+00]\n",
      " [ 0.00000000e+00  0.00000000e+00  0.00000000e+00  1.38777878e-17\n",
      "   2.77555756e-17]]\n"
     ]
    }
   ],
   "source": [
    "# matrix sizes\n",
    "m = 7\n",
    "n = 5\n",
    "\n",
    "# create two matrices\n",
    "A = np.random.randn(m,n)\n",
    "B = np.random.randn(m,n)\n",
    "\n",
    "# scalar\n",
    "s = np.random.randn()\n",
    "\n",
    "# compute both sides of the equation\n",
    "resL = s * (A+B)\n",
    "resR = s*A + s*B\n",
    "\n",
    "print(resL), print(' ')\n",
    "print(resR), print(' ')\n",
    "print(resL - resR)\n"
   ]
  }
 ],
 "metadata": {
  "kernelspec": {
   "display_name": "Python 3",
   "language": "python",
   "name": "python3"
  },
  "language_info": {
   "codemirror_mode": {
    "name": "ipython",
    "version": 3
   },
   "file_extension": ".py",
   "mimetype": "text/x-python",
   "name": "python",
   "nbconvert_exporter": "python",
   "pygments_lexer": "ipython3",
   "version": "3.9.7"
  }
 },
 "nbformat": 4,
 "nbformat_minor": 2
}
