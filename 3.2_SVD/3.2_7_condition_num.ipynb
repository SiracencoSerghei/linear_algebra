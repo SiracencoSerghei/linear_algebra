{
 "cells": [
  {
   "cell_type": "code",
   "execution_count": null,
   "metadata": {},
   "outputs": [],
   "source": [
    "import numpy as np\n",
    "import matplotlib.pyplot as plt\n",
    "from mpl_toolkits.mplot3d import Axes3D"
   ]
  },
  {
   "cell_type": "markdown",
   "metadata": {},
   "source": [
    "---\n",
    "# Condition number of a matrix\n",
    "---"
   ]
  },
  {
   "cell_type": "code",
   "execution_count": null,
   "metadata": {},
   "outputs": [],
   "source": [
    "# matrix sizes\n",
    "m = 40\n",
    "\n",
    "# define a 2D Gaussian for smoothing\n",
    "k = int( (m+n)/4 )\n",
    "xx = np.linspace(-3,3,k)\n",
    "[X,Y] = np.meshgrid(xx,xx)\n",
    "g2d = np.exp(-(X**2 + Y**2) / (k/8))\n",
    "\n",
    "# matrix\n",
    "A = np.random.randn(m,m)\n",
    "A = scipy.signal.convolve2d(A,g2d,'same')\n",
    "\n",
    "\n",
    "\n",
    "# SVD\n",
    "S = np.linalg.svd(A)[1]\n",
    "\n",
    "# compute condition number\n",
    "condnum = S[0]/S[-1]\n",
    "print(S[0],S[-1])\n",
    "\n",
    "# show the matrix\n",
    "plt.subplot(211)\n",
    "plt.imshow(A)\n",
    "plt.axis('off')\n",
    "plt.title('Cond.num: %d' %condnum)\n",
    "\n",
    "plt.subplot(212)\n",
    "plt.plot(S,'ks-')\n",
    "plt.xlabel('Component number')\n",
    "plt.ylabel('$\\sigma$')\n",
    "plt.title('\"Scree plot\" of singular values')\n",
    "\n",
    "plt.show()"
   ]
  },
  {
   "cell_type": "code",
   "execution_count": null,
   "metadata": {},
   "outputs": [],
   "source": [
    "## sphere\n",
    "\n",
    "# the transformation matrix T\n",
    "T = np.eye(3)\n",
    "T[-1,-1] = .5\n",
    "\n",
    "\n",
    "fig = plt.figure()\n",
    "ax = fig.add_subplot(111, projection='3d')\n",
    "\n",
    "# Make data\n",
    "n = 21\n",
    "u = np.linspace(0, 2*np.pi,n)\n",
    "v = np.linspace(0, np.pi,n)\n",
    "x = np.outer(np.cos(u), np.sin(v))\n",
    "y = np.outer(np.sin(u), np.sin(v))\n",
    "z = np.outer(np.ones(np.size(u)), np.cos(v))\n",
    "\n",
    "# put coords in a matrix to be transformed\n",
    "M = np.concatenate( (np.reshape(x,(n*n,1)),np.reshape(y,(n*n,1)),np.reshape(z,(n*n,1))) ,axis=1)\n",
    "\n",
    "# apply the transformation matrix to the coordinates\n",
    "TM = T@M.T\n",
    "\n",
    "# get out the new coordinates\n",
    "xp = np.reshape(TM[0,:],(n,n))\n",
    "yp = np.reshape(TM[1,:],(n,n))\n",
    "zp = np.reshape(TM[2,:],(n,n))\n",
    "\n",
    "# Plot the surface\n",
    "ax.plot_surface(xp,yp,zp, color='b')\n",
    "ax.axis('square')\n",
    "ax.set_xlim3d(-1,1)\n",
    "ax.set_ylim3d(-1,1)\n",
    "ax.set_zlim3d(-1,1)\n",
    "\n",
    "plt.show()"
   ]
  }
 ],
 "metadata": {
  "language_info": {
   "name": "python"
  }
 },
 "nbformat": 4,
 "nbformat_minor": 2
}
